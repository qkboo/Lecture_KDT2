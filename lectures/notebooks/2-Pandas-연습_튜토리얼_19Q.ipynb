{
 "cells": [
  {
   "cell_type": "markdown",
   "id": "6ae86f73-aa19-4de1-9b48-a0e7ed8dd682",
   "metadata": {},
   "source": [
    "# 판다스 연습 튜토리얼 20 / 100"
   ]
  },
  {
   "cell_type": "markdown",
   "id": "332fdb30-eb07-49ba-b665-d27f399872d5",
   "metadata": {},
   "source": [
    "목차 및 구성 출처 : https://github.com/guipsamora/pandas_exercises\n"
   ]
  },
  {
   "cell_type": "markdown",
   "id": "ec9fab70-be87-4074-9b22-44ee99be664b",
   "metadata": {},
   "source": [
    "# 01 Getting & Knowing Data"
   ]
  },
  {
   "cell_type": "code",
   "execution_count": 2,
   "id": "0fe26dc6-68ef-4e38-890f-34a8e721efdd",
   "metadata": {
    "ExecuteTime": {
     "end_time": "2022-02-19T18:22:27.096949Z",
     "start_time": "2022-02-19T18:22:26.651425Z"
    }
   },
   "outputs": [],
   "source": [
    "import pandas as pd"
   ]
  },
  {
   "cell_type": "markdown",
   "id": "9d1fc2bb-ed8b-474f-ac6c-f17c2a323eb8",
   "metadata": {},
   "source": [
    "## LoL 랭킹 데이터\n",
    " - https://www.kaggle.com/datasnaek/league-of-legends    \n",
    " - data url: https://raw.githubusercontent.com/Datamanim/pandas/main/lol.csv\n"
   ]
  },
  {
   "cell_type": "markdown",
   "id": "06eeb108-f46b-4262-8c39-a33eadecf21f",
   "metadata": {},
   "source": [
    "### Question 1\n",
    "\n",
    "위 data url 의 csv 파일을 pandas로 로드하자. 데이터는 `\\t` 을 기준으로 구분되어있다.\n"
   ]
  },
  {
   "cell_type": "code",
   "execution_count": 3,
   "id": "b37bf6f2-c01f-49dc-b938-51638203e149",
   "metadata": {
    "ExecuteTime": {
     "end_time": "2022-02-19T18:22:27.726606Z",
     "start_time": "2022-02-19T18:22:27.098129Z"
    }
   },
   "outputs": [],
   "source": [
    "\n",
    "\n"
   ]
  },
  {
   "cell_type": "markdown",
   "id": "61a3e892-5a8e-4696-8ea5-9b5cebd40422",
   "metadata": {},
   "source": [
    "### Question 2\n",
    "\n",
    "**데이터의 상위 5개 행을 출력하라**"
   ]
  },
  {
   "cell_type": "code",
   "execution_count": 4,
   "id": "352e7ca7-9de0-4ab4-bebc-ce4389d23617",
   "metadata": {
    "ExecuteTime": {
     "end_time": "2022-02-19T18:22:27.766817Z",
     "start_time": "2022-02-19T18:22:27.764087Z"
    },
    "tags": [
     "hide-input"
    ]
   },
   "outputs": [
    {
     "data": {
      "text/html": [
       "<div>\n",
       "<style scoped>\n",
       "    .dataframe tbody tr th:only-of-type {\n",
       "        vertical-align: middle;\n",
       "    }\n",
       "\n",
       "    .dataframe tbody tr th {\n",
       "        vertical-align: top;\n",
       "    }\n",
       "\n",
       "    .dataframe thead th {\n",
       "        text-align: right;\n",
       "    }\n",
       "</style>\n",
       "<table border=\"1\" class=\"dataframe\">\n",
       "  <thead>\n",
       "    <tr style=\"text-align: right;\">\n",
       "      <th></th>\n",
       "      <th>gameId</th>\n",
       "      <th>creationTime</th>\n",
       "      <th>gameDuration</th>\n",
       "      <th>seasonId</th>\n",
       "      <th>winner</th>\n",
       "      <th>firstBlood</th>\n",
       "      <th>firstTower</th>\n",
       "      <th>firstInhibitor</th>\n",
       "      <th>firstBaron</th>\n",
       "      <th>firstDragon</th>\n",
       "      <th>...</th>\n",
       "      <th>t2_towerKills</th>\n",
       "      <th>t2_inhibitorKills</th>\n",
       "      <th>t2_baronKills</th>\n",
       "      <th>t2_dragonKills</th>\n",
       "      <th>t2_riftHeraldKills</th>\n",
       "      <th>t2_ban1</th>\n",
       "      <th>t2_ban2</th>\n",
       "      <th>t2_ban3</th>\n",
       "      <th>t2_ban4</th>\n",
       "      <th>t2_ban5</th>\n",
       "    </tr>\n",
       "  </thead>\n",
       "  <tbody>\n",
       "    <tr>\n",
       "      <th>0</th>\n",
       "      <td>3326086514</td>\n",
       "      <td>1504279457970</td>\n",
       "      <td>1949</td>\n",
       "      <td>9</td>\n",
       "      <td>1</td>\n",
       "      <td>2</td>\n",
       "      <td>1</td>\n",
       "      <td>1</td>\n",
       "      <td>1</td>\n",
       "      <td>1</td>\n",
       "      <td>...</td>\n",
       "      <td>5</td>\n",
       "      <td>0</td>\n",
       "      <td>0</td>\n",
       "      <td>1</td>\n",
       "      <td>1</td>\n",
       "      <td>114</td>\n",
       "      <td>67</td>\n",
       "      <td>43</td>\n",
       "      <td>16</td>\n",
       "      <td>51</td>\n",
       "    </tr>\n",
       "    <tr>\n",
       "      <th>1</th>\n",
       "      <td>3229566029</td>\n",
       "      <td>1497848803862</td>\n",
       "      <td>1851</td>\n",
       "      <td>9</td>\n",
       "      <td>1</td>\n",
       "      <td>1</td>\n",
       "      <td>1</td>\n",
       "      <td>1</td>\n",
       "      <td>0</td>\n",
       "      <td>1</td>\n",
       "      <td>...</td>\n",
       "      <td>2</td>\n",
       "      <td>0</td>\n",
       "      <td>0</td>\n",
       "      <td>0</td>\n",
       "      <td>0</td>\n",
       "      <td>11</td>\n",
       "      <td>67</td>\n",
       "      <td>238</td>\n",
       "      <td>51</td>\n",
       "      <td>420</td>\n",
       "    </tr>\n",
       "    <tr>\n",
       "      <th>2</th>\n",
       "      <td>3327363504</td>\n",
       "      <td>1504360103310</td>\n",
       "      <td>1493</td>\n",
       "      <td>9</td>\n",
       "      <td>1</td>\n",
       "      <td>2</td>\n",
       "      <td>1</td>\n",
       "      <td>1</td>\n",
       "      <td>1</td>\n",
       "      <td>2</td>\n",
       "      <td>...</td>\n",
       "      <td>2</td>\n",
       "      <td>0</td>\n",
       "      <td>0</td>\n",
       "      <td>1</td>\n",
       "      <td>0</td>\n",
       "      <td>157</td>\n",
       "      <td>238</td>\n",
       "      <td>121</td>\n",
       "      <td>57</td>\n",
       "      <td>28</td>\n",
       "    </tr>\n",
       "    <tr>\n",
       "      <th>3</th>\n",
       "      <td>3326856598</td>\n",
       "      <td>1504348503996</td>\n",
       "      <td>1758</td>\n",
       "      <td>9</td>\n",
       "      <td>1</td>\n",
       "      <td>1</td>\n",
       "      <td>1</td>\n",
       "      <td>1</td>\n",
       "      <td>1</td>\n",
       "      <td>1</td>\n",
       "      <td>...</td>\n",
       "      <td>0</td>\n",
       "      <td>0</td>\n",
       "      <td>0</td>\n",
       "      <td>0</td>\n",
       "      <td>0</td>\n",
       "      <td>164</td>\n",
       "      <td>18</td>\n",
       "      <td>141</td>\n",
       "      <td>40</td>\n",
       "      <td>51</td>\n",
       "    </tr>\n",
       "    <tr>\n",
       "      <th>4</th>\n",
       "      <td>3330080762</td>\n",
       "      <td>1504554410899</td>\n",
       "      <td>2094</td>\n",
       "      <td>9</td>\n",
       "      <td>1</td>\n",
       "      <td>2</td>\n",
       "      <td>1</td>\n",
       "      <td>1</td>\n",
       "      <td>1</td>\n",
       "      <td>1</td>\n",
       "      <td>...</td>\n",
       "      <td>3</td>\n",
       "      <td>0</td>\n",
       "      <td>0</td>\n",
       "      <td>1</td>\n",
       "      <td>0</td>\n",
       "      <td>86</td>\n",
       "      <td>11</td>\n",
       "      <td>201</td>\n",
       "      <td>122</td>\n",
       "      <td>18</td>\n",
       "    </tr>\n",
       "  </tbody>\n",
       "</table>\n",
       "<p>5 rows × 61 columns</p>\n",
       "</div>"
      ],
      "text/plain": [
       "       gameId   creationTime  gameDuration  seasonId  winner  firstBlood  \\\n",
       "0  3326086514  1504279457970          1949         9       1           2   \n",
       "1  3229566029  1497848803862          1851         9       1           1   \n",
       "2  3327363504  1504360103310          1493         9       1           2   \n",
       "3  3326856598  1504348503996          1758         9       1           1   \n",
       "4  3330080762  1504554410899          2094         9       1           2   \n",
       "\n",
       "   firstTower  firstInhibitor  firstBaron  firstDragon  ...  t2_towerKills  \\\n",
       "0           1               1           1            1  ...              5   \n",
       "1           1               1           0            1  ...              2   \n",
       "2           1               1           1            2  ...              2   \n",
       "3           1               1           1            1  ...              0   \n",
       "4           1               1           1            1  ...              3   \n",
       "\n",
       "   t2_inhibitorKills  t2_baronKills  t2_dragonKills  t2_riftHeraldKills  \\\n",
       "0                  0              0               1                   1   \n",
       "1                  0              0               0                   0   \n",
       "2                  0              0               1                   0   \n",
       "3                  0              0               0                   0   \n",
       "4                  0              0               1                   0   \n",
       "\n",
       "   t2_ban1  t2_ban2  t2_ban3  t2_ban4  t2_ban5  \n",
       "0      114       67       43       16       51  \n",
       "1       11       67      238       51      420  \n",
       "2      157      238      121       57       28  \n",
       "3      164       18      141       40       51  \n",
       "4       86       11      201      122       18  \n",
       "\n",
       "[5 rows x 61 columns]"
      ]
     },
     "execution_count": 4,
     "metadata": {},
     "output_type": "execute_result"
    }
   ],
   "source": [
    "\n",
    "\n"
   ]
  },
  {
   "cell_type": "markdown",
   "id": "bea4c92c-6aa0-4d64-8da6-d975806de33d",
   "metadata": {
    "ExecuteTime": {
     "end_time": "2022-02-19T18:22:27.783537Z",
     "start_time": "2022-02-19T18:22:27.768463Z"
    }
   },
   "source": [
    "데이터에서 하위 내역 10개를 출력하자"
   ]
  },
  {
   "cell_type": "code",
   "execution_count": 8,
   "id": "ada29de2-8583-4853-a936-a620d32dc660",
   "metadata": {},
   "outputs": [
    {
     "data": {
      "text/html": [
       "<div>\n",
       "<style scoped>\n",
       "    .dataframe tbody tr th:only-of-type {\n",
       "        vertical-align: middle;\n",
       "    }\n",
       "\n",
       "    .dataframe tbody tr th {\n",
       "        vertical-align: top;\n",
       "    }\n",
       "\n",
       "    .dataframe thead th {\n",
       "        text-align: right;\n",
       "    }\n",
       "</style>\n",
       "<table border=\"1\" class=\"dataframe\">\n",
       "  <thead>\n",
       "    <tr style=\"text-align: right;\">\n",
       "      <th></th>\n",
       "      <th>gameId</th>\n",
       "      <th>creationTime</th>\n",
       "      <th>gameDuration</th>\n",
       "      <th>seasonId</th>\n",
       "      <th>winner</th>\n",
       "      <th>firstBlood</th>\n",
       "      <th>firstTower</th>\n",
       "      <th>firstInhibitor</th>\n",
       "      <th>firstBaron</th>\n",
       "      <th>firstDragon</th>\n",
       "      <th>...</th>\n",
       "      <th>t2_towerKills</th>\n",
       "      <th>t2_inhibitorKills</th>\n",
       "      <th>t2_baronKills</th>\n",
       "      <th>t2_dragonKills</th>\n",
       "      <th>t2_riftHeraldKills</th>\n",
       "      <th>t2_ban1</th>\n",
       "      <th>t2_ban2</th>\n",
       "      <th>t2_ban3</th>\n",
       "      <th>t2_ban4</th>\n",
       "      <th>t2_ban5</th>\n",
       "    </tr>\n",
       "  </thead>\n",
       "  <tbody>\n",
       "    <tr>\n",
       "      <th>51480</th>\n",
       "      <td>3323042180</td>\n",
       "      <td>1504043178172</td>\n",
       "      <td>1713</td>\n",
       "      <td>9</td>\n",
       "      <td>2</td>\n",
       "      <td>1</td>\n",
       "      <td>2</td>\n",
       "      <td>2</td>\n",
       "      <td>2</td>\n",
       "      <td>1</td>\n",
       "      <td>...</td>\n",
       "      <td>10</td>\n",
       "      <td>2</td>\n",
       "      <td>1</td>\n",
       "      <td>1</td>\n",
       "      <td>1</td>\n",
       "      <td>202</td>\n",
       "      <td>90</td>\n",
       "      <td>29</td>\n",
       "      <td>36</td>\n",
       "      <td>28</td>\n",
       "    </tr>\n",
       "    <tr>\n",
       "      <th>51481</th>\n",
       "      <td>3269295840</td>\n",
       "      <td>1500411788750</td>\n",
       "      <td>2246</td>\n",
       "      <td>9</td>\n",
       "      <td>1</td>\n",
       "      <td>1</td>\n",
       "      <td>1</td>\n",
       "      <td>2</td>\n",
       "      <td>1</td>\n",
       "      <td>2</td>\n",
       "      <td>...</td>\n",
       "      <td>9</td>\n",
       "      <td>2</td>\n",
       "      <td>1</td>\n",
       "      <td>2</td>\n",
       "      <td>0</td>\n",
       "      <td>19</td>\n",
       "      <td>51</td>\n",
       "      <td>154</td>\n",
       "      <td>3</td>\n",
       "      <td>122</td>\n",
       "    </tr>\n",
       "    <tr>\n",
       "      <th>51482</th>\n",
       "      <td>3320507859</td>\n",
       "      <td>1503854048040</td>\n",
       "      <td>2522</td>\n",
       "      <td>9</td>\n",
       "      <td>2</td>\n",
       "      <td>1</td>\n",
       "      <td>1</td>\n",
       "      <td>2</td>\n",
       "      <td>2</td>\n",
       "      <td>2</td>\n",
       "      <td>...</td>\n",
       "      <td>11</td>\n",
       "      <td>6</td>\n",
       "      <td>3</td>\n",
       "      <td>5</td>\n",
       "      <td>0</td>\n",
       "      <td>157</td>\n",
       "      <td>122</td>\n",
       "      <td>79</td>\n",
       "      <td>238</td>\n",
       "      <td>141</td>\n",
       "    </tr>\n",
       "    <tr>\n",
       "      <th>51483</th>\n",
       "      <td>3328393516</td>\n",
       "      <td>1504448939147</td>\n",
       "      <td>1674</td>\n",
       "      <td>9</td>\n",
       "      <td>2</td>\n",
       "      <td>2</td>\n",
       "      <td>1</td>\n",
       "      <td>2</td>\n",
       "      <td>2</td>\n",
       "      <td>1</td>\n",
       "      <td>...</td>\n",
       "      <td>10</td>\n",
       "      <td>2</td>\n",
       "      <td>1</td>\n",
       "      <td>1</td>\n",
       "      <td>0</td>\n",
       "      <td>-1</td>\n",
       "      <td>412</td>\n",
       "      <td>19</td>\n",
       "      <td>40</td>\n",
       "      <td>29</td>\n",
       "    </tr>\n",
       "    <tr>\n",
       "      <th>51484</th>\n",
       "      <td>3316694929</td>\n",
       "      <td>1503589096685</td>\n",
       "      <td>2701</td>\n",
       "      <td>9</td>\n",
       "      <td>2</td>\n",
       "      <td>2</td>\n",
       "      <td>1</td>\n",
       "      <td>2</td>\n",
       "      <td>2</td>\n",
       "      <td>2</td>\n",
       "      <td>...</td>\n",
       "      <td>11</td>\n",
       "      <td>5</td>\n",
       "      <td>2</td>\n",
       "      <td>3</td>\n",
       "      <td>0</td>\n",
       "      <td>57</td>\n",
       "      <td>21</td>\n",
       "      <td>157</td>\n",
       "      <td>53</td>\n",
       "      <td>58</td>\n",
       "    </tr>\n",
       "    <tr>\n",
       "      <th>51485</th>\n",
       "      <td>3308904636</td>\n",
       "      <td>1503076540231</td>\n",
       "      <td>1944</td>\n",
       "      <td>9</td>\n",
       "      <td>2</td>\n",
       "      <td>1</td>\n",
       "      <td>2</td>\n",
       "      <td>2</td>\n",
       "      <td>0</td>\n",
       "      <td>2</td>\n",
       "      <td>...</td>\n",
       "      <td>10</td>\n",
       "      <td>2</td>\n",
       "      <td>0</td>\n",
       "      <td>4</td>\n",
       "      <td>0</td>\n",
       "      <td>55</td>\n",
       "      <td>-1</td>\n",
       "      <td>90</td>\n",
       "      <td>238</td>\n",
       "      <td>157</td>\n",
       "    </tr>\n",
       "    <tr>\n",
       "      <th>51486</th>\n",
       "      <td>3215685759</td>\n",
       "      <td>1496957179355</td>\n",
       "      <td>3304</td>\n",
       "      <td>9</td>\n",
       "      <td>2</td>\n",
       "      <td>1</td>\n",
       "      <td>1</td>\n",
       "      <td>2</td>\n",
       "      <td>2</td>\n",
       "      <td>2</td>\n",
       "      <td>...</td>\n",
       "      <td>11</td>\n",
       "      <td>7</td>\n",
       "      <td>4</td>\n",
       "      <td>4</td>\n",
       "      <td>1</td>\n",
       "      <td>157</td>\n",
       "      <td>55</td>\n",
       "      <td>119</td>\n",
       "      <td>154</td>\n",
       "      <td>105</td>\n",
       "    </tr>\n",
       "    <tr>\n",
       "      <th>51487</th>\n",
       "      <td>3322765040</td>\n",
       "      <td>1504029863961</td>\n",
       "      <td>2156</td>\n",
       "      <td>9</td>\n",
       "      <td>2</td>\n",
       "      <td>2</td>\n",
       "      <td>2</td>\n",
       "      <td>2</td>\n",
       "      <td>0</td>\n",
       "      <td>1</td>\n",
       "      <td>...</td>\n",
       "      <td>10</td>\n",
       "      <td>2</td>\n",
       "      <td>0</td>\n",
       "      <td>2</td>\n",
       "      <td>0</td>\n",
       "      <td>113</td>\n",
       "      <td>122</td>\n",
       "      <td>53</td>\n",
       "      <td>11</td>\n",
       "      <td>157</td>\n",
       "    </tr>\n",
       "    <tr>\n",
       "      <th>51488</th>\n",
       "      <td>3256675373</td>\n",
       "      <td>1499562036246</td>\n",
       "      <td>1475</td>\n",
       "      <td>9</td>\n",
       "      <td>2</td>\n",
       "      <td>2</td>\n",
       "      <td>2</td>\n",
       "      <td>2</td>\n",
       "      <td>0</td>\n",
       "      <td>2</td>\n",
       "      <td>...</td>\n",
       "      <td>11</td>\n",
       "      <td>3</td>\n",
       "      <td>0</td>\n",
       "      <td>1</td>\n",
       "      <td>0</td>\n",
       "      <td>154</td>\n",
       "      <td>39</td>\n",
       "      <td>51</td>\n",
       "      <td>90</td>\n",
       "      <td>114</td>\n",
       "    </tr>\n",
       "    <tr>\n",
       "      <th>51489</th>\n",
       "      <td>3317333020</td>\n",
       "      <td>1503612754059</td>\n",
       "      <td>1445</td>\n",
       "      <td>9</td>\n",
       "      <td>1</td>\n",
       "      <td>1</td>\n",
       "      <td>1</td>\n",
       "      <td>1</td>\n",
       "      <td>1</td>\n",
       "      <td>2</td>\n",
       "      <td>...</td>\n",
       "      <td>1</td>\n",
       "      <td>0</td>\n",
       "      <td>0</td>\n",
       "      <td>1</td>\n",
       "      <td>0</td>\n",
       "      <td>11</td>\n",
       "      <td>157</td>\n",
       "      <td>141</td>\n",
       "      <td>31</td>\n",
       "      <td>18</td>\n",
       "    </tr>\n",
       "  </tbody>\n",
       "</table>\n",
       "<p>10 rows × 61 columns</p>\n",
       "</div>"
      ],
      "text/plain": [
       "           gameId   creationTime  gameDuration  seasonId  winner  firstBlood  \\\n",
       "51480  3323042180  1504043178172          1713         9       2           1   \n",
       "51481  3269295840  1500411788750          2246         9       1           1   \n",
       "51482  3320507859  1503854048040          2522         9       2           1   \n",
       "51483  3328393516  1504448939147          1674         9       2           2   \n",
       "51484  3316694929  1503589096685          2701         9       2           2   \n",
       "51485  3308904636  1503076540231          1944         9       2           1   \n",
       "51486  3215685759  1496957179355          3304         9       2           1   \n",
       "51487  3322765040  1504029863961          2156         9       2           2   \n",
       "51488  3256675373  1499562036246          1475         9       2           2   \n",
       "51489  3317333020  1503612754059          1445         9       1           1   \n",
       "\n",
       "       firstTower  firstInhibitor  firstBaron  firstDragon  ...  \\\n",
       "51480           2               2           2            1  ...   \n",
       "51481           1               2           1            2  ...   \n",
       "51482           1               2           2            2  ...   \n",
       "51483           1               2           2            1  ...   \n",
       "51484           1               2           2            2  ...   \n",
       "51485           2               2           0            2  ...   \n",
       "51486           1               2           2            2  ...   \n",
       "51487           2               2           0            1  ...   \n",
       "51488           2               2           0            2  ...   \n",
       "51489           1               1           1            2  ...   \n",
       "\n",
       "       t2_towerKills  t2_inhibitorKills  t2_baronKills  t2_dragonKills  \\\n",
       "51480             10                  2              1               1   \n",
       "51481              9                  2              1               2   \n",
       "51482             11                  6              3               5   \n",
       "51483             10                  2              1               1   \n",
       "51484             11                  5              2               3   \n",
       "51485             10                  2              0               4   \n",
       "51486             11                  7              4               4   \n",
       "51487             10                  2              0               2   \n",
       "51488             11                  3              0               1   \n",
       "51489              1                  0              0               1   \n",
       "\n",
       "       t2_riftHeraldKills  t2_ban1  t2_ban2  t2_ban3  t2_ban4  t2_ban5  \n",
       "51480                   1      202       90       29       36       28  \n",
       "51481                   0       19       51      154        3      122  \n",
       "51482                   0      157      122       79      238      141  \n",
       "51483                   0       -1      412       19       40       29  \n",
       "51484                   0       57       21      157       53       58  \n",
       "51485                   0       55       -1       90      238      157  \n",
       "51486                   1      157       55      119      154      105  \n",
       "51487                   0      113      122       53       11      157  \n",
       "51488                   0      154       39       51       90      114  \n",
       "51489                   0       11      157      141       31       18  \n",
       "\n",
       "[10 rows x 61 columns]"
      ]
     },
     "execution_count": 8,
     "metadata": {},
     "output_type": "execute_result"
    }
   ],
   "source": [
    "\n",
    "\n"
   ]
  },
  {
   "cell_type": "markdown",
   "id": "2eff0c78-704a-4027-9ce9-7898c7eea079",
   "metadata": {},
   "source": []
  },
  {
   "cell_type": "markdown",
   "id": "a13c2733-6b29-40a9-a7c4-bb2a1275aefe",
   "metadata": {},
   "source": [
    "`iloc` 를 사용해서 데이터 마지막 위치의 5개를 출력해 보자"
   ]
  },
  {
   "cell_type": "code",
   "execution_count": 26,
   "id": "7874ec24-0466-4d41-b632-8eb6ec04bdef",
   "metadata": {},
   "outputs": [
    {
     "data": {
      "text/html": [
       "<div>\n",
       "<style scoped>\n",
       "    .dataframe tbody tr th:only-of-type {\n",
       "        vertical-align: middle;\n",
       "    }\n",
       "\n",
       "    .dataframe tbody tr th {\n",
       "        vertical-align: top;\n",
       "    }\n",
       "\n",
       "    .dataframe thead th {\n",
       "        text-align: right;\n",
       "    }\n",
       "</style>\n",
       "<table border=\"1\" class=\"dataframe\">\n",
       "  <thead>\n",
       "    <tr style=\"text-align: right;\">\n",
       "      <th></th>\n",
       "      <th>id</th>\n",
       "      <th>일자</th>\n",
       "      <th>시도명</th>\n",
       "      <th>읍면동명</th>\n",
       "      <th>거주인구</th>\n",
       "      <th>근무인구</th>\n",
       "      <th>방문인구</th>\n",
       "      <th>총 유동인구</th>\n",
       "      <th>평균 속도</th>\n",
       "      <th>평균 소요 시간</th>\n",
       "      <th>평균 기온</th>\n",
       "      <th>일강수량</th>\n",
       "      <th>평균 풍속</th>\n",
       "    </tr>\n",
       "  </thead>\n",
       "  <tbody>\n",
       "    <tr>\n",
       "      <th>9616</th>\n",
       "      <td>32064</td>\n",
       "      <td>2020-04-30</td>\n",
       "      <td>서귀포시</td>\n",
       "      <td>표선면</td>\n",
       "      <td>228260.005</td>\n",
       "      <td>16891.732</td>\n",
       "      <td>152832.449</td>\n",
       "      <td>397984.186</td>\n",
       "      <td>44.514</td>\n",
       "      <td>34.054</td>\n",
       "      <td>18.1</td>\n",
       "      <td>0.0</td>\n",
       "      <td>4.70</td>\n",
       "    </tr>\n",
       "    <tr>\n",
       "      <th>9617</th>\n",
       "      <td>32065</td>\n",
       "      <td>2020-04-30</td>\n",
       "      <td>제주시</td>\n",
       "      <td>한림읍</td>\n",
       "      <td>459959.064</td>\n",
       "      <td>26007.122</td>\n",
       "      <td>249700.419</td>\n",
       "      <td>735666.605</td>\n",
       "      <td>48.609</td>\n",
       "      <td>61.377</td>\n",
       "      <td>18.0</td>\n",
       "      <td>0.0</td>\n",
       "      <td>4.35</td>\n",
       "    </tr>\n",
       "    <tr>\n",
       "      <th>9618</th>\n",
       "      <td>32066</td>\n",
       "      <td>2020-04-30</td>\n",
       "      <td>제주시</td>\n",
       "      <td>도두동</td>\n",
       "      <td>28397.481</td>\n",
       "      <td>3144.895</td>\n",
       "      <td>84052.697</td>\n",
       "      <td>115595.073</td>\n",
       "      <td>41.053</td>\n",
       "      <td>29.421</td>\n",
       "      <td>20.3</td>\n",
       "      <td>0.0</td>\n",
       "      <td>3.00</td>\n",
       "    </tr>\n",
       "    <tr>\n",
       "      <th>9619</th>\n",
       "      <td>32067</td>\n",
       "      <td>2020-04-30</td>\n",
       "      <td>서귀포시</td>\n",
       "      <td>안덕면</td>\n",
       "      <td>348037.846</td>\n",
       "      <td>29106.286</td>\n",
       "      <td>251129.660</td>\n",
       "      <td>628273.792</td>\n",
       "      <td>46.595</td>\n",
       "      <td>49.189</td>\n",
       "      <td>17.6</td>\n",
       "      <td>0.0</td>\n",
       "      <td>3.50</td>\n",
       "    </tr>\n",
       "    <tr>\n",
       "      <th>9620</th>\n",
       "      <td>32068</td>\n",
       "      <td>2020-04-30</td>\n",
       "      <td>제주시</td>\n",
       "      <td>연동</td>\n",
       "      <td>1010643.372</td>\n",
       "      <td>65673.477</td>\n",
       "      <td>447622.068</td>\n",
       "      <td>1523938.917</td>\n",
       "      <td>40.863</td>\n",
       "      <td>27.765</td>\n",
       "      <td>14.1</td>\n",
       "      <td>0.0</td>\n",
       "      <td>4.80</td>\n",
       "    </tr>\n",
       "  </tbody>\n",
       "</table>\n",
       "</div>"
      ],
      "text/plain": [
       "         id          일자   시도명 읍면동명         거주인구       근무인구        방문인구  \\\n",
       "9616  32064  2020-04-30  서귀포시  표선면   228260.005  16891.732  152832.449   \n",
       "9617  32065  2020-04-30   제주시  한림읍   459959.064  26007.122  249700.419   \n",
       "9618  32066  2020-04-30   제주시  도두동    28397.481   3144.895   84052.697   \n",
       "9619  32067  2020-04-30  서귀포시  안덕면   348037.846  29106.286  251129.660   \n",
       "9620  32068  2020-04-30   제주시   연동  1010643.372  65673.477  447622.068   \n",
       "\n",
       "           총 유동인구   평균 속도  평균 소요 시간  평균 기온  일강수량  평균 풍속  \n",
       "9616   397984.186  44.514    34.054   18.1   0.0   4.70  \n",
       "9617   735666.605  48.609    61.377   18.0   0.0   4.35  \n",
       "9618   115595.073  41.053    29.421   20.3   0.0   3.00  \n",
       "9619   628273.792  46.595    49.189   17.6   0.0   3.50  \n",
       "9620  1523938.917  40.863    27.765   14.1   0.0   4.80  "
      ]
     },
     "execution_count": 26,
     "metadata": {},
     "output_type": "execute_result"
    }
   ],
   "source": [
    "\n",
    "\n"
   ]
  },
  {
   "cell_type": "markdown",
   "id": "33eaa956-a022-4c2e-9d1d-a8b2323ec1d4",
   "metadata": {},
   "source": [
    "### Question 3\n",
    "\n",
    "**데이터의 행과 열의 갯수를 파악하라**\n",
    "- shape 사용\n"
   ]
  },
  {
   "cell_type": "code",
   "execution_count": 6,
   "id": "6296b793-fdf2-4680-a34a-1bb35b09698e",
   "metadata": {
    "ExecuteTime": {
     "end_time": "2022-02-19T18:22:27.788561Z",
     "start_time": "2022-02-19T18:22:27.785039Z"
    },
    "tags": [
     "hide-input"
    ]
   },
   "outputs": [
    {
     "name": "stdout",
     "output_type": "stream",
     "text": [
      "(51490, 61)\n",
      "행: 51490\n",
      "열: 61\n"
     ]
    }
   ],
   "source": [
    "\n",
    "\n"
   ]
  },
  {
   "cell_type": "markdown",
   "id": "77ed303f-979e-45c3-9b38-a4755da57493",
   "metadata": {},
   "source": [
    "### Question 4\n",
    "\n",
    "**전체 컬럼을 result에 담아 출력하라**\n",
    "\n"
   ]
  },
  {
   "cell_type": "code",
   "execution_count": 9,
   "id": "ca80fd6a-cf4e-4225-9a6c-d142d5f30af3",
   "metadata": {
    "ExecuteTime": {
     "end_time": "2022-02-19T18:22:27.792618Z",
     "start_time": "2022-02-19T18:22:27.790293Z"
    },
    "tags": [
     "hide-input"
    ]
   },
   "outputs": [],
   "source": [
    "\n",
    "\n"
   ]
  },
  {
   "cell_type": "code",
   "execution_count": 10,
   "id": "661a4281-fd46-4754-96bb-cbc39ae44168",
   "metadata": {
    "ExecuteTime": {
     "end_time": "2022-02-19T18:22:27.797725Z",
     "start_time": "2022-02-19T18:22:27.794189Z"
    }
   },
   "outputs": [
    {
     "data": {
      "text/plain": [
       "Index(['gameId', 'creationTime', 'gameDuration', 'seasonId', 'winner',\n",
       "       'firstBlood', 'firstTower', 'firstInhibitor', 'firstBaron',\n",
       "       'firstDragon', 'firstRiftHerald', 't1_champ1id', 't1_champ1_sum1',\n",
       "       't1_champ1_sum2', 't1_champ2id', 't1_champ2_sum1', 't1_champ2_sum2',\n",
       "       't1_champ3id', 't1_champ3_sum1', 't1_champ3_sum2', 't1_champ4id',\n",
       "       't1_champ4_sum1', 't1_champ4_sum2', 't1_champ5id', 't1_champ5_sum1',\n",
       "       't1_champ5_sum2', 't1_towerKills', 't1_inhibitorKills', 't1_baronKills',\n",
       "       't1_dragonKills', 't1_riftHeraldKills', 't1_ban1', 't1_ban2', 't1_ban3',\n",
       "       't1_ban4', 't1_ban5', 't2_champ1id', 't2_champ1_sum1', 't2_champ1_sum2',\n",
       "       't2_champ2id', 't2_champ2_sum1', 't2_champ2_sum2', 't2_champ3id',\n",
       "       't2_champ3_sum1', 't2_champ3_sum2', 't2_champ4id', 't2_champ4_sum1',\n",
       "       't2_champ4_sum2', 't2_champ5id', 't2_champ5_sum1', 't2_champ5_sum2',\n",
       "       't2_towerKills', 't2_inhibitorKills', 't2_baronKills', 't2_dragonKills',\n",
       "       't2_riftHeraldKills', 't2_ban1', 't2_ban2', 't2_ban3', 't2_ban4',\n",
       "       't2_ban5'],\n",
       "      dtype='object')"
      ]
     },
     "execution_count": 10,
     "metadata": {},
     "output_type": "execute_result"
    }
   ],
   "source": [
    "results"
   ]
  },
  {
   "cell_type": "markdown",
   "id": "7f91a7d2-7587-4920-a868-4e2f8c1521ce",
   "metadata": {},
   "source": [
    "result 객체의 데이터는 ndarray로 살펴볼 수 있다. ndarray 객체로 출력하라."
   ]
  },
  {
   "cell_type": "code",
   "execution_count": 11,
   "id": "3a4a382c-e967-412a-a4f4-a5a326c8edc3",
   "metadata": {},
   "outputs": [
    {
     "data": {
      "text/plain": [
       "array(['gameId', 'creationTime', 'gameDuration', 'seasonId', 'winner',\n",
       "       'firstBlood', 'firstTower', 'firstInhibitor', 'firstBaron',\n",
       "       'firstDragon', 'firstRiftHerald', 't1_champ1id', 't1_champ1_sum1',\n",
       "       't1_champ1_sum2', 't1_champ2id', 't1_champ2_sum1',\n",
       "       't1_champ2_sum2', 't1_champ3id', 't1_champ3_sum1',\n",
       "       't1_champ3_sum2', 't1_champ4id', 't1_champ4_sum1',\n",
       "       't1_champ4_sum2', 't1_champ5id', 't1_champ5_sum1',\n",
       "       't1_champ5_sum2', 't1_towerKills', 't1_inhibitorKills',\n",
       "       't1_baronKills', 't1_dragonKills', 't1_riftHeraldKills', 't1_ban1',\n",
       "       't1_ban2', 't1_ban3', 't1_ban4', 't1_ban5', 't2_champ1id',\n",
       "       't2_champ1_sum1', 't2_champ1_sum2', 't2_champ2id',\n",
       "       't2_champ2_sum1', 't2_champ2_sum2', 't2_champ3id',\n",
       "       't2_champ3_sum1', 't2_champ3_sum2', 't2_champ4id',\n",
       "       't2_champ4_sum1', 't2_champ4_sum2', 't2_champ5id',\n",
       "       't2_champ5_sum1', 't2_champ5_sum2', 't2_towerKills',\n",
       "       't2_inhibitorKills', 't2_baronKills', 't2_dragonKills',\n",
       "       't2_riftHeraldKills', 't2_ban1', 't2_ban2', 't2_ban3', 't2_ban4',\n",
       "       't2_ban5'], dtype=object)"
      ]
     },
     "execution_count": 11,
     "metadata": {},
     "output_type": "execute_result"
    }
   ],
   "source": [
    "\n",
    "\n"
   ]
  },
  {
   "cell_type": "markdown",
   "id": "dac924c1-71b5-412f-b7f0-a45c8579a1b0",
   "metadata": {},
   "source": [
    "### Question 5\n",
    "\n",
    "**6번째 컬럼명을 Ans 에 담아 출력하라**"
   ]
  },
  {
   "cell_type": "code",
   "execution_count": 12,
   "id": "bb8007d0-2935-488a-92cd-028f844dcee9",
   "metadata": {
    "ExecuteTime": {
     "end_time": "2022-02-19T18:22:27.803759Z",
     "start_time": "2022-02-19T18:22:27.801391Z"
    },
    "tags": [
     "hide-input"
    ]
   },
   "outputs": [],
   "source": [
    "\n"
   ]
  },
  {
   "cell_type": "code",
   "execution_count": 13,
   "id": "6fab545d-05fc-417f-b5bc-d6f31de1bf9a",
   "metadata": {
    "ExecuteTime": {
     "end_time": "2022-02-19T18:22:27.808678Z",
     "start_time": "2022-02-19T18:22:27.805345Z"
    }
   },
   "outputs": [
    {
     "data": {
      "text/plain": [
       "'firstBlood'"
      ]
     },
     "execution_count": 13,
     "metadata": {},
     "output_type": "execute_result"
    }
   ],
   "source": [
    "Ans"
   ]
  },
  {
   "cell_type": "markdown",
   "id": "e7238883-b2d2-4ec4-8a00-e4628c0fc58a",
   "metadata": {},
   "source": [
    "컬럼이름에서 10에서 15번째 컬럼을 출력하라"
   ]
  },
  {
   "cell_type": "code",
   "execution_count": 14,
   "id": "55db0fdd-2358-4fe4-b3c5-b73903aab4d9",
   "metadata": {},
   "outputs": [
    {
     "data": {
      "text/plain": [
       "Index(['firstRiftHerald', 't1_champ1id', 't1_champ1_sum1', 't1_champ1_sum2',\n",
       "       't1_champ2id', 't1_champ2_sum1'],\n",
       "      dtype='object')"
      ]
     },
     "execution_count": 14,
     "metadata": {},
     "output_type": "execute_result"
    }
   ],
   "source": [
    "\n",
    "\n"
   ]
  },
  {
   "cell_type": "markdown",
   "id": "c1f3263d-51a4-4ec4-ba8c-4690a98d8569",
   "metadata": {},
   "source": [
    "### Question 6\n",
    "**6번째 컬럼의 데이터 타입을 확인하라**\n"
   ]
  },
  {
   "cell_type": "code",
   "execution_count": 11,
   "id": "26927407-ce4b-4f54-bbea-a2eb05a28db5",
   "metadata": {
    "ExecuteTime": {
     "end_time": "2022-02-19T18:22:27.813316Z",
     "start_time": "2022-02-19T18:22:27.810456Z"
    },
    "tags": [
     "hide-input"
    ]
   },
   "outputs": [],
   "source": [
    "\n",
    "\n"
   ]
  },
  {
   "cell_type": "code",
   "execution_count": 12,
   "id": "32863a0d-1d46-40d4-bb31-422c488bf8bc",
   "metadata": {
    "ExecuteTime": {
     "end_time": "2022-02-19T18:22:27.817980Z",
     "start_time": "2022-02-19T18:22:27.815001Z"
    }
   },
   "outputs": [
    {
     "data": {
      "text/plain": [
       "dtype('int64')"
      ]
     },
     "execution_count": 12,
     "metadata": {},
     "output_type": "execute_result"
    }
   ],
   "source": [
    "Ans"
   ]
  },
  {
   "cell_type": "markdown",
   "id": "7fbe5811-df11-4144-818a-64003087dbe0",
   "metadata": {},
   "source": [
    "### Question 7\n",
    "\n",
    "**데이터셋의 인덱스 값을 출력하자**\n"
   ]
  },
  {
   "cell_type": "code",
   "execution_count": 15,
   "id": "25f8a27f-d723-4947-9f85-50cb03faf7ee",
   "metadata": {
    "ExecuteTime": {
     "end_time": "2022-02-19T18:22:27.821725Z",
     "start_time": "2022-02-19T18:22:27.819532Z"
    },
    "tags": [
     "hide-input"
    ]
   },
   "outputs": [],
   "source": [
    "\n",
    "\n"
   ]
  },
  {
   "cell_type": "code",
   "execution_count": 16,
   "id": "8592fab1-900d-4a32-aea3-96172d14f98a",
   "metadata": {
    "ExecuteTime": {
     "end_time": "2022-02-19T18:22:27.826800Z",
     "start_time": "2022-02-19T18:22:27.823591Z"
    }
   },
   "outputs": [
    {
     "data": {
      "text/plain": [
       "RangeIndex(start=0, stop=51490, step=1)"
      ]
     },
     "execution_count": 16,
     "metadata": {},
     "output_type": "execute_result"
    }
   ],
   "source": [
    "Ans "
   ]
  },
  {
   "cell_type": "markdown",
   "id": "a42bf74c-9c98-475f-afa9-371cb950e819",
   "metadata": {},
   "source": [
    "인덱스 값을 ndarray 로 출력하자"
   ]
  },
  {
   "cell_type": "code",
   "execution_count": 17,
   "id": "dab18f4f-b59c-4a51-bfe5-0d9918415823",
   "metadata": {},
   "outputs": [
    {
     "data": {
      "text/plain": [
       "array([    0,     1,     2, ..., 51487, 51488, 51489])"
      ]
     },
     "execution_count": 17,
     "metadata": {},
     "output_type": "execute_result"
    }
   ],
   "source": [
    "\n",
    "\n"
   ]
  },
  {
   "cell_type": "markdown",
   "id": "3b34cbf8-6781-4ace-adae-f21a339fec07",
   "metadata": {},
   "source": [
    "인덱스 값의 min, max 값을 출력하자"
   ]
  },
  {
   "cell_type": "code",
   "execution_count": 18,
   "id": "8c5fdf38-d126-4833-8c1c-c9dc54ae77f1",
   "metadata": {},
   "outputs": [
    {
     "data": {
      "text/plain": [
       "(0, 51489)"
      ]
     },
     "execution_count": 18,
     "metadata": {},
     "output_type": "execute_result"
    }
   ],
   "source": [
    "df.index.min(), df.index.max()"
   ]
  },
  {
   "cell_type": "code",
   "execution_count": null,
   "id": "33a6b87a-66d3-447a-ab9c-9f9e90437941",
   "metadata": {},
   "outputs": [],
   "source": []
  },
  {
   "cell_type": "markdown",
   "id": "17a3fd34-cbff-44a1-b4ed-1861b8de3fa4",
   "metadata": {},
   "source": [
    "### Question 8\n",
    "**3행에서 6번째 컬럼 값은 무엇인가?**\n"
   ]
  },
  {
   "cell_type": "code",
   "execution_count": 19,
   "id": "b0ac9cb9-0006-4e03-9c7a-e5145373d60f",
   "metadata": {
    "ExecuteTime": {
     "end_time": "2022-02-19T18:22:27.830663Z",
     "start_time": "2022-02-19T18:22:27.828326Z"
    },
    "tags": [
     "hide-input"
    ]
   },
   "outputs": [],
   "source": [
    "\n",
    "\n"
   ]
  },
  {
   "cell_type": "code",
   "execution_count": 20,
   "id": "25aba6ba-0692-4910-880f-1d3e77361788",
   "metadata": {
    "ExecuteTime": {
     "end_time": "2022-02-19T18:22:27.834927Z",
     "start_time": "2022-02-19T18:22:27.832095Z"
    }
   },
   "outputs": [
    {
     "data": {
      "text/plain": [
       "2"
      ]
     },
     "execution_count": 20,
     "metadata": {},
     "output_type": "execute_result"
    }
   ],
   "source": [
    "Ans "
   ]
  },
  {
   "cell_type": "markdown",
   "id": "ab54081f-58a3-4cd0-9b55-fbdeda2fc4ee",
   "metadata": {},
   "source": [
    "## 제주 날씨,인구에 따른 교통량데이터\n",
    " - 출처 제주 데이터 허브\n",
    " - data url : https://raw.githubusercontent.com/Datamanim/pandas/main/Jeju.csv\n"
   ]
  },
  {
   "cell_type": "markdown",
   "id": "ae16a4f5-ae8e-45d8-8912-b4843814f994",
   "metadata": {},
   "source": [
    "### Question 9\n",
    "**데이터를 로드하라.**\n"
   ]
  },
  {
   "cell_type": "code",
   "execution_count": 23,
   "id": "74f85b5e-ae5b-4fb7-8b36-2a1123857fcc",
   "metadata": {
    "ExecuteTime": {
     "end_time": "2022-02-19T18:22:27.977922Z",
     "start_time": "2022-02-19T18:22:27.836216Z"
    },
    "collapsed": true,
    "jupyter": {
     "outputs_hidden": true
    },
    "tags": []
   },
   "outputs": [
    {
     "ename": "UnicodeDecodeError",
     "evalue": "'utf-8' codec can't decode byte 0xc0 in position 0: invalid start byte",
     "output_type": "error",
     "traceback": [
      "\u001b[0;31m---------------------------------------------------------------------------\u001b[0m",
      "\u001b[0;31mUnicodeDecodeError\u001b[0m                        Traceback (most recent call last)",
      "Cell \u001b[0;32mIn [23], line 2\u001b[0m\n\u001b[1;32m      1\u001b[0m data_url \u001b[38;5;241m=\u001b[39m \u001b[38;5;124m'\u001b[39m\u001b[38;5;124mhttps://raw.githubusercontent.com/Datamanim/pandas/main/Jeju.csv\u001b[39m\u001b[38;5;124m'\u001b[39m\n\u001b[0;32m----> 2\u001b[0m df \u001b[38;5;241m=\u001b[39m \u001b[43mpd\u001b[49m\u001b[38;5;241;43m.\u001b[39;49m\u001b[43mread_csv\u001b[49m\u001b[43m(\u001b[49m\u001b[43mdata_url\u001b[49m\u001b[43m)\u001b[49m\n",
      "File \u001b[0;32m~/.pyenv/versions/TF2_NLTK_P30/lib/python3.10/site-packages/pandas/util/_decorators.py:211\u001b[0m, in \u001b[0;36mdeprecate_kwarg.<locals>._deprecate_kwarg.<locals>.wrapper\u001b[0;34m(*args, **kwargs)\u001b[0m\n\u001b[1;32m    209\u001b[0m     \u001b[38;5;28;01melse\u001b[39;00m:\n\u001b[1;32m    210\u001b[0m         kwargs[new_arg_name] \u001b[38;5;241m=\u001b[39m new_arg_value\n\u001b[0;32m--> 211\u001b[0m \u001b[38;5;28;01mreturn\u001b[39;00m \u001b[43mfunc\u001b[49m\u001b[43m(\u001b[49m\u001b[38;5;241;43m*\u001b[39;49m\u001b[43margs\u001b[49m\u001b[43m,\u001b[49m\u001b[43m \u001b[49m\u001b[38;5;241;43m*\u001b[39;49m\u001b[38;5;241;43m*\u001b[39;49m\u001b[43mkwargs\u001b[49m\u001b[43m)\u001b[49m\n",
      "File \u001b[0;32m~/.pyenv/versions/TF2_NLTK_P30/lib/python3.10/site-packages/pandas/util/_decorators.py:317\u001b[0m, in \u001b[0;36mdeprecate_nonkeyword_arguments.<locals>.decorate.<locals>.wrapper\u001b[0;34m(*args, **kwargs)\u001b[0m\n\u001b[1;32m    311\u001b[0m \u001b[38;5;28;01mif\u001b[39;00m \u001b[38;5;28mlen\u001b[39m(args) \u001b[38;5;241m>\u001b[39m num_allow_args:\n\u001b[1;32m    312\u001b[0m     warnings\u001b[38;5;241m.\u001b[39mwarn(\n\u001b[1;32m    313\u001b[0m         msg\u001b[38;5;241m.\u001b[39mformat(arguments\u001b[38;5;241m=\u001b[39marguments),\n\u001b[1;32m    314\u001b[0m         \u001b[38;5;167;01mFutureWarning\u001b[39;00m,\n\u001b[1;32m    315\u001b[0m         stacklevel\u001b[38;5;241m=\u001b[39mfind_stack_level(inspect\u001b[38;5;241m.\u001b[39mcurrentframe()),\n\u001b[1;32m    316\u001b[0m     )\n\u001b[0;32m--> 317\u001b[0m \u001b[38;5;28;01mreturn\u001b[39;00m \u001b[43mfunc\u001b[49m\u001b[43m(\u001b[49m\u001b[38;5;241;43m*\u001b[39;49m\u001b[43margs\u001b[49m\u001b[43m,\u001b[49m\u001b[43m \u001b[49m\u001b[38;5;241;43m*\u001b[39;49m\u001b[38;5;241;43m*\u001b[39;49m\u001b[43mkwargs\u001b[49m\u001b[43m)\u001b[49m\n",
      "File \u001b[0;32m~/.pyenv/versions/TF2_NLTK_P30/lib/python3.10/site-packages/pandas/io/parsers/readers.py:950\u001b[0m, in \u001b[0;36mread_csv\u001b[0;34m(filepath_or_buffer, sep, delimiter, header, names, index_col, usecols, squeeze, prefix, mangle_dupe_cols, dtype, engine, converters, true_values, false_values, skipinitialspace, skiprows, skipfooter, nrows, na_values, keep_default_na, na_filter, verbose, skip_blank_lines, parse_dates, infer_datetime_format, keep_date_col, date_parser, dayfirst, cache_dates, iterator, chunksize, compression, thousands, decimal, lineterminator, quotechar, quoting, doublequote, escapechar, comment, encoding, encoding_errors, dialect, error_bad_lines, warn_bad_lines, on_bad_lines, delim_whitespace, low_memory, memory_map, float_precision, storage_options)\u001b[0m\n\u001b[1;32m    935\u001b[0m kwds_defaults \u001b[38;5;241m=\u001b[39m _refine_defaults_read(\n\u001b[1;32m    936\u001b[0m     dialect,\n\u001b[1;32m    937\u001b[0m     delimiter,\n\u001b[0;32m   (...)\u001b[0m\n\u001b[1;32m    946\u001b[0m     defaults\u001b[38;5;241m=\u001b[39m{\u001b[38;5;124m\"\u001b[39m\u001b[38;5;124mdelimiter\u001b[39m\u001b[38;5;124m\"\u001b[39m: \u001b[38;5;124m\"\u001b[39m\u001b[38;5;124m,\u001b[39m\u001b[38;5;124m\"\u001b[39m},\n\u001b[1;32m    947\u001b[0m )\n\u001b[1;32m    948\u001b[0m kwds\u001b[38;5;241m.\u001b[39mupdate(kwds_defaults)\n\u001b[0;32m--> 950\u001b[0m \u001b[38;5;28;01mreturn\u001b[39;00m \u001b[43m_read\u001b[49m\u001b[43m(\u001b[49m\u001b[43mfilepath_or_buffer\u001b[49m\u001b[43m,\u001b[49m\u001b[43m \u001b[49m\u001b[43mkwds\u001b[49m\u001b[43m)\u001b[49m\n",
      "File \u001b[0;32m~/.pyenv/versions/TF2_NLTK_P30/lib/python3.10/site-packages/pandas/io/parsers/readers.py:605\u001b[0m, in \u001b[0;36m_read\u001b[0;34m(filepath_or_buffer, kwds)\u001b[0m\n\u001b[1;32m    602\u001b[0m _validate_names(kwds\u001b[38;5;241m.\u001b[39mget(\u001b[38;5;124m\"\u001b[39m\u001b[38;5;124mnames\u001b[39m\u001b[38;5;124m\"\u001b[39m, \u001b[38;5;28;01mNone\u001b[39;00m))\n\u001b[1;32m    604\u001b[0m \u001b[38;5;66;03m# Create the parser.\u001b[39;00m\n\u001b[0;32m--> 605\u001b[0m parser \u001b[38;5;241m=\u001b[39m \u001b[43mTextFileReader\u001b[49m\u001b[43m(\u001b[49m\u001b[43mfilepath_or_buffer\u001b[49m\u001b[43m,\u001b[49m\u001b[43m \u001b[49m\u001b[38;5;241;43m*\u001b[39;49m\u001b[38;5;241;43m*\u001b[39;49m\u001b[43mkwds\u001b[49m\u001b[43m)\u001b[49m\n\u001b[1;32m    607\u001b[0m \u001b[38;5;28;01mif\u001b[39;00m chunksize \u001b[38;5;129;01mor\u001b[39;00m iterator:\n\u001b[1;32m    608\u001b[0m     \u001b[38;5;28;01mreturn\u001b[39;00m parser\n",
      "File \u001b[0;32m~/.pyenv/versions/TF2_NLTK_P30/lib/python3.10/site-packages/pandas/io/parsers/readers.py:1442\u001b[0m, in \u001b[0;36mTextFileReader.__init__\u001b[0;34m(self, f, engine, **kwds)\u001b[0m\n\u001b[1;32m   1439\u001b[0m     \u001b[38;5;28mself\u001b[39m\u001b[38;5;241m.\u001b[39moptions[\u001b[38;5;124m\"\u001b[39m\u001b[38;5;124mhas_index_names\u001b[39m\u001b[38;5;124m\"\u001b[39m] \u001b[38;5;241m=\u001b[39m kwds[\u001b[38;5;124m\"\u001b[39m\u001b[38;5;124mhas_index_names\u001b[39m\u001b[38;5;124m\"\u001b[39m]\n\u001b[1;32m   1441\u001b[0m \u001b[38;5;28mself\u001b[39m\u001b[38;5;241m.\u001b[39mhandles: IOHandles \u001b[38;5;241m|\u001b[39m \u001b[38;5;28;01mNone\u001b[39;00m \u001b[38;5;241m=\u001b[39m \u001b[38;5;28;01mNone\u001b[39;00m\n\u001b[0;32m-> 1442\u001b[0m \u001b[38;5;28mself\u001b[39m\u001b[38;5;241m.\u001b[39m_engine \u001b[38;5;241m=\u001b[39m \u001b[38;5;28;43mself\u001b[39;49m\u001b[38;5;241;43m.\u001b[39;49m\u001b[43m_make_engine\u001b[49m\u001b[43m(\u001b[49m\u001b[43mf\u001b[49m\u001b[43m,\u001b[49m\u001b[43m \u001b[49m\u001b[38;5;28;43mself\u001b[39;49m\u001b[38;5;241;43m.\u001b[39;49m\u001b[43mengine\u001b[49m\u001b[43m)\u001b[49m\n",
      "File \u001b[0;32m~/.pyenv/versions/TF2_NLTK_P30/lib/python3.10/site-packages/pandas/io/parsers/readers.py:1747\u001b[0m, in \u001b[0;36mTextFileReader._make_engine\u001b[0;34m(self, f, engine)\u001b[0m\n\u001b[1;32m   1744\u001b[0m     \u001b[38;5;28;01mraise\u001b[39;00m \u001b[38;5;167;01mValueError\u001b[39;00m(msg)\n\u001b[1;32m   1746\u001b[0m \u001b[38;5;28;01mtry\u001b[39;00m:\n\u001b[0;32m-> 1747\u001b[0m     \u001b[38;5;28;01mreturn\u001b[39;00m \u001b[43mmapping\u001b[49m\u001b[43m[\u001b[49m\u001b[43mengine\u001b[49m\u001b[43m]\u001b[49m\u001b[43m(\u001b[49m\u001b[43mf\u001b[49m\u001b[43m,\u001b[49m\u001b[43m \u001b[49m\u001b[38;5;241;43m*\u001b[39;49m\u001b[38;5;241;43m*\u001b[39;49m\u001b[38;5;28;43mself\u001b[39;49m\u001b[38;5;241;43m.\u001b[39;49m\u001b[43moptions\u001b[49m\u001b[43m)\u001b[49m\n\u001b[1;32m   1748\u001b[0m \u001b[38;5;28;01mexcept\u001b[39;00m \u001b[38;5;167;01mException\u001b[39;00m:\n\u001b[1;32m   1749\u001b[0m     \u001b[38;5;28;01mif\u001b[39;00m \u001b[38;5;28mself\u001b[39m\u001b[38;5;241m.\u001b[39mhandles \u001b[38;5;129;01mis\u001b[39;00m \u001b[38;5;129;01mnot\u001b[39;00m \u001b[38;5;28;01mNone\u001b[39;00m:\n",
      "File \u001b[0;32m~/.pyenv/versions/TF2_NLTK_P30/lib/python3.10/site-packages/pandas/io/parsers/c_parser_wrapper.py:92\u001b[0m, in \u001b[0;36mCParserWrapper.__init__\u001b[0;34m(self, src, **kwds)\u001b[0m\n\u001b[1;32m     89\u001b[0m     kwds\u001b[38;5;241m.\u001b[39mpop(key, \u001b[38;5;28;01mNone\u001b[39;00m)\n\u001b[1;32m     91\u001b[0m kwds[\u001b[38;5;124m\"\u001b[39m\u001b[38;5;124mdtype\u001b[39m\u001b[38;5;124m\"\u001b[39m] \u001b[38;5;241m=\u001b[39m ensure_dtype_objs(kwds\u001b[38;5;241m.\u001b[39mget(\u001b[38;5;124m\"\u001b[39m\u001b[38;5;124mdtype\u001b[39m\u001b[38;5;124m\"\u001b[39m, \u001b[38;5;28;01mNone\u001b[39;00m))\n\u001b[0;32m---> 92\u001b[0m \u001b[38;5;28mself\u001b[39m\u001b[38;5;241m.\u001b[39m_reader \u001b[38;5;241m=\u001b[39m \u001b[43mparsers\u001b[49m\u001b[38;5;241;43m.\u001b[39;49m\u001b[43mTextReader\u001b[49m\u001b[43m(\u001b[49m\u001b[43msrc\u001b[49m\u001b[43m,\u001b[49m\u001b[43m \u001b[49m\u001b[38;5;241;43m*\u001b[39;49m\u001b[38;5;241;43m*\u001b[39;49m\u001b[43mkwds\u001b[49m\u001b[43m)\u001b[49m\n\u001b[1;32m     94\u001b[0m \u001b[38;5;28mself\u001b[39m\u001b[38;5;241m.\u001b[39munnamed_cols \u001b[38;5;241m=\u001b[39m \u001b[38;5;28mself\u001b[39m\u001b[38;5;241m.\u001b[39m_reader\u001b[38;5;241m.\u001b[39munnamed_cols\n\u001b[1;32m     96\u001b[0m \u001b[38;5;66;03m# error: Cannot determine type of 'names'\u001b[39;00m\n",
      "File \u001b[0;32m~/.pyenv/versions/TF2_NLTK_P30/lib/python3.10/site-packages/pandas/_libs/parsers.pyx:547\u001b[0m, in \u001b[0;36mpandas._libs.parsers.TextReader.__cinit__\u001b[0;34m()\u001b[0m\n",
      "File \u001b[0;32m~/.pyenv/versions/TF2_NLTK_P30/lib/python3.10/site-packages/pandas/_libs/parsers.pyx:664\u001b[0m, in \u001b[0;36mpandas._libs.parsers.TextReader._get_header\u001b[0;34m()\u001b[0m\n",
      "\u001b[0;31mUnicodeDecodeError\u001b[0m: 'utf-8' codec can't decode byte 0xc0 in position 0: invalid start byte"
     ]
    }
   ],
   "source": [
    "\n",
    "\n"
   ]
  },
  {
   "cell_type": "markdown",
   "id": "94c89942-1a0f-461f-b349-c1f805bfd9b1",
   "metadata": {},
   "source": [
    "에러를 살펴보고 인코딩을 지정해 데이터를 로딩한다."
   ]
  },
  {
   "cell_type": "code",
   "execution_count": 24,
   "id": "bb7fdf55-fa76-4c13-9c83-cebfca594106",
   "metadata": {
    "ExecuteTime": {
     "end_time": "2022-02-19T18:22:27.977922Z",
     "start_time": "2022-02-19T18:22:27.836216Z"
    }
   },
   "outputs": [],
   "source": [
    "\n",
    "\n"
   ]
  },
  {
   "cell_type": "markdown",
   "id": "7f538c40-4ae5-4e32-b1b9-d18afa21e8f4",
   "metadata": {},
   "source": [
    "데이터의 차원, 차수, 크기, 데이터 형식을 출력해 보자\n",
    " - dataframe 의 주요 속성"
   ]
  },
  {
   "cell_type": "code",
   "execution_count": null,
   "id": "c701eeb0-2ca8-41c2-953b-412b1e4d1c0a",
   "metadata": {},
   "outputs": [],
   "source": [
    "\n"
   ]
  },
  {
   "cell_type": "markdown",
   "id": "500348f0-e914-4137-b563-f2b4c2fb2431",
   "metadata": {},
   "source": [
    "### Question 10\n",
    "**데이터 마지막 3개행을 출력하라**\n"
   ]
  },
  {
   "cell_type": "code",
   "execution_count": 19,
   "id": "43d68f4c-2a2d-45b5-853f-1dce1cf3de8e",
   "metadata": {
    "ExecuteTime": {
     "end_time": "2022-02-19T18:22:27.987311Z",
     "start_time": "2022-02-19T18:22:27.984874Z"
    },
    "tags": [
     "hide-input"
    ]
   },
   "outputs": [],
   "source": [
    "\n",
    "\n"
   ]
  },
  {
   "cell_type": "code",
   "execution_count": 20,
   "id": "c395a857-b876-4847-bf17-02c15dee148b",
   "metadata": {
    "ExecuteTime": {
     "end_time": "2022-02-19T18:22:28.002522Z",
     "start_time": "2022-02-19T18:22:27.988809Z"
    }
   },
   "outputs": [
    {
     "data": {
      "text/html": [
       "<div>\n",
       "<style scoped>\n",
       "    .dataframe tbody tr th:only-of-type {\n",
       "        vertical-align: middle;\n",
       "    }\n",
       "\n",
       "    .dataframe tbody tr th {\n",
       "        vertical-align: top;\n",
       "    }\n",
       "\n",
       "    .dataframe thead th {\n",
       "        text-align: right;\n",
       "    }\n",
       "</style>\n",
       "<table border=\"1\" class=\"dataframe\">\n",
       "  <thead>\n",
       "    <tr style=\"text-align: right;\">\n",
       "      <th></th>\n",
       "      <th>id</th>\n",
       "      <th>일자</th>\n",
       "      <th>시도명</th>\n",
       "      <th>읍면동명</th>\n",
       "      <th>거주인구</th>\n",
       "      <th>근무인구</th>\n",
       "      <th>방문인구</th>\n",
       "      <th>총 유동인구</th>\n",
       "      <th>평균 속도</th>\n",
       "      <th>평균 소요 시간</th>\n",
       "      <th>평균 기온</th>\n",
       "      <th>일강수량</th>\n",
       "      <th>평균 풍속</th>\n",
       "    </tr>\n",
       "  </thead>\n",
       "  <tbody>\n",
       "    <tr>\n",
       "      <th>9618</th>\n",
       "      <td>32066</td>\n",
       "      <td>2020-04-30</td>\n",
       "      <td>제주시</td>\n",
       "      <td>도두동</td>\n",
       "      <td>28397.481</td>\n",
       "      <td>3144.895</td>\n",
       "      <td>84052.697</td>\n",
       "      <td>115595.073</td>\n",
       "      <td>41.053</td>\n",
       "      <td>29.421</td>\n",
       "      <td>20.3</td>\n",
       "      <td>0.0</td>\n",
       "      <td>3.0</td>\n",
       "    </tr>\n",
       "    <tr>\n",
       "      <th>9619</th>\n",
       "      <td>32067</td>\n",
       "      <td>2020-04-30</td>\n",
       "      <td>서귀포시</td>\n",
       "      <td>안덕면</td>\n",
       "      <td>348037.846</td>\n",
       "      <td>29106.286</td>\n",
       "      <td>251129.660</td>\n",
       "      <td>628273.792</td>\n",
       "      <td>46.595</td>\n",
       "      <td>49.189</td>\n",
       "      <td>17.6</td>\n",
       "      <td>0.0</td>\n",
       "      <td>3.5</td>\n",
       "    </tr>\n",
       "    <tr>\n",
       "      <th>9620</th>\n",
       "      <td>32068</td>\n",
       "      <td>2020-04-30</td>\n",
       "      <td>제주시</td>\n",
       "      <td>연동</td>\n",
       "      <td>1010643.372</td>\n",
       "      <td>65673.477</td>\n",
       "      <td>447622.068</td>\n",
       "      <td>1523938.917</td>\n",
       "      <td>40.863</td>\n",
       "      <td>27.765</td>\n",
       "      <td>14.1</td>\n",
       "      <td>0.0</td>\n",
       "      <td>4.8</td>\n",
       "    </tr>\n",
       "  </tbody>\n",
       "</table>\n",
       "</div>"
      ],
      "text/plain": [
       "         id          일자   시도명 읍면동명         거주인구       근무인구        방문인구  \\\n",
       "9618  32066  2020-04-30   제주시  도두동    28397.481   3144.895   84052.697   \n",
       "9619  32067  2020-04-30  서귀포시  안덕면   348037.846  29106.286  251129.660   \n",
       "9620  32068  2020-04-30   제주시   연동  1010643.372  65673.477  447622.068   \n",
       "\n",
       "           총 유동인구   평균 속도  평균 소요 시간  평균 기온  일강수량  평균 풍속  \n",
       "9618   115595.073  41.053    29.421   20.3   0.0    3.0  \n",
       "9619   628273.792  46.595    49.189   17.6   0.0    3.5  \n",
       "9620  1523938.917  40.863    27.765   14.1   0.0    4.8  "
      ]
     },
     "execution_count": 20,
     "metadata": {},
     "output_type": "execute_result"
    }
   ],
   "source": [
    "Ans"
   ]
  },
  {
   "cell_type": "markdown",
   "id": "181e18b6-7bd0-4732-9618-86053c3ba149",
   "metadata": {},
   "source": [
    "`iloc` 를 사용해서 데이터 마지막 위치의 5개를 출력해 보자"
   ]
  },
  {
   "cell_type": "code",
   "execution_count": 26,
   "id": "08fa4924-6fc1-4c2e-b93c-108bd6108e28",
   "metadata": {},
   "outputs": [
    {
     "data": {
      "text/html": [
       "<div>\n",
       "<style scoped>\n",
       "    .dataframe tbody tr th:only-of-type {\n",
       "        vertical-align: middle;\n",
       "    }\n",
       "\n",
       "    .dataframe tbody tr th {\n",
       "        vertical-align: top;\n",
       "    }\n",
       "\n",
       "    .dataframe thead th {\n",
       "        text-align: right;\n",
       "    }\n",
       "</style>\n",
       "<table border=\"1\" class=\"dataframe\">\n",
       "  <thead>\n",
       "    <tr style=\"text-align: right;\">\n",
       "      <th></th>\n",
       "      <th>id</th>\n",
       "      <th>일자</th>\n",
       "      <th>시도명</th>\n",
       "      <th>읍면동명</th>\n",
       "      <th>거주인구</th>\n",
       "      <th>근무인구</th>\n",
       "      <th>방문인구</th>\n",
       "      <th>총 유동인구</th>\n",
       "      <th>평균 속도</th>\n",
       "      <th>평균 소요 시간</th>\n",
       "      <th>평균 기온</th>\n",
       "      <th>일강수량</th>\n",
       "      <th>평균 풍속</th>\n",
       "    </tr>\n",
       "  </thead>\n",
       "  <tbody>\n",
       "    <tr>\n",
       "      <th>9616</th>\n",
       "      <td>32064</td>\n",
       "      <td>2020-04-30</td>\n",
       "      <td>서귀포시</td>\n",
       "      <td>표선면</td>\n",
       "      <td>228260.005</td>\n",
       "      <td>16891.732</td>\n",
       "      <td>152832.449</td>\n",
       "      <td>397984.186</td>\n",
       "      <td>44.514</td>\n",
       "      <td>34.054</td>\n",
       "      <td>18.1</td>\n",
       "      <td>0.0</td>\n",
       "      <td>4.70</td>\n",
       "    </tr>\n",
       "    <tr>\n",
       "      <th>9617</th>\n",
       "      <td>32065</td>\n",
       "      <td>2020-04-30</td>\n",
       "      <td>제주시</td>\n",
       "      <td>한림읍</td>\n",
       "      <td>459959.064</td>\n",
       "      <td>26007.122</td>\n",
       "      <td>249700.419</td>\n",
       "      <td>735666.605</td>\n",
       "      <td>48.609</td>\n",
       "      <td>61.377</td>\n",
       "      <td>18.0</td>\n",
       "      <td>0.0</td>\n",
       "      <td>4.35</td>\n",
       "    </tr>\n",
       "    <tr>\n",
       "      <th>9618</th>\n",
       "      <td>32066</td>\n",
       "      <td>2020-04-30</td>\n",
       "      <td>제주시</td>\n",
       "      <td>도두동</td>\n",
       "      <td>28397.481</td>\n",
       "      <td>3144.895</td>\n",
       "      <td>84052.697</td>\n",
       "      <td>115595.073</td>\n",
       "      <td>41.053</td>\n",
       "      <td>29.421</td>\n",
       "      <td>20.3</td>\n",
       "      <td>0.0</td>\n",
       "      <td>3.00</td>\n",
       "    </tr>\n",
       "    <tr>\n",
       "      <th>9619</th>\n",
       "      <td>32067</td>\n",
       "      <td>2020-04-30</td>\n",
       "      <td>서귀포시</td>\n",
       "      <td>안덕면</td>\n",
       "      <td>348037.846</td>\n",
       "      <td>29106.286</td>\n",
       "      <td>251129.660</td>\n",
       "      <td>628273.792</td>\n",
       "      <td>46.595</td>\n",
       "      <td>49.189</td>\n",
       "      <td>17.6</td>\n",
       "      <td>0.0</td>\n",
       "      <td>3.50</td>\n",
       "    </tr>\n",
       "    <tr>\n",
       "      <th>9620</th>\n",
       "      <td>32068</td>\n",
       "      <td>2020-04-30</td>\n",
       "      <td>제주시</td>\n",
       "      <td>연동</td>\n",
       "      <td>1010643.372</td>\n",
       "      <td>65673.477</td>\n",
       "      <td>447622.068</td>\n",
       "      <td>1523938.917</td>\n",
       "      <td>40.863</td>\n",
       "      <td>27.765</td>\n",
       "      <td>14.1</td>\n",
       "      <td>0.0</td>\n",
       "      <td>4.80</td>\n",
       "    </tr>\n",
       "  </tbody>\n",
       "</table>\n",
       "</div>"
      ],
      "text/plain": [
       "         id          일자   시도명 읍면동명         거주인구       근무인구        방문인구  \\\n",
       "9616  32064  2020-04-30  서귀포시  표선면   228260.005  16891.732  152832.449   \n",
       "9617  32065  2020-04-30   제주시  한림읍   459959.064  26007.122  249700.419   \n",
       "9618  32066  2020-04-30   제주시  도두동    28397.481   3144.895   84052.697   \n",
       "9619  32067  2020-04-30  서귀포시  안덕면   348037.846  29106.286  251129.660   \n",
       "9620  32068  2020-04-30   제주시   연동  1010643.372  65673.477  447622.068   \n",
       "\n",
       "           총 유동인구   평균 속도  평균 소요 시간  평균 기온  일강수량  평균 풍속  \n",
       "9616   397984.186  44.514    34.054   18.1   0.0   4.70  \n",
       "9617   735666.605  48.609    61.377   18.0   0.0   4.35  \n",
       "9618   115595.073  41.053    29.421   20.3   0.0   3.00  \n",
       "9619   628273.792  46.595    49.189   17.6   0.0   3.50  \n",
       "9620  1523938.917  40.863    27.765   14.1   0.0   4.80  "
      ]
     },
     "execution_count": 26,
     "metadata": {},
     "output_type": "execute_result"
    }
   ],
   "source": [
    "\n",
    "\n"
   ]
  },
  {
   "cell_type": "markdown",
   "id": "77411d96-09cb-487a-83ec-7b0fd631b982",
   "metadata": {},
   "source": [
    "### Question 11\n",
    "\n",
    "`df.select_dtypes(exclude=)` 를 사용해서 **수치형 변수를 가진 컬럼을 출력하라**\n"
   ]
  },
  {
   "cell_type": "code",
   "execution_count": 27,
   "id": "151a27ff-3c64-4b0f-8066-1394ac9c890c",
   "metadata": {
    "ExecuteTime": {
     "end_time": "2022-02-19T18:22:28.008001Z",
     "start_time": "2022-02-19T18:22:28.004130Z"
    },
    "tags": [
     "hide-input"
    ]
   },
   "outputs": [],
   "source": [
    "\n",
    "\n"
   ]
  },
  {
   "cell_type": "code",
   "execution_count": 28,
   "id": "365d258f-d53e-45d9-8ee6-071491dcf5f5",
   "metadata": {
    "ExecuteTime": {
     "end_time": "2022-02-19T18:22:28.012843Z",
     "start_time": "2022-02-19T18:22:28.009446Z"
    }
   },
   "outputs": [
    {
     "data": {
      "text/plain": [
       "Index(['id', '거주인구', '근무인구', '방문인구', '총 유동인구', '평균 속도', '평균 소요 시간', '평균 기온',\n",
       "       '일강수량', '평균 풍속'],\n",
       "      dtype='object')"
      ]
     },
     "execution_count": 28,
     "metadata": {},
     "output_type": "execute_result"
    }
   ],
   "source": [
    "Ans"
   ]
  },
  {
   "cell_type": "markdown",
   "id": "306336f3-6ff1-4b31-9b57-1f6f86f078b0",
   "metadata": {},
   "source": [
    "### Question 12\n",
    "\n",
    "`df.select_dtypes(include=)` 를 사용해서 ****범주형 변수를 가진 컬럼을 출력하라**\n"
   ]
  },
  {
   "cell_type": "code",
   "execution_count": 23,
   "id": "c3e10b88-e72e-4ac6-85a7-abef79bfb30b",
   "metadata": {
    "ExecuteTime": {
     "end_time": "2022-02-19T18:22:28.017567Z",
     "start_time": "2022-02-19T18:22:28.014187Z"
    },
    "tags": [
     "hide-input"
    ]
   },
   "outputs": [],
   "source": [
    "\n",
    "\n"
   ]
  },
  {
   "cell_type": "code",
   "execution_count": 24,
   "id": "9ff900c4-daee-408e-a703-77946e2304e7",
   "metadata": {
    "ExecuteTime": {
     "end_time": "2022-02-19T18:22:28.021825Z",
     "start_time": "2022-02-19T18:22:28.018797Z"
    }
   },
   "outputs": [
    {
     "data": {
      "text/plain": [
       "Index(['일자', '시도명', '읍면동명'], dtype='object')"
      ]
     },
     "execution_count": 24,
     "metadata": {},
     "output_type": "execute_result"
    }
   ],
   "source": [
    "Ans"
   ]
  },
  {
   "cell_type": "markdown",
   "id": "f004c1f5-ab39-49d4-bd96-ebf38997251f",
   "metadata": {},
   "source": [
    "### Question 13\n",
    "**각 컬럼의 결측치 숫자를 파악하라**\n"
   ]
  },
  {
   "cell_type": "code",
   "execution_count": 29,
   "id": "c20537dc-fc33-40a6-87b4-fc6a4f5eac30",
   "metadata": {
    "ExecuteTime": {
     "end_time": "2022-02-19T18:22:28.027820Z",
     "start_time": "2022-02-19T18:22:28.023063Z"
    },
    "tags": [
     "hide-input"
    ]
   },
   "outputs": [],
   "source": [
    "\n",
    "\n"
   ]
  },
  {
   "cell_type": "code",
   "execution_count": 30,
   "id": "7484fddd-e5b5-4802-b5f8-0870c7a38d69",
   "metadata": {
    "ExecuteTime": {
     "end_time": "2022-02-19T18:22:28.032666Z",
     "start_time": "2022-02-19T18:22:28.029137Z"
    }
   },
   "outputs": [
    {
     "data": {
      "text/plain": [
       "id          0\n",
       "일자          0\n",
       "시도명         0\n",
       "읍면동명        0\n",
       "거주인구        0\n",
       "근무인구        0\n",
       "방문인구        0\n",
       "총 유동인구      0\n",
       "평균 속도       0\n",
       "평균 소요 시간    0\n",
       "평균 기온       0\n",
       "일강수량        0\n",
       "평균 풍속       0\n",
       "dtype: int64"
      ]
     },
     "execution_count": 30,
     "metadata": {},
     "output_type": "execute_result"
    }
   ],
   "source": [
    "Ans"
   ]
  },
  {
   "cell_type": "markdown",
   "id": "2e1f9d75-b1c7-41d3-8717-8f6dc2c16211",
   "metadata": {},
   "source": [
    "### Question 14\n",
    "\n",
    "Dataframe의 컬럼의 정보(데이터수, 데이터타입), 인덱스 정보를 출력하라**\n"
   ]
  },
  {
   "cell_type": "code",
   "execution_count": 27,
   "id": "f696a98a-aa6f-4d72-8ae9-2396fa575470",
   "metadata": {
    "ExecuteTime": {
     "end_time": "2022-02-19T18:22:28.049431Z",
     "start_time": "2022-02-19T18:22:28.040288Z"
    },
    "tags": [
     "hide-input"
    ]
   },
   "outputs": [
    {
     "name": "stdout",
     "output_type": "stream",
     "text": [
      "<class 'pandas.core.frame.DataFrame'>\n",
      "RangeIndex: 9621 entries, 0 to 9620\n",
      "Data columns (total 13 columns):\n",
      " #   Column    Non-Null Count  Dtype  \n",
      "---  ------    --------------  -----  \n",
      " 0   id        9621 non-null   int64  \n",
      " 1   일자        9621 non-null   object \n",
      " 2   시도명       9621 non-null   object \n",
      " 3   읍면동명      9621 non-null   object \n",
      " 4   거주인구      9621 non-null   float64\n",
      " 5   근무인구      9621 non-null   float64\n",
      " 6   방문인구      9621 non-null   float64\n",
      " 7   총 유동인구    9621 non-null   float64\n",
      " 8   평균 속도     9621 non-null   float64\n",
      " 9   평균 소요 시간  9621 non-null   float64\n",
      " 10  평균 기온     9621 non-null   float64\n",
      " 11  일강수량      9621 non-null   float64\n",
      " 12  평균 풍속     9621 non-null   float64\n",
      "dtypes: float64(9), int64(1), object(3)\n",
      "memory usage: 977.3+ KB\n"
     ]
    }
   ],
   "source": [
    "\n",
    "\n"
   ]
  },
  {
   "cell_type": "markdown",
   "id": "f51fdbe2-e744-4f1f-8d3a-bb8e87f7742d",
   "metadata": {},
   "source": [
    "### Question 15\n",
    "\n",
    "Dataframe의 기본 통계표를 출력하자. **각 수치형 변수의 분포(사분위, 평균, 표준편차, 최대 , 최소)를 확인하라**\n"
   ]
  },
  {
   "cell_type": "code",
   "execution_count": 28,
   "id": "998f068f-1bff-40d0-aa22-308865980e9f",
   "metadata": {
    "ExecuteTime": {
     "end_time": "2022-02-19T18:22:28.070462Z",
     "start_time": "2022-02-19T18:22:28.050631Z"
    },
    "tags": [
     "hide-input"
    ]
   },
   "outputs": [],
   "source": [
    "\n",
    "\n"
   ]
  },
  {
   "cell_type": "code",
   "execution_count": 29,
   "id": "701c7d6f-af47-4ba3-a39f-a1e8f2dbc0ec",
   "metadata": {
    "ExecuteTime": {
     "end_time": "2022-02-19T18:22:28.082577Z",
     "start_time": "2022-02-19T18:22:28.071936Z"
    }
   },
   "outputs": [
    {
     "data": {
      "text/html": [
       "<div>\n",
       "<style scoped>\n",
       "    .dataframe tbody tr th:only-of-type {\n",
       "        vertical-align: middle;\n",
       "    }\n",
       "\n",
       "    .dataframe tbody tr th {\n",
       "        vertical-align: top;\n",
       "    }\n",
       "\n",
       "    .dataframe thead th {\n",
       "        text-align: right;\n",
       "    }\n",
       "</style>\n",
       "<table border=\"1\" class=\"dataframe\">\n",
       "  <thead>\n",
       "    <tr style=\"text-align: right;\">\n",
       "      <th></th>\n",
       "      <th>id</th>\n",
       "      <th>거주인구</th>\n",
       "      <th>근무인구</th>\n",
       "      <th>방문인구</th>\n",
       "      <th>총 유동인구</th>\n",
       "      <th>평균 속도</th>\n",
       "      <th>평균 소요 시간</th>\n",
       "      <th>평균 기온</th>\n",
       "      <th>일강수량</th>\n",
       "      <th>평균 풍속</th>\n",
       "    </tr>\n",
       "  </thead>\n",
       "  <tbody>\n",
       "    <tr>\n",
       "      <th>count</th>\n",
       "      <td>9621.000000</td>\n",
       "      <td>9.621000e+03</td>\n",
       "      <td>9621.000000</td>\n",
       "      <td>9621.000000</td>\n",
       "      <td>9.621000e+03</td>\n",
       "      <td>9621.000000</td>\n",
       "      <td>9621.000000</td>\n",
       "      <td>9621.000000</td>\n",
       "      <td>9621.000000</td>\n",
       "      <td>9621.000000</td>\n",
       "    </tr>\n",
       "    <tr>\n",
       "      <th>mean</th>\n",
       "      <td>27258.000000</td>\n",
       "      <td>3.174315e+05</td>\n",
       "      <td>35471.201510</td>\n",
       "      <td>195889.561802</td>\n",
       "      <td>5.487922e+05</td>\n",
       "      <td>41.109084</td>\n",
       "      <td>37.215873</td>\n",
       "      <td>13.550828</td>\n",
       "      <td>6.972426</td>\n",
       "      <td>2.753171</td>\n",
       "    </tr>\n",
       "    <tr>\n",
       "      <th>std</th>\n",
       "      <td>2777.487804</td>\n",
       "      <td>2.982079e+05</td>\n",
       "      <td>40381.214775</td>\n",
       "      <td>140706.090325</td>\n",
       "      <td>4.608802e+05</td>\n",
       "      <td>8.758631</td>\n",
       "      <td>12.993786</td>\n",
       "      <td>7.745515</td>\n",
       "      <td>27.617260</td>\n",
       "      <td>1.498538</td>\n",
       "    </tr>\n",
       "    <tr>\n",
       "      <th>min</th>\n",
       "      <td>22448.000000</td>\n",
       "      <td>9.305552e+03</td>\n",
       "      <td>1407.936000</td>\n",
       "      <td>11538.322000</td>\n",
       "      <td>2.225181e+04</td>\n",
       "      <td>24.333000</td>\n",
       "      <td>12.667000</td>\n",
       "      <td>-9.600000</td>\n",
       "      <td>0.000000</td>\n",
       "      <td>0.000000</td>\n",
       "    </tr>\n",
       "    <tr>\n",
       "      <th>25%</th>\n",
       "      <td>24853.000000</td>\n",
       "      <td>9.539939e+04</td>\n",
       "      <td>12074.498000</td>\n",
       "      <td>99632.153000</td>\n",
       "      <td>2.216910e+05</td>\n",
       "      <td>34.250000</td>\n",
       "      <td>27.889000</td>\n",
       "      <td>7.600000</td>\n",
       "      <td>0.000000</td>\n",
       "      <td>1.700000</td>\n",
       "    </tr>\n",
       "    <tr>\n",
       "      <th>50%</th>\n",
       "      <td>27258.000000</td>\n",
       "      <td>2.221105e+05</td>\n",
       "      <td>21960.928000</td>\n",
       "      <td>152805.335000</td>\n",
       "      <td>3.866935e+05</td>\n",
       "      <td>39.640000</td>\n",
       "      <td>34.500000</td>\n",
       "      <td>13.400000</td>\n",
       "      <td>0.000000</td>\n",
       "      <td>2.400000</td>\n",
       "    </tr>\n",
       "    <tr>\n",
       "      <th>75%</th>\n",
       "      <td>29663.000000</td>\n",
       "      <td>4.106671e+05</td>\n",
       "      <td>40192.032000</td>\n",
       "      <td>236325.109000</td>\n",
       "      <td>6.406918e+05</td>\n",
       "      <td>49.105000</td>\n",
       "      <td>46.176000</td>\n",
       "      <td>19.700000</td>\n",
       "      <td>1.500000</td>\n",
       "      <td>3.400000</td>\n",
       "    </tr>\n",
       "    <tr>\n",
       "      <th>max</th>\n",
       "      <td>32068.000000</td>\n",
       "      <td>1.364504e+06</td>\n",
       "      <td>263476.965000</td>\n",
       "      <td>723459.209000</td>\n",
       "      <td>2.066484e+06</td>\n",
       "      <td>103.000000</td>\n",
       "      <td>172.200000</td>\n",
       "      <td>30.400000</td>\n",
       "      <td>587.500000</td>\n",
       "      <td>13.333000</td>\n",
       "    </tr>\n",
       "  </tbody>\n",
       "</table>\n",
       "</div>"
      ],
      "text/plain": [
       "                 id          거주인구           근무인구           방문인구        총 유동인구  \\\n",
       "count   9621.000000  9.621000e+03    9621.000000    9621.000000  9.621000e+03   \n",
       "mean   27258.000000  3.174315e+05   35471.201510  195889.561802  5.487922e+05   \n",
       "std     2777.487804  2.982079e+05   40381.214775  140706.090325  4.608802e+05   \n",
       "min    22448.000000  9.305552e+03    1407.936000   11538.322000  2.225181e+04   \n",
       "25%    24853.000000  9.539939e+04   12074.498000   99632.153000  2.216910e+05   \n",
       "50%    27258.000000  2.221105e+05   21960.928000  152805.335000  3.866935e+05   \n",
       "75%    29663.000000  4.106671e+05   40192.032000  236325.109000  6.406918e+05   \n",
       "max    32068.000000  1.364504e+06  263476.965000  723459.209000  2.066484e+06   \n",
       "\n",
       "             평균 속도     평균 소요 시간        평균 기온         일강수량        평균 풍속  \n",
       "count  9621.000000  9621.000000  9621.000000  9621.000000  9621.000000  \n",
       "mean     41.109084    37.215873    13.550828     6.972426     2.753171  \n",
       "std       8.758631    12.993786     7.745515    27.617260     1.498538  \n",
       "min      24.333000    12.667000    -9.600000     0.000000     0.000000  \n",
       "25%      34.250000    27.889000     7.600000     0.000000     1.700000  \n",
       "50%      39.640000    34.500000    13.400000     0.000000     2.400000  \n",
       "75%      49.105000    46.176000    19.700000     1.500000     3.400000  \n",
       "max     103.000000   172.200000    30.400000   587.500000    13.333000  "
      ]
     },
     "execution_count": 29,
     "metadata": {},
     "output_type": "execute_result"
    }
   ],
   "source": [
    "Ans"
   ]
  },
  {
   "cell_type": "markdown",
   "id": "5122b326-3836-4906-8408-4d20035ce0df",
   "metadata": {},
   "source": [
    "기본 통계표를 피보팅해서 컬럼을 행하고 인덱스를 컬럼으로 전환해 살펴보자."
   ]
  },
  {
   "cell_type": "code",
   "execution_count": 34,
   "id": "0f6b97fd-65a9-44fa-b1ab-696f54f4a881",
   "metadata": {},
   "outputs": [
    {
     "data": {
      "text/html": [
       "<div>\n",
       "<style scoped>\n",
       "    .dataframe tbody tr th:only-of-type {\n",
       "        vertical-align: middle;\n",
       "    }\n",
       "\n",
       "    .dataframe tbody tr th {\n",
       "        vertical-align: top;\n",
       "    }\n",
       "\n",
       "    .dataframe thead th {\n",
       "        text-align: right;\n",
       "    }\n",
       "</style>\n",
       "<table border=\"1\" class=\"dataframe\">\n",
       "  <thead>\n",
       "    <tr style=\"text-align: right;\">\n",
       "      <th></th>\n",
       "      <th>count</th>\n",
       "      <th>mean</th>\n",
       "      <th>std</th>\n",
       "      <th>min</th>\n",
       "      <th>25%</th>\n",
       "      <th>50%</th>\n",
       "      <th>75%</th>\n",
       "      <th>max</th>\n",
       "    </tr>\n",
       "  </thead>\n",
       "  <tbody>\n",
       "    <tr>\n",
       "      <th>id</th>\n",
       "      <td>9621.0</td>\n",
       "      <td>27258.000000</td>\n",
       "      <td>2777.487804</td>\n",
       "      <td>22448.000</td>\n",
       "      <td>24853.000</td>\n",
       "      <td>27258.000</td>\n",
       "      <td>29663.000</td>\n",
       "      <td>32068.000</td>\n",
       "    </tr>\n",
       "    <tr>\n",
       "      <th>거주인구</th>\n",
       "      <td>9621.0</td>\n",
       "      <td>317431.480541</td>\n",
       "      <td>298207.949076</td>\n",
       "      <td>9305.552</td>\n",
       "      <td>95399.394</td>\n",
       "      <td>222110.460</td>\n",
       "      <td>410667.056</td>\n",
       "      <td>1364503.913</td>\n",
       "    </tr>\n",
       "    <tr>\n",
       "      <th>근무인구</th>\n",
       "      <td>9621.0</td>\n",
       "      <td>35471.201510</td>\n",
       "      <td>40381.214775</td>\n",
       "      <td>1407.936</td>\n",
       "      <td>12074.498</td>\n",
       "      <td>21960.928</td>\n",
       "      <td>40192.032</td>\n",
       "      <td>263476.965</td>\n",
       "    </tr>\n",
       "    <tr>\n",
       "      <th>방문인구</th>\n",
       "      <td>9621.0</td>\n",
       "      <td>195889.561802</td>\n",
       "      <td>140706.090325</td>\n",
       "      <td>11538.322</td>\n",
       "      <td>99632.153</td>\n",
       "      <td>152805.335</td>\n",
       "      <td>236325.109</td>\n",
       "      <td>723459.209</td>\n",
       "    </tr>\n",
       "    <tr>\n",
       "      <th>총 유동인구</th>\n",
       "      <td>9621.0</td>\n",
       "      <td>548792.243858</td>\n",
       "      <td>460880.237722</td>\n",
       "      <td>22251.810</td>\n",
       "      <td>221690.987</td>\n",
       "      <td>386693.468</td>\n",
       "      <td>640691.811</td>\n",
       "      <td>2066483.867</td>\n",
       "    </tr>\n",
       "    <tr>\n",
       "      <th>평균 속도</th>\n",
       "      <td>9621.0</td>\n",
       "      <td>41.109084</td>\n",
       "      <td>8.758631</td>\n",
       "      <td>24.333</td>\n",
       "      <td>34.250</td>\n",
       "      <td>39.640</td>\n",
       "      <td>49.105</td>\n",
       "      <td>103.000</td>\n",
       "    </tr>\n",
       "    <tr>\n",
       "      <th>평균 소요 시간</th>\n",
       "      <td>9621.0</td>\n",
       "      <td>37.215873</td>\n",
       "      <td>12.993786</td>\n",
       "      <td>12.667</td>\n",
       "      <td>27.889</td>\n",
       "      <td>34.500</td>\n",
       "      <td>46.176</td>\n",
       "      <td>172.200</td>\n",
       "    </tr>\n",
       "    <tr>\n",
       "      <th>평균 기온</th>\n",
       "      <td>9621.0</td>\n",
       "      <td>13.550828</td>\n",
       "      <td>7.745515</td>\n",
       "      <td>-9.600</td>\n",
       "      <td>7.600</td>\n",
       "      <td>13.400</td>\n",
       "      <td>19.700</td>\n",
       "      <td>30.400</td>\n",
       "    </tr>\n",
       "    <tr>\n",
       "      <th>일강수량</th>\n",
       "      <td>9621.0</td>\n",
       "      <td>6.972426</td>\n",
       "      <td>27.617260</td>\n",
       "      <td>0.000</td>\n",
       "      <td>0.000</td>\n",
       "      <td>0.000</td>\n",
       "      <td>1.500</td>\n",
       "      <td>587.500</td>\n",
       "    </tr>\n",
       "    <tr>\n",
       "      <th>평균 풍속</th>\n",
       "      <td>9621.0</td>\n",
       "      <td>2.753171</td>\n",
       "      <td>1.498538</td>\n",
       "      <td>0.000</td>\n",
       "      <td>1.700</td>\n",
       "      <td>2.400</td>\n",
       "      <td>3.400</td>\n",
       "      <td>13.333</td>\n",
       "    </tr>\n",
       "  </tbody>\n",
       "</table>\n",
       "</div>"
      ],
      "text/plain": [
       "           count           mean            std        min         25%  \\\n",
       "id        9621.0   27258.000000    2777.487804  22448.000   24853.000   \n",
       "거주인구      9621.0  317431.480541  298207.949076   9305.552   95399.394   \n",
       "근무인구      9621.0   35471.201510   40381.214775   1407.936   12074.498   \n",
       "방문인구      9621.0  195889.561802  140706.090325  11538.322   99632.153   \n",
       "총 유동인구    9621.0  548792.243858  460880.237722  22251.810  221690.987   \n",
       "평균 속도     9621.0      41.109084       8.758631     24.333      34.250   \n",
       "평균 소요 시간  9621.0      37.215873      12.993786     12.667      27.889   \n",
       "평균 기온     9621.0      13.550828       7.745515     -9.600       7.600   \n",
       "일강수량      9621.0       6.972426      27.617260      0.000       0.000   \n",
       "평균 풍속     9621.0       2.753171       1.498538      0.000       1.700   \n",
       "\n",
       "                 50%         75%          max  \n",
       "id         27258.000   29663.000    32068.000  \n",
       "거주인구      222110.460  410667.056  1364503.913  \n",
       "근무인구       21960.928   40192.032   263476.965  \n",
       "방문인구      152805.335  236325.109   723459.209  \n",
       "총 유동인구    386693.468  640691.811  2066483.867  \n",
       "평균 속도         39.640      49.105      103.000  \n",
       "평균 소요 시간      34.500      46.176      172.200  \n",
       "평균 기온         13.400      19.700       30.400  \n",
       "일강수량           0.000       1.500      587.500  \n",
       "평균 풍속          2.400       3.400       13.333  "
      ]
     },
     "execution_count": 34,
     "metadata": {},
     "output_type": "execute_result"
    }
   ],
   "source": [
    "\n",
    "\n"
   ]
  },
  {
   "cell_type": "markdown",
   "id": "2fefc4bc-d1b5-47b8-8d24-4fe0a7a06bbd",
   "metadata": {},
   "source": [
    "### Question 16\n",
    "**거주인구 컬럼의 값들을 출력하라**\n"
   ]
  },
  {
   "cell_type": "code",
   "execution_count": 30,
   "id": "9c7fd2af-10fd-4ed1-ad98-6eb057187c45",
   "metadata": {
    "ExecuteTime": {
     "end_time": "2022-02-19T18:22:28.086195Z",
     "start_time": "2022-02-19T18:22:28.083923Z"
    },
    "tags": [
     "hide-input"
    ]
   },
   "outputs": [],
   "source": [
    "\n",
    "\n"
   ]
  },
  {
   "cell_type": "code",
   "execution_count": 31,
   "id": "6ee8fc7d-22de-4b69-ac8d-77959af6f92a",
   "metadata": {
    "ExecuteTime": {
     "end_time": "2022-02-19T18:22:28.091720Z",
     "start_time": "2022-02-19T18:22:28.087518Z"
    }
   },
   "outputs": [
    {
     "data": {
      "text/plain": [
       "0         32249.987\n",
       "1        213500.997\n",
       "2       1212382.218\n",
       "3         33991.653\n",
       "4        155036.925\n",
       "           ...     \n",
       "9616     228260.005\n",
       "9617     459959.064\n",
       "9618      28397.481\n",
       "9619     348037.846\n",
       "9620    1010643.372\n",
       "Name: 거주인구, Length: 9621, dtype: float64"
      ]
     },
     "execution_count": 31,
     "metadata": {},
     "output_type": "execute_result"
    }
   ],
   "source": [
    "Ans"
   ]
  },
  {
   "cell_type": "markdown",
   "id": "61daac11-24a5-40ab-9963-0b2ebddd1368",
   "metadata": {},
   "source": [
    "`거주인구` 컬럼의 기본 통계값을 출력하자"
   ]
  },
  {
   "cell_type": "code",
   "execution_count": null,
   "id": "1b125c4e-31c9-47ea-90fb-5855ddcb0c1e",
   "metadata": {},
   "outputs": [],
   "source": []
  },
  {
   "cell_type": "markdown",
   "id": "3e06bd11-52f6-41bd-857f-1faf6a98cb0e",
   "metadata": {},
   "source": [
    "### Question 17\n",
    "\n",
    "**`평균 속도` 컬럼의 4분위위수 25/50/70% 값을 구하여라**\n",
    " - quantile"
   ]
  },
  {
   "cell_type": "code",
   "execution_count": 37,
   "id": "6011b650-7382-41d7-930b-9ac4c5b4def7",
   "metadata": {},
   "outputs": [],
   "source": [
    "\n",
    "\n"
   ]
  },
  {
   "cell_type": "code",
   "execution_count": null,
   "id": "9a3b7e44-b0ae-4948-a4b8-656354115724",
   "metadata": {},
   "outputs": [],
   "source": [
    "Ans"
   ]
  },
  {
   "cell_type": "markdown",
   "id": "53538871-0b96-4e89-80b7-64992d17b27f",
   "metadata": {},
   "source": [
    "**`평균 속도` 컬럼의 4분위 범위(IQR) 값을 구하여라**"
   ]
  },
  {
   "cell_type": "code",
   "execution_count": 32,
   "id": "4740c4ab-3e7a-422e-adbe-fcb97acc530c",
   "metadata": {
    "ExecuteTime": {
     "end_time": "2022-02-19T18:22:28.097422Z",
     "start_time": "2022-02-19T18:22:28.093294Z"
    },
    "tags": [
     "hide-input"
    ]
   },
   "outputs": [],
   "source": [
    "\n",
    "\n"
   ]
  },
  {
   "cell_type": "code",
   "execution_count": 33,
   "id": "e559bcc1-b48a-49b0-ac73-384613b9dd74",
   "metadata": {
    "ExecuteTime": {
     "end_time": "2022-02-19T18:22:28.101635Z",
     "start_time": "2022-02-19T18:22:28.098778Z"
    }
   },
   "outputs": [
    {
     "data": {
      "text/plain": [
       "14.854999999999997"
      ]
     },
     "execution_count": 33,
     "metadata": {},
     "output_type": "execute_result"
    }
   ],
   "source": [
    "Ans"
   ]
  },
  {
   "cell_type": "markdown",
   "id": "365053ad-e8d1-4131-b3d0-18c214745a26",
   "metadata": {},
   "source": [
    "### Question 18\n",
    "\n",
    "**읍면동명 컬럼의 유일값을 모두 출력하라**\n",
    "\n",
    " - unique\n",
    " - nunique"
   ]
  },
  {
   "cell_type": "code",
   "execution_count": 36,
   "id": "45fcbf13-dd5e-4584-bf62-f30cb3095c6d",
   "metadata": {
    "ExecuteTime": {
     "end_time": "2022-02-19T18:22:28.113058Z",
     "start_time": "2022-02-19T18:22:28.110748Z"
    },
    "tags": [
     "hide-input"
    ]
   },
   "outputs": [],
   "source": [
    "\n",
    "\n"
   ]
  },
  {
   "cell_type": "code",
   "execution_count": 37,
   "id": "69e0351d-fef0-4b3b-a170-3271408a3d9a",
   "metadata": {
    "ExecuteTime": {
     "end_time": "2022-02-19T18:22:28.117223Z",
     "start_time": "2022-02-19T18:22:28.114310Z"
    }
   },
   "outputs": [
    {
     "data": {
      "text/plain": [
       "array(['도두동', '외도동', '이도2동', '일도1동', '대천동', '서홍동', '한경면', '송산동', '조천읍',\n",
       "       '일도2동', '영천동', '예래동', '대륜동', '삼도1동', '이호동', '건입동', '중앙동', '삼양동',\n",
       "       '삼도2동', '이도1동', '남원읍', '대정읍', '정방동', '효돈동', '아라동', '한림읍', '구좌읍',\n",
       "       '용담1동', '오라동', '화북동', '연동', '표선면', '중문동', '성산읍', '안덕면', '천지동',\n",
       "       '노형동', '동홍동', '용담2동', '봉개동', '애월읍'], dtype=object)"
      ]
     },
     "execution_count": 37,
     "metadata": {},
     "output_type": "execute_result"
    }
   ],
   "source": [
    "Ans"
   ]
  },
  {
   "cell_type": "markdown",
   "id": "281016b6-1e2b-4365-9af1-93819311b0a4",
   "metadata": {},
   "source": [
    "### Question 19\n",
    "\n",
    "**읍면동명 컬럼의 유일값 갯수를 출력하라**\n",
    " - unique\n",
    " - nunique"
   ]
  },
  {
   "cell_type": "code",
   "execution_count": 38,
   "id": "9b5bc7c9-bfeb-4660-95cf-2233de65a0d3",
   "metadata": {
    "ExecuteTime": {
     "end_time": "2022-02-19T18:22:28.105188Z",
     "start_time": "2022-02-19T18:22:28.102746Z"
    },
    "tags": [
     "hide-input"
    ]
   },
   "outputs": [],
   "source": [
    "\n",
    "\n"
   ]
  },
  {
   "cell_type": "code",
   "execution_count": 39,
   "id": "e680998a-4671-4148-ab0b-b7ea1edb99aa",
   "metadata": {
    "ExecuteTime": {
     "end_time": "2022-02-19T18:22:28.109460Z",
     "start_time": "2022-02-19T18:22:28.106646Z"
    }
   },
   "outputs": [
    {
     "data": {
      "text/plain": [
       "41"
      ]
     },
     "execution_count": 39,
     "metadata": {},
     "output_type": "execute_result"
    }
   ],
   "source": [
    "Ans"
   ]
  },
  {
   "cell_type": "markdown",
   "id": "321ad292-0002-4e3e-93a7-f8be0636dbe0",
   "metadata": {},
   "source": [
    "**읍면동명 컬럼의 유일 값과 각 값의 갯수를 출력하라**\n",
    " - value_counts\n"
   ]
  },
  {
   "cell_type": "code",
   "execution_count": 42,
   "id": "0cb73b6e-d70c-4b82-a605-5a455c31db92",
   "metadata": {
    "collapsed": true,
    "jupyter": {
     "outputs_hidden": true
    },
    "tags": []
   },
   "outputs": [
    {
     "data": {
      "text/plain": [
       "남원읍     241\n",
       "용담1동    241\n",
       "한림읍     241\n",
       "오라동     241\n",
       "효돈동     241\n",
       "정방동     241\n",
       "대정읍     241\n",
       "외도동     241\n",
       "이도1동    241\n",
       "삼도2동    241\n",
       "중앙동     241\n",
       "성산읍     241\n",
       "삼도1동    241\n",
       "예래동     241\n",
       "영천동     241\n",
       "일도2동    241\n",
       "송산동     241\n",
       "한경면     241\n",
       "서홍동     241\n",
       "동홍동     241\n",
       "일도1동    241\n",
       "용담2동    241\n",
       "구좌읍     241\n",
       "안덕면     240\n",
       "표선면     240\n",
       "화북동     240\n",
       "천지동     240\n",
       "도두동     240\n",
       "아라동     240\n",
       "삼양동     240\n",
       "이호동     240\n",
       "대륜동     240\n",
       "조천읍     240\n",
       "이도2동    240\n",
       "애월읍     240\n",
       "연동      239\n",
       "노형동     239\n",
       "건입동     238\n",
       "중문동     238\n",
       "봉개동     238\n",
       "대천동       6\n",
       "Name: 읍면동명, dtype: int64"
      ]
     },
     "execution_count": 42,
     "metadata": {},
     "output_type": "execute_result"
    }
   ],
   "source": [
    "\n",
    "\n"
   ]
  },
  {
   "cell_type": "markdown",
   "id": "419f45d5-c806-45e5-953c-2f8b339ad474",
   "metadata": {},
   "source": [
    ">"
   ]
  },
  {
   "cell_type": "markdown",
   "id": "05e94247-bb67-4436-af76-3ca2df1ee12c",
   "metadata": {},
   "source": [
    ">"
   ]
  }
 ],
 "metadata": {
  "kernelspec": {
   "display_name": "Python 3 (ipykernel)",
   "language": "python",
   "name": "python3"
  },
  "language_info": {
   "codemirror_mode": {
    "name": "ipython",
    "version": 3
   },
   "file_extension": ".py",
   "mimetype": "text/x-python",
   "name": "python",
   "nbconvert_exporter": "python",
   "pygments_lexer": "ipython3",
   "version": "3.10.3"
  }
 },
 "nbformat": 4,
 "nbformat_minor": 5
}
