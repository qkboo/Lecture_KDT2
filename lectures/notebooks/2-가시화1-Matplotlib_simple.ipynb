{
 "cells": [
  {
   "cell_type": "markdown",
   "metadata": {
    "colab_type": "text",
    "id": "5IMxZQV61P12"
   },
   "source": [
    "# matplotlinb 입문"
   ]
  },
  {
   "cell_type": "code",
   "execution_count": 1,
   "metadata": {},
   "outputs": [],
   "source": [
    "import numpy as np\n",
    "import pandas as pd\n",
    "\n",
    "import matplotlib.pyplot as plt\n",
    "import matplotlib.font_manager as fm\n",
    "%matplotlib inline"
   ]
  },
  {
   "cell_type": "code",
   "execution_count": 2,
   "metadata": {
    "colab": {
     "base_uri": "https://localhost:8080/",
     "height": 195
    },
    "colab_type": "code",
    "id": "Es-WNkfv1P1_",
    "outputId": "d7149a8c-77a0-4aea-ed00-5d6f02f68733"
   },
   "outputs": [],
   "source": [
    "# 데이터 준비\n",
    "import seaborn as sns\n",
    "df_iris = sns.load_dataset(\"iris\") "
   ]
  },
  {
   "cell_type": "code",
   "execution_count": 5,
   "metadata": {
    "colab": {
     "base_uri": "https://localhost:8080/",
     "height": 195
    },
    "colab_type": "code",
    "id": "Es-WNkfv1P1_",
    "outputId": "d7149a8c-77a0-4aea-ed00-5d6f02f68733"
   },
   "outputs": [
    {
     "data": {
      "text/html": [
       "<div>\n",
       "<style scoped>\n",
       "    .dataframe tbody tr th:only-of-type {\n",
       "        vertical-align: middle;\n",
       "    }\n",
       "\n",
       "    .dataframe tbody tr th {\n",
       "        vertical-align: top;\n",
       "    }\n",
       "\n",
       "    .dataframe thead th {\n",
       "        text-align: right;\n",
       "    }\n",
       "</style>\n",
       "<table border=\"1\" class=\"dataframe\">\n",
       "  <thead>\n",
       "    <tr style=\"text-align: right;\">\n",
       "      <th></th>\n",
       "      <th>sepal_length</th>\n",
       "      <th>sepal_width</th>\n",
       "      <th>petal_length</th>\n",
       "      <th>petal_width</th>\n",
       "      <th>species</th>\n",
       "    </tr>\n",
       "  </thead>\n",
       "  <tbody>\n",
       "    <tr>\n",
       "      <th>0</th>\n",
       "      <td>5.1</td>\n",
       "      <td>3.5</td>\n",
       "      <td>1.4</td>\n",
       "      <td>0.2</td>\n",
       "      <td>setosa</td>\n",
       "    </tr>\n",
       "    <tr>\n",
       "      <th>1</th>\n",
       "      <td>4.9</td>\n",
       "      <td>3.0</td>\n",
       "      <td>1.4</td>\n",
       "      <td>0.2</td>\n",
       "      <td>setosa</td>\n",
       "    </tr>\n",
       "    <tr>\n",
       "      <th>2</th>\n",
       "      <td>4.7</td>\n",
       "      <td>3.2</td>\n",
       "      <td>1.3</td>\n",
       "      <td>0.2</td>\n",
       "      <td>setosa</td>\n",
       "    </tr>\n",
       "    <tr>\n",
       "      <th>3</th>\n",
       "      <td>4.6</td>\n",
       "      <td>3.1</td>\n",
       "      <td>1.5</td>\n",
       "      <td>0.2</td>\n",
       "      <td>setosa</td>\n",
       "    </tr>\n",
       "    <tr>\n",
       "      <th>4</th>\n",
       "      <td>5.0</td>\n",
       "      <td>3.6</td>\n",
       "      <td>1.4</td>\n",
       "      <td>0.2</td>\n",
       "      <td>setosa</td>\n",
       "    </tr>\n",
       "  </tbody>\n",
       "</table>\n",
       "</div>"
      ],
      "text/plain": [
       "   sepal_length  sepal_width  petal_length  petal_width species\n",
       "0           5.1          3.5           1.4          0.2  setosa\n",
       "1           4.9          3.0           1.4          0.2  setosa\n",
       "2           4.7          3.2           1.3          0.2  setosa\n",
       "3           4.6          3.1           1.5          0.2  setosa\n",
       "4           5.0          3.6           1.4          0.2  setosa"
      ]
     },
     "execution_count": 5,
     "metadata": {},
     "output_type": "execute_result"
    }
   ],
   "source": [
    "df_iris.head()"
   ]
  },
  {
   "cell_type": "markdown",
   "metadata": {
    "colab_type": "text",
    "id": "u-fIeytl1P1_"
   },
   "source": [
    "## 1. 단순 방식 (plt.xxx 함수 사용)"
   ]
  },
  {
   "cell_type": "markdown",
   "metadata": {
    "colab_type": "text",
    "id": "udaKCL-L1P1_"
   },
   "source": [
    "#### 산점도"
   ]
  },
  {
   "cell_type": "code",
   "execution_count": 6,
   "metadata": {
    "colab": {
     "base_uri": "https://localhost:8080/",
     "height": 195
    },
    "colab_type": "code",
    "id": "Es-WNkfv1P1_",
    "outputId": "d7149a8c-77a0-4aea-ed00-5d6f02f68733"
   },
   "outputs": [],
   "source": [
    "# 산점도 x좌표를 위한 시리즈\n",
    "xs = df_iris['sepal_length']\n",
    "\n",
    "# 산점도 y좌표를 위한 시리즈\n",
    "ys = df_iris['sepal_width']"
   ]
  },
  {
   "cell_type": "code",
   "execution_count": 7,
   "metadata": {
    "colab": {
     "base_uri": "https://localhost:8080/",
     "height": 380
    },
    "colab_type": "code",
    "id": "UGxEsn0X1P2C",
    "outputId": "5aa7b5ce-8191-4235-95ff-3d7ee9776d94"
   },
   "outputs": [
    {
     "data": {
      "image/png": "[encoded data removed]",
      "text/plain": [
       "<Figure size 432x432 with 1 Axes>"
      ]
     },
     "metadata": {
      "needs_background": "light"
     },
     "output_type": "display_data"
    }
   ],
   "source": [
    "# 그래프 크기 설정\n",
    "plt.rcParams['figure.figsize'] = (6, 6)\n",
    "\n",
    "plt.title('Sepal length & width')\n",
    "# 산점도 그리기\n",
    "plt.scatter(xs, ys)\n",
    "\n",
    "# 화면에 출력\n",
    "plt.show()"
   ]
  },
  {
   "cell_type": "markdown",
   "metadata": {
    "colab_type": "text",
    "id": "y7Ahnm431P2F"
   },
   "source": [
    "#### 함수의 그래프"
   ]
  },
  {
   "cell_type": "code",
   "execution_count": 8,
   "metadata": {
    "colab": {},
    "colab_type": "code",
    "id": "1xx8yyay1P2F"
   },
   "outputs": [],
   "source": [
    "# 데이터 준비\n",
    "\n",
    "# 시그모이드 함수 정의\n",
    "def sigmoid(x, a):\n",
    "    return 1/(1 + np.exp(-a*x))\n",
    "\n",
    "# 그래프 x좌표를 위한 리스트\n",
    "xp = np.linspace(-3, 3, 61)"
   ]
  },
  {
   "cell_type": "code",
   "execution_count": 9,
   "metadata": {
    "colab": {
     "base_uri": "https://localhost:8080/",
     "height": 377
    },
    "colab_type": "code",
    "id": "ProeQEHq1P2K",
    "outputId": "3b1cba67-33b7-44a8-8820-6fee960da9d9"
   },
   "outputs": [
    {
     "data": {
      "image/png": "[encoded data removed]",
      "text/plain": [
       "<Figure size 432x432 with 1 Axes>"
      ]
     },
     "metadata": {
      "needs_background": "light"
     },
     "output_type": "display_data"
    }
   ],
   "source": [
    "# 그래프 크기 설정\n",
    "plt.rcParams['figure.figsize'] = (6, 6)\n",
    "\n",
    "# 그래프 그리기\n",
    "plt.plot(xp, sigmoid(xp, 1.0))\n",
    "\n",
    "# 화면에 출력\n",
    "plt.show()"
   ]
  },
  {
   "cell_type": "markdown",
   "metadata": {
    "colab_type": "text",
    "id": "Ksn0T5h71P2O"
   },
   "source": [
    "#### 복잡한 예"
   ]
  },
  {
   "cell_type": "code",
   "execution_count": 10,
   "metadata": {
    "colab": {
     "base_uri": "https://localhost:8080/",
     "height": 394
    },
    "colab_type": "code",
    "id": "we62RKgU1P2O",
    "outputId": "b3768133-e36e-454d-b6ef-ba3ed42662ba"
   },
   "outputs": [
    {
     "data": {
      "image/png": "[encoded data removed]",
      "text/plain": [
       "<Figure size 432x432 with 1 Axes>"
      ]
     },
     "metadata": {
      "needs_background": "light"
     },
     "output_type": "display_data"
    }
   ],
   "source": [
    "# 그래프 크기 설정\n",
    "plt.rcParams['figure.figsize'] = (6, 6)\n",
    "\n",
    "# 레이블이 달린 그래프 그리기 #1\n",
    "plt.plot(xp, sigmoid(xp, 1.0), \n",
    "         label='시그모이드함수1', lw=3, c='k')\n",
    "\n",
    "# 레이블이 달린 그래프 그리기 #2\n",
    "plt.plot(xp, sigmoid(xp, 2.0), \n",
    "         label='시그모이드함수2', lw=2, c='b')\n",
    "\n",
    "# 눈금 그리기\n",
    "plt.grid()\n",
    "\n",
    "# 범례 그리기\n",
    "plt.legend()\n",
    "\n",
    "# 축 표시\n",
    "plt.xlabel('x축')\n",
    "plt.ylabel('y축')\n",
    "\n",
    "# 화면 출력\n",
    "plt.show()"
   ]
  },
  {
   "cell_type": "markdown",
   "metadata": {
    "id": "qmU_4SQQZj_q"
   },
   "source": [
    "### 3차 함수 `f(x) = (x-2) x (x+2)` 그리기"
   ]
  },
  {
   "cell_type": "code",
   "execution_count": 4,
   "metadata": {
    "id": "YGoppQnBZqHZ"
   },
   "outputs": [],
   "source": [
    "def f(x):\n",
    "    return (x - 2) * x * (x + 2)"
   ]
  },
  {
   "cell_type": "code",
   "execution_count": 5,
   "metadata": {
    "colab": {
     "base_uri": "https://localhost:8080/"
    },
    "executionInfo": {
     "elapsed": 839,
     "status": "ok",
     "timestamp": 1604227405030,
     "user": {
      "displayName": "wooki park",
      "photoUrl": "",
      "userId": "01162254528265100624"
     },
     "user_tz": -540
    },
    "id": "hr0jRj4wZ12G",
    "outputId": "a2c31da2-79f8-41da-934b-35c6e5ed20ca"
   },
   "outputs": [
    {
     "name": "stdout",
     "output_type": "stream",
     "text": [
      "-3\n"
     ]
    }
   ],
   "source": [
    "print(f(1))"
   ]
  },
  {
   "cell_type": "code",
   "execution_count": 6,
   "metadata": {
    "colab": {
     "base_uri": "https://localhost:8080/"
    },
    "executionInfo": {
     "elapsed": 1188,
     "status": "ok",
     "timestamp": 1604227420289,
     "user": {
      "displayName": "wooki park",
      "photoUrl": "",
      "userId": "01162254528265100624"
     },
     "user_tz": -540
    },
    "id": "3MkXPetfZ5Fr",
    "outputId": "1d1942a8-0a37-4fca-d987-2a6a4ba630c7"
   },
   "outputs": [
    {
     "name": "stdout",
     "output_type": "stream",
     "text": [
      "[-3  0 15]\n"
     ]
    }
   ],
   "source": [
    "print(f(np.array([1,2,3])))"
   ]
  },
  {
   "cell_type": "markdown",
   "metadata": {},
   "source": [
    "샘플 x 데이터 생성"
   ]
  },
  {
   "cell_type": "code",
   "execution_count": 7,
   "metadata": {
    "colab": {
     "base_uri": "https://localhost:8080/"
    },
    "executionInfo": {
     "elapsed": 909,
     "status": "ok",
     "timestamp": 1604227450709,
     "user": {
      "displayName": "wooki park",
      "photoUrl": "",
      "userId": "01162254528265100624"
     },
     "user_tz": -540
    },
    "id": "2PLN9A-gZ_aS",
    "outputId": "274f8085-e03d-4a14-e517-a9ee72e39b77"
   },
   "outputs": [
    {
     "name": "stdout",
     "output_type": "stream",
     "text": [
      "[-3.  -2.5 -2.  -1.5 -1.  -0.5  0.   0.5  1.   1.5  2.   2.5  3. ]\n"
     ]
    }
   ],
   "source": [
    "x = np.arange(-3, 3.5, 0.5)\n",
    "print(x)"
   ]
  },
  {
   "cell_type": "code",
   "execution_count": 8,
   "metadata": {
    "colab": {
     "base_uri": "https://localhost:8080/"
    },
    "executionInfo": {
     "elapsed": 791,
     "status": "ok",
     "timestamp": 1604227474389,
     "user": {
      "displayName": "wooki park",
      "photoUrl": "",
      "userId": "01162254528265100624"
     },
     "user_tz": -540
    },
    "id": "NbUXVp6IaEOX",
    "outputId": "f314bce0-6e7c-4adb-ec12-4945377ac2a5"
   },
   "outputs": [
    {
     "name": "stdout",
     "output_type": "stream",
     "text": [
      "[-3.   -2.33 -1.67 -1.   -0.33  0.33  1.    1.67  2.33  3.  ]\n"
     ]
    }
   ],
   "source": [
    "x = np.linspace(-3, 3, 10)\n",
    "print(np.round(x,2))"
   ]
  },
  {
   "cell_type": "code",
   "execution_count": 9,
   "metadata": {},
   "outputs": [],
   "source": [
    "y = f(x)"
   ]
  },
  {
   "cell_type": "code",
   "execution_count": 11,
   "metadata": {
    "colab": {
     "base_uri": "https://localhost:8080/",
     "height": 265
    },
    "executionInfo": {
     "elapsed": 864,
     "status": "ok",
     "timestamp": 1604227498440,
     "user": {
      "displayName": "wooki park",
      "photoUrl": "",
      "userId": "01162254528265100624"
     },
     "user_tz": -540
    },
    "id": "tATb6N1QaMIM",
    "outputId": "664cb3ff-145d-4172-d0c2-d2a041176656"
   },
   "outputs": [
    {
     "data": {
      "image/png": "[encoded data removed]",
      "text/plain": [
       "<Figure size 720x360 with 1 Axes>"
      ]
     },
     "metadata": {
      "needs_background": "light"
     },
     "output_type": "display_data"
    }
   ],
   "source": [
    "plt.figure(figsize=(10, 5))\n",
    "plt.plot(x, y)\n",
    "plt.show()"
   ]
  },
  {
   "cell_type": "markdown",
   "metadata": {
    "colab_type": "text",
    "id": "uADXcDSU1P2Q"
   },
   "source": [
    "## 2. fig, ax 변수를 사용하는 방식"
   ]
  },
  {
   "cell_type": "markdown",
   "metadata": {
    "colab_type": "text",
    "id": "XuZXa78I1P2R"
   },
   "source": [
    "#### 시계열 그래프 그리기"
   ]
  },
  {
   "cell_type": "code",
   "execution_count": null,
   "metadata": {
    "colab": {
     "base_uri": "https://localhost:8080/",
     "height": 195
    },
    "colab_type": "code",
    "id": "Foa8ikej1P2R",
    "outputId": "f96eca9d-d525-4d36-8eef-b01bad48790c"
   },
   "outputs": [],
   "source": [
    "# 데이터 준비\n",
    "\n",
    "# 아이스크림 지출액\n",
    "df_ice = pd.read_excel('https://github.com/flourscent\\\n",
    "/sample-data/blob/master/data/ice-sales.xlsx?raw=true', \n",
    "    sheet_name=0)\n",
    "\n",
    "# 결과 확인\n",
    "display(df_ice.head())"
   ]
  },
  {
   "cell_type": "code",
   "execution_count": null,
   "metadata": {
    "colab": {
     "base_uri": "https://localhost:8080/",
     "height": 313
    },
    "colab_type": "code",
    "id": "VegbZxD71P2U",
    "outputId": "91e19a66-282e-4907-b6fc-acddf8eb44c7"
   },
   "outputs": [],
   "source": [
    "# ax 변수를 구하기\n",
    "# 그래프 크기 설정도 겸한다\n",
    "fig, ax = plt.subplots(figsize=(12, 4))\n",
    "\n",
    "# 그래프 그리기\n",
    "ax.plot(df_ice['연월'], df_ice['지출'], c='b')\n",
    "\n",
    "# 날짜 설정용 라이브러리\n",
    "import matplotlib.dates as mdates\n",
    "\n",
    "# 눈금 간격을 3개월로 설정\n",
    "days = mdates.MonthLocator(bymonth=range(1,13,3))\n",
    "ax.xaxis.set_major_locator(days)\n",
    "\n",
    "# x축의 레이블을 90도 회전\n",
    "ax.tick_params(axis='x', rotation=90)\n",
    "\n",
    "# 눈금 표시\n",
    "ax.grid()\n",
    "\n",
    "# 화면 출력\n",
    "plt.show()"
   ]
  },
  {
   "cell_type": "markdown",
   "metadata": {
    "colab_type": "text",
    "id": "pXY-prC71P2W"
   },
   "source": [
    "## 3. ax 변수를 사용하는 방식 2 (그래프 영역을 여러 개 만드는 경우)"
   ]
  },
  {
   "cell_type": "markdown",
   "metadata": {
    "colab_type": "text",
    "id": "6r1lXoP71P2W"
   },
   "source": [
    "#### 여러 개의 그래프 영역에 그래프 그리기"
   ]
  },
  {
   "cell_type": "code",
   "execution_count": null,
   "metadata": {
    "colab": {},
    "colab_type": "code",
    "id": "jEPCWTgQ1P2X"
   },
   "outputs": [],
   "source": [
    "# 데이터 준비\n",
    "\n",
    "# 손글씨 데이터\n",
    "# 시간이 오래 걸릴 수 있으니 주의\n",
    "from sklearn.datasets import fetch_openml\n",
    "mnist = fetch_openml('mnist_784', version=1,)\n",
    "\n",
    "# 이미지 데이터\n",
    "image = mnist.data.values\n",
    "# 정답 데이터\n",
    "label = mnist.target"
   ]
  },
  {
   "cell_type": "code",
   "execution_count": null,
   "metadata": {
    "colab": {
     "base_uri": "https://localhost:8080/",
     "height": 201
    },
    "colab_type": "code",
    "id": "n8IJVncG1P2Z",
    "outputId": "80e489ec-dae5-437d-8e6f-614f4ca47c59"
   },
   "outputs": [],
   "source": [
    "# 그래프 크기 설정\n",
    "plt.figure(figsize=(10, 3))\n",
    "\n",
    "# 이미지 20장을 출력\n",
    "for i in range(20): \n",
    "    \n",
    "    # i번째 ax 변수를 얻음\n",
    "    ax = plt.subplot(2, 10, i+1)\n",
    "    \n",
    "    # i번째 이미지 데이터를 28x28 크기로 변환\n",
    "    img = image[i].reshape(28,28)\n",
    "    \n",
    "    # img를 이미지로 그림\n",
    "    ax.imshow(img, cmap='gray_r')\n",
    "    \n",
    "    # 정답 데이터를 타이틀로 표시\n",
    "    ax.set_title(label[i])\n",
    "    \n",
    "    # x, y 눈금 표시하지 않음\n",
    "    ax.set_xticks([])\n",
    "    ax.set_yticks([])\n",
    "    \n",
    "# 인접 오브젝트와 부딪히지 않게 함\n",
    "plt.tight_layout()\n",
    "\n",
    "# 화면 출력\n",
    "plt.show() "
   ]
  },
  {
   "cell_type": "markdown",
   "metadata": {
    "colab_type": "text",
    "id": "FgbdWcye1P2d"
   },
   "source": [
    "## 4. 데이터프레임을 이용하는 방식"
   ]
  },
  {
   "cell_type": "markdown",
   "metadata": {
    "colab_type": "text",
    "id": "tbhlYkiR1P2d"
   },
   "source": [
    "#### 데이터프레임으로 히스토그램 그리기"
   ]
  },
  {
   "cell_type": "code",
   "execution_count": null,
   "metadata": {
    "colab": {
     "base_uri": "https://localhost:8080/",
     "height": 505
    },
    "colab_type": "code",
    "id": "llxQ_15C1P2d",
    "outputId": "616411ab-dcdd-40fd-c639-e2c4e9b6339b"
   },
   "outputs": [],
   "source": [
    "# 히스토그램 그리기\n",
    "\n",
    "# 그래프 크기 설정\n",
    "plt.rcParams['figure.figsize'] = (8, 8)\n",
    "\n",
    "# 히스토그램 그리기\n",
    "df_iris.hist()\n",
    "\n",
    "# 화면 출력\n",
    "plt.show()"
   ]
  },
  {
   "cell_type": "markdown",
   "metadata": {
    "colab_type": "text",
    "id": "lhnKj6rw1P2g"
   },
   "source": [
    "#### 시리즈를 사용한 막대그래프 그리기"
   ]
  },
  {
   "cell_type": "code",
   "execution_count": null,
   "metadata": {
    "colab": {
     "base_uri": "https://localhost:8080/",
     "height": 122
    },
    "colab_type": "code",
    "id": "FDWruZXR1P2g",
    "outputId": "8fe0e3d6-7c47-4ee9-f435-290aba5f2df1"
   },
   "outputs": [],
   "source": [
    "# 데이터 준비\n",
    "\n",
    "# df_iris['sepal_width']의 값마다 건수를 집계하고 상위 5가지를 뽑음\n",
    "counts_ser = df_iris['sepal_width'].value_counts().iloc[:5]\n",
    "\n",
    "# 결과 확인\n",
    "print(counts_ser)"
   ]
  },
  {
   "cell_type": "code",
   "execution_count": null,
   "metadata": {
    "colab": {
     "base_uri": "https://localhost:8080/",
     "height": 277
    },
    "colab_type": "code",
    "id": "hDs643RN1P2i",
    "outputId": "e6b15da8-cdf6-4e35-adbc-116a21b1cd5b"
   },
   "outputs": [],
   "source": [
    "# value_counts 함수의 실행 결과로 막대그래프 그리기\n",
    "\n",
    "# 그래프 크기 설정\n",
    "plt.rcParams['figure.figsize'] = (4, 4)\n",
    "\n",
    "# 시리즈 데이터를 사용해 막대그래프 그리기\n",
    "counts_ser.plot(kind='bar')\n",
    "\n",
    "# 화면 출력\n",
    "plt.show()"
   ]
  },
  {
   "cell_type": "markdown",
   "metadata": {},
   "source": [
    "### plot Kind\n",
    "\n",
    "여러 형식별 플로팅 메서드를 제공하고 또는 [DataFrame.plot()](https://pandas.pydata.org/pandas-docs/stable/reference/api/pandas.DataFrame.plot.html#pandas.DataFrame.plot) 에 메서드 명과 같은 **`kind`** 매개변수에 플롯 종류를 지정할 수 있다. \n",
    "\n",
    "- [line](#plot) : line plot (default)\n",
    "- ‘bar’ or ‘barh’ for bar plots\n",
    "- ‘barh’ : horizontal bar plot\n",
    "- ‘hist’ for histogram\n",
    "- [box](#boxplot): for boxplot\n",
    "- ‘kde’ or ‘density’ for density plots\n",
    "- ‘density’ : same as ‘kde’\n",
    "- ‘area’ for area plots\n",
    "- ‘pie’ for pie plots\n",
    "- ‘scatter’ for scatter plots\n",
    "- ‘hexbin’ for hexagonal bin plots"
   ]
  },
  {
   "cell_type": "code",
   "execution_count": null,
   "metadata": {},
   "outputs": [],
   "source": []
  },
  {
   "cell_type": "markdown",
   "metadata": {},
   "source": [
    "# 한글 사용\n",
    "\n",
    "- 사용가능한 폰트 확인, TTF 폰트 설치 방법\n",
    "- matplotlib 텍스트 출력시 폰트 특성을 지정 (FontProperties)\n",
    "- matplotlib 전역으로 한글 글꼴 지정(rcParams)"
   ]
  },
  {
   "cell_type": "markdown",
   "metadata": {},
   "source": [
    "### 폰트 찾기"
   ]
  },
  {
   "cell_type": "code",
   "execution_count": 31,
   "metadata": {
    "tags": []
   },
   "outputs": [
    {
     "name": "stdout",
     "output_type": "stream",
     "text": [
      "NanumSquareRound /usr/share/fonts/truetype/nanum/NanumSquareRoundB.ttf\n",
      "NanumMyeongjo /usr/share/fonts/truetype/nanum/NanumMyeongjoBold.ttf\n",
      "NanumBarunGothic /usr/share/fonts/truetype/nanum/NanumBarunGothicBold.ttf\n",
      "NanumBarunGothic /usr/share/fonts/truetype/nanum/NanumBarunGothic.ttf\n",
      "NanumSquare /usr/share/fonts/truetype/nanum/NanumSquareR.ttf\n",
      "NanumGothicCoding /usr/share/fonts/truetype/nanum/NanumGothicCoding-Bold.ttf\n",
      "NanumGothic /usr/share/fonts/truetype/nanum/NanumGothicBold.ttf\n",
      "NanumGothicCoding /usr/share/fonts/truetype/nanum/NanumGothicCoding.ttf\n",
      "NanumGothic /usr/share/fonts/truetype/nanum/NanumGothic.ttf\n",
      "NanumMyeongjo /usr/share/fonts/truetype/nanum/NanumMyeongjo.ttf\n",
      "NanumSquare /usr/share/fonts/truetype/nanum/NanumSquareB.ttf\n",
      "NanumSquareRound /usr/share/fonts/truetype/nanum/NanumSquareRoundR.ttf\n"
     ]
    }
   ],
   "source": [
    "# 폰트 목록에서 폰트 찾기\n",
    "for font in fm.fontManager.ttflist:\n",
    "    if 'Nanum' in font.name:\n",
    "        print(font.name, font.fname)"
   ]
  },
  {
   "cell_type": "markdown",
   "metadata": {},
   "source": [
    "### rcPrams 사용 전역"
   ]
  },
  {
   "cell_type": "code",
   "execution_count": 3,
   "metadata": {},
   "outputs": [
    {
     "data": {
      "text/plain": [
       "Text(0.5, 1.0, '한글 타이틀...')"
      ]
     },
     "execution_count": 3,
     "metadata": {},
     "output_type": "execute_result"
    },
    {
     "data": {
      "image/png": "[encoded data removed]",
      "text/plain": [
       "<Figure size 720x216 with 1 Axes>"
      ]
     },
     "metadata": {
      "needs_background": "light"
     },
     "output_type": "display_data"
    }
   ],
   "source": [
    "# font_path = 'C:/Windows/Fonts/NanumGothic.ttf'\n",
    "font_path = \"/usr/share/fonts/truetype/nanum/NanumGothic.ttf\"\n",
    "fontname = fm.FontProperties(fname=font_path, size=18).get_name()  # 폰트 패밀리 이름!\n",
    "plt.rcParams[\"font.family\"] = fontname\n",
    "\n",
    "# matplotlib 설정\n",
    "plt.rcParams[\"axes.grid\"] = True\n",
    "plt.rcParams[\"figure.figsize\"] = (10,3)\n",
    "plt.rcParams[\"axes.formatter.useoffset\"] = False\n",
    "plt.rcParams['axes.unicode_minus'] = False\n",
    "plt.rcParams[\"axes.formatter.limits\"] = -10000, 10000\n",
    "\n",
    "plt.title('한글 타이틀...')"
   ]
  },
  {
   "cell_type": "markdown",
   "metadata": {
    "tags": []
   },
   "source": [
    "### 그래프에 FontProperties 객체 사용\n",
    "\n",
    "한글 표현을 사용하는 그래프에서만 사용한다.\n",
    "\n",
    "```python\n",
    "import numpy as np\n",
    "import matplotlib.pyplot as plt\n",
    "import matplotlib.font_manager as fm\n",
    "\n",
    "path = '/usr/share/fonts/truetype/nanum/NanumGothicBold.ttf'\n",
    "fp = fm.FontProperties(fname=path, size=18)\n",
    "\n",
    "prices = np.random.randn(100).cumsum()\n",
    "\n",
    "plt.plot(prices, '-')\n",
    "plt.title('가격추이', fontproperties=fp)\n",
    "plt.xlabel('일자', fontproperties=fp)\n",
    "plt.ylabel('가격', fontproperties=fp)\n",
    "```\n",
    "\n"
   ]
  }
 ],
 "metadata": {
  "colab": {
   "name": "l2_03_matplotlib.ipynb",
   "provenance": []
  },
  "kernelspec": {
   "display_name": "Python 3 (ipykernel)",
   "language": "python",
   "name": "python3"
  },
  "language_info": {
   "codemirror_mode": {
    "name": "ipython",
    "version": 3
   },
   "file_extension": ".py",
   "mimetype": "text/x-python",
   "name": "python",
   "nbconvert_exporter": "python",
   "pygments_lexer": "ipython3",
   "version": "3.10.9"
  }
 },
 "nbformat": 4,
 "nbformat_minor": 4
}
