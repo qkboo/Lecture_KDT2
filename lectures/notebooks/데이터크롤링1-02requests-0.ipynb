{
 "cells": [
  {
   "cell_type": "markdown",
   "metadata": {
    "id": "pZccyiWDXzVZ"
   },
   "source": [
    "# requests\n",
    "HTTP 요청/응답 처리 모듈\n",
    "* http://docs.python-requests.org/en/master/user/quickstart/\n"
   ]
  },
  {
   "cell_type": "markdown",
   "metadata": {},
   "source": [
    "\n",
    "requests와 cssselect를 함께 설치해 준다.\n",
    "\n",
    "pip\n",
    "\n",
    "```\n",
    "! pip install requests cssselect\n",
    "```\n",
    "\n",
    "Anaconda\n",
    "\n",
    "```\n",
    "! conda install -y -c conda-forge requests cssselect\n",
    "```"
   ]
  },
  {
   "cell_type": "markdown",
   "metadata": {
    "id": "Mkbbua8YXzVa"
   },
   "source": [
    "# BeautifulSoup\n",
    "Python library for pulling data out of HTML and XML file\n",
    "* http://www.crummy.com/software/BeautifulSoup/bs4/doc/"
   ]
  },
  {
   "cell_type": "markdown",
   "metadata": {},
   "source": [
    "```\n",
    "! conda install -y -c conda-forge bs4\n",
    "```"
   ]
  },
  {
   "cell_type": "markdown",
   "metadata": {},
   "source": [
    "# Requests Quick Start\n",
    "\n",
    "Python [requests](http://docs.python-requests.org/en/v1.0.0/) 모듈은 사람에 친숙한 apache HTTP 라이브러리다. urllib2는 표준적인 HTTP를 제공하지만 대부분 다른 시간, 다른 웹 환경에서 개발되어 왔다.\n"
   ]
  },
  {
   "cell_type": "code",
   "execution_count": null,
   "metadata": {},
   "outputs": [],
   "source": [
    "import requests\n",
    "from bs4 import BeautifulSoup"
   ]
  },
  {
   "cell_type": "markdown",
   "metadata": {},
   "source": [
    "## requests 사용해보기\n",
    "\n",
    "HTTP method 에 적절한 함수를 사용한다.\n",
    "\n",
    "```\n",
    "response = requests.get('https://www.naver.com')\n",
    "                    .post\n",
    "                    .put\n",
    "                    .delete\n",
    "                    .head\n",
    "                    .options\n",
    "                    .trace\n",
    "```\n",
    "\n",
    "```python\n",
    ">>> r = requests.get('https://api.github.com/user', auth=('user', 'pass'))\n",
    ">>> r.status_code\n",
    "200\n",
    ">>> r.headers['content-type']\n",
    "'application/json; charset=utf8'\n",
    ">>> r.encoding\n",
    "'utf-8'\n",
    ">>> r.text\n",
    "u'{\"type\":\"User\"...'\n",
    ">>> r.json\n",
    "{u'private_gists': 419, u'total_private_repos': 77, ...}\n",
    "```"
   ]
  },
  {
   "cell_type": "markdown",
   "metadata": {},
   "source": [
    "Response 객체를 반환한다."
   ]
  },
  {
   "cell_type": "code",
   "execution_count": null,
   "metadata": {},
   "outputs": [],
   "source": [
    "r = requests.get('https://github.com/qkboo')"
   ]
  },
  {
   "cell_type": "code",
   "execution_count": null,
   "metadata": {},
   "outputs": [],
   "source": [
    "type(r)"
   ]
  },
  {
   "cell_type": "markdown",
   "metadata": {
    "tags": []
   },
   "source": [
    "### Response 객체\n",
    "\n",
    "Get 의 [반환 객체](http://docs.python-requests.org/en/v1.0.0/user/quickstart/#response-content)는 requests.structures.CaseInsensitiveDict 타입,\n",
    "\n",
    "모든 요청에는 헤더와 바디가 있는데 바디부분은 bytes로 반환을 한다.\n",
    "\n",
    "반환 객체의 내용은 텍스트 문자열은 `.text`, 바이너리는 `.content` 로 접근한다."
   ]
  },
  {
   "cell_type": "markdown",
   "metadata": {},
   "source": [
    "상태 코드"
   ]
  },
  {
   "cell_type": "code",
   "execution_count": null,
   "metadata": {},
   "outputs": [],
   "source": [
    "r.status_code"
   ]
  },
  {
   "cell_type": "markdown",
   "metadata": {},
   "source": [
    "#### response.text\n",
    "\n",
    "문자열 데이터를 반환시 response.text 호출하면 유니코드로 변환한 내용이 반환된다. \n"
   ]
  },
  {
   "cell_type": "code",
   "execution_count": null,
   "metadata": {},
   "outputs": [],
   "source": [
    "r.text[:400]"
   ]
  },
  {
   "cell_type": "code",
   "execution_count": null,
   "metadata": {},
   "outputs": [],
   "source": [
    "r.encoding"
   ]
  },
  {
   "cell_type": "markdown",
   "metadata": {},
   "source": [
    "#### response.content\n",
    "\n",
    "모든 요청에는 헤더와 바디가 있는데 바디부분을 bytes로 반환을 한다. 그래서 텍스트를 .content 로 반환시 유니코드로 디코딩해서 반환한다.\n",
    "\n",
    "```python\n",
    "response.content.decode('utf-8')\n",
    "```"
   ]
  },
  {
   "cell_type": "markdown",
   "metadata": {},
   "source": [
    "#### JSON\n",
    "\n",
    "또한 반환 데이터가 JSON이라면 내장한 JSON 디코더를 사용해서 JSON 데이터로 사용할 수 있다.\n",
    "\n",
    " - (1) json.loads(응답문자열)을 통해 직접 Deserialize를 수행\n",
    " - (2) 혹은 .json()함수를 통해 Deserialize를 수행\n",
    " - 응답문자열이 json포맷이 아닐 경우 JSONDecodeError예외가 발생\n"
   ]
  },
  {
   "cell_type": "code",
   "execution_count": null,
   "metadata": {},
   "outputs": [],
   "source": [
    "response = requests.get('https://github.com/timeline.json')\n",
    "response.json()"
   ]
  },
  {
   "cell_type": "markdown",
   "metadata": {},
   "source": [
    "### json 파일\n",
    "\n",
    "외부에 있는 json 파일은 "
   ]
  },
  {
   "cell_type": "code",
   "execution_count": null,
   "metadata": {},
   "outputs": [],
   "source": [
    "import json\n",
    "\n",
    "# with statement\n",
    "with open('data/naver_books_test.json') as json_file:\n",
    "    json_data = json.load(json_file)\n",
    "    \n",
    "    for b in json_data['items']:\n",
    "        print(b['title'])\n"
   ]
  },
  {
   "cell_type": "code",
   "execution_count": null,
   "metadata": {},
   "outputs": [],
   "source": [
    "import json\n",
    "\n",
    "json_data = json.loads(response_body.decode(\"utf-8\"))\n",
    "# json_data = json.dumps(response_body.decode('utf-8'))\n",
    "\n",
    "for b in json_data['items']:\n",
    "    print(b['title'])"
   ]
  },
  {
   "cell_type": "code",
   "execution_count": null,
   "metadata": {},
   "outputs": [],
   "source": []
  },
  {
   "cell_type": "markdown",
   "metadata": {},
   "source": [
    "#### 반환 헤더\n",
    "\n",
    "반환객체는 헤더를 포함하는데 Key문자열의 대소문자 구별을 하지 않고,  각 헤더의 값은 헤더이름을 Key로 접근하여 획득함"
   ]
  },
  {
   "cell_type": "code",
   "execution_count": null,
   "metadata": {},
   "outputs": [],
   "source": [
    "response = requests.get('https://github.com/timeline.json')"
   ]
  },
  {
   "cell_type": "code",
   "execution_count": null,
   "metadata": {},
   "outputs": [],
   "source": [
    "response.headers.keys()"
   ]
  },
  {
   "cell_type": "code",
   "execution_count": null,
   "metadata": {},
   "outputs": [],
   "source": [
    "response.headers['content-type']"
   ]
  },
  {
   "cell_type": "code",
   "execution_count": null,
   "metadata": {},
   "outputs": [],
   "source": []
  },
  {
   "cell_type": "markdown",
   "metadata": {},
   "source": [
    "## 바이너리 데이터\n",
    "\n"
   ]
  },
  {
   "cell_type": "code",
   "execution_count": null,
   "metadata": {},
   "outputs": [],
   "source": [
    "response.content.decode('utf-8')[:400]"
   ]
  },
  {
   "cell_type": "markdown",
   "metadata": {},
   "source": [
    "#### `.content`의 바이너리 처리\n",
    "\n",
    "아래 같이 이미지 요청시 바디 부분인 바이트로 응답이 온다."
   ]
  },
  {
   "cell_type": "code",
   "execution_count": null,
   "metadata": {},
   "outputs": [],
   "source": [
    "from os.path import basename\n",
    "\n",
    "url = 'https://www.ainonline.com/sites/default/files/uploads/2016/07/weba400m-test-flight.jpg'\n",
    "\n",
    "r = requests.get(url, allow_redirects=True)\n",
    "with open( basename(url), 'wb') as f:\n",
    "    f.write(r.content)"
   ]
  },
  {
   "cell_type": "code",
   "execution_count": null,
   "metadata": {},
   "outputs": [],
   "source": [
    "from IPython.display import Image\n",
    "Image(basename(url))"
   ]
  },
  {
   "cell_type": "markdown",
   "metadata": {},
   "source": [
    "# 사용자 헤더\n",
    "\n",
    "Request 사용시 Http methods에 전달하는 인자는 Dict, Tuple로 전달할 수 있다.\n",
    "\n",
    "```python\n",
    ">>> import json\n",
    ">>> url = 'https://api.github.com/some/endpoint'\n",
    ">>> payload = {'some': 'data'}\n",
    ">>> headers = {'content-type': 'application/json'}\n",
    "\n",
    ">>> r = requests.post(url, data=json.dumps(payload), headers=headers)\n",
    "```\n",
    "\n",
    "\n",
    "```python\n",
    "params = dict([('name', 'test'), ('name2', 'test2')])\n",
    "response = requests.get('http://httpbin.org/get', params=params)\n",
    "```\n",
    "\n",
    "다음같이 json()으로 전달된 결과를 확인할 수 있다. dict는 키 값이 유일하므로 중복된 키는 재정의 되므로 주의해야 한다."
   ]
  },
  {
   "cell_type": "code",
   "execution_count": null,
   "metadata": {},
   "outputs": [],
   "source": [
    "params = dict([('name', 'test'), ('name', 'test1'), ('name2', 'test2')])\n",
    "response = requests.get('http://httpbin.org/get', params=params)\n",
    "response.json()"
   ]
  },
  {
   "cell_type": "markdown",
   "metadata": {},
   "source": [
    "키 값이 중복되야 할 경우는 튜플을 사용한다."
   ]
  },
  {
   "cell_type": "code",
   "execution_count": null,
   "metadata": {},
   "outputs": [],
   "source": [
    "params = (('name', 'test'), ('name', 'test1'), ('name2', 'test2'))\n",
    "response = requests.get('http://httpbin.org/get', params=params)\n",
    "response.json()"
   ]
  },
  {
   "cell_type": "markdown",
   "metadata": {},
   "source": [
    "## User-Agent\n",
    "\n",
    "[User-Agent](https://developer.mozilla.org/en-US/docs/Web/HTTP/Headers/User-Agent)는 Http Request Header 로 앱 종류, 오에스, 소스트웨어 벤더 등 정보를 포함하고 있다.\n",
    "\n",
    "```\n",
    "Mozilla/5.0 (Windows NT 6.1; Win64; x64; rv:47.0) Gecko/20100101 Firefox/47.0\n",
    "Mozilla/5.0 (Macintosh; Intel Mac OS X x.y; rv:42.0) Gecko/20100101 Firefox/42.0\n",
    "```\n",
    "\n",
    "Chrome\n",
    "\n",
    "```\n",
    "Mozilla/5.0 (X11; Linux x86_64) AppleWebKit/537.36 (KHTML, like Gecko) Chrome/51.0.2704.103 Safari/537.36\n",
    "```\n",
    "\n",
    "Opera\n",
    "\n",
    "```\n",
    "Mozilla/5.0 (X11; Linux x86_64) AppleWebKit/537.36 (KHTML, like Gecko) Chrome/51.0.2704.106 Safari/537.36 OPR/38.0.2220.41\n",
    "```\n",
    "\n",
    "Safari\n",
    "\n",
    "```\n",
    "Mozilla/5.0 (iPhone; CPU iPhone OS 10_3_1 like Mac OS X) AppleWebKit/603.1.30 (KHTML, like Gecko) Version/10.0 Mobile/14E304 Safari/602.1\n",
    "```\n",
    "\n",
    "IE\n",
    "\n",
    "```\n",
    "Mozilla/5.0 (compatible; MSIE 9.0; Windows Phone OS 7.5; Trident/5.0; IEMobile/9.0)\n",
    "```"
   ]
  },
  {
   "cell_type": "markdown",
   "metadata": {},
   "source": [
    "### User-Agent 접근 방지"
   ]
  },
  {
   "cell_type": "code",
   "execution_count": null,
   "metadata": {},
   "outputs": [],
   "source": [
    "requests.get('https://namu.wiki/RecentChanges')"
   ]
  },
  {
   "cell_type": "code",
   "execution_count": null,
   "metadata": {},
   "outputs": [],
   "source": [
    "response = requests.get('https://namu.wiki/RecentChanges')\n",
    "response.status_code"
   ]
  },
  {
   "cell_type": "code",
   "execution_count": null,
   "metadata": {},
   "outputs": [],
   "source": [
    "response.reason"
   ]
  },
  {
   "cell_type": "code",
   "execution_count": null,
   "metadata": {},
   "outputs": [],
   "source": [
    "response = requests.get('https://namu.wiki/RecentChanges')\n",
    "response.status_code"
   ]
  },
  {
   "cell_type": "markdown",
   "metadata": {},
   "source": [
    "User-Agent 전달\n",
    "\n",
    "헤더는 ` headers=` 로 전달된다.\n",
    "\n",
    "```python\n",
    "request_headers = {\n",
    "    'User-Agent': ('Mozilla/5.0 (Macintosh; Intel Mac OS X 10_12_6) AppleWebKit/537.36 '\n",
    "                   '(KHTML, like Gecko) Chrome/58.0.3029.110 Safari/537.36')\n",
    "}\n",
    "response = requests.get('http://movie.naver.com/movie/', headers=request_headers)\n",
    "```"
   ]
  },
  {
   "cell_type": "code",
   "execution_count": null,
   "metadata": {},
   "outputs": [],
   "source": [
    "request_headers = {\n",
    "    'User-Agent': ('Mozilla/5.0 (Macintosh; Intel Mac OS X 10_12_6) AppleWebKit/537.36 '\n",
    "                   '(KHTML, like Gecko) Chrome/58.0.3029.110 Safari/537.36')\n",
    "}\n",
    "r = requests.get('https://namu.wiki/RecentChanges', headers=request_headers)\n",
    "r.status_code"
   ]
  },
  {
   "cell_type": "code",
   "execution_count": null,
   "metadata": {},
   "outputs": [],
   "source": []
  },
  {
   "cell_type": "code",
   "execution_count": null,
   "metadata": {},
   "outputs": [],
   "source": []
  },
  {
   "cell_type": "code",
   "execution_count": null,
   "metadata": {},
   "outputs": [],
   "source": [
    "params = {'name': 'test', 'name': 'test1', 'name2': 'test2'}\n",
    "\n",
    "response = requests.get('http://httpbin.org/get', params=params)\n",
    "response.json()"
   ]
  },
  {
   "cell_type": "code",
   "execution_count": null,
   "metadata": {},
   "outputs": [],
   "source": [
    "response.status_code"
   ]
  },
  {
   "cell_type": "markdown",
   "metadata": {},
   "source": [
    "GET과 같이 파라미터는 dict, tuple 모두 제공한다. 헤더는 동일하다. 사용한 예제이다."
   ]
  },
  {
   "cell_type": "code",
   "execution_count": null,
   "metadata": {},
   "outputs": [],
   "source": [
    "params = {'name': 'test', 'name': 'test1', 'name2': 'test2'}\n",
    "request_headers = {\n",
    "    'User-Agent': 'Mozilla/5.0 (X11; Linux x86_64) AppleWebKit/537.36 (KHTML, like Gecko) Chrome/51.0.2704.106 Safari/537.36 OPR/38.0.2220.41'\n",
    "}\n",
    "response = requests.post('http://httpbin.org/post', params=params, headers=request_headers)\n",
    "response.json()"
   ]
  },
  {
   "cell_type": "markdown",
   "metadata": {},
   "source": [
    "## referer\n",
    "\n",
    "세션을 통해 갱신하거나 \n",
    "\n",
    "```python\n",
    "s = requests.Session()\n",
    "s.headers.update({'referer': my_referer})\n",
    "s.get(url)\n",
    "```\n",
    "\n",
    "요청시 헤더에 `Referer` 에 담는다"
   ]
  },
  {
   "cell_type": "code",
   "execution_count": null,
   "metadata": {},
   "outputs": [],
   "source": [
    "req_headers = {\n",
    "    'User-Agent': ('Mozilla/5.0 (Macintosh; Intel Mac OS X 10_12_6) AppleWebKit/537.36 '\n",
    "               '(KHTML, like Gecko) Chrome/58.0.3029.110 Safari/537.36'),\n",
    "    \"Referer\": \"https://finance.naver.com/item/sise.nhn?code=40128\"\n",
    "}"
   ]
  },
  {
   "cell_type": "code",
   "execution_count": null,
   "metadata": {},
   "outputs": [],
   "source": [
    "req_headers[\"Referer\"] =  \"https://finance.naver.com/item/sise.nhn?code=40128\""
   ]
  },
  {
   "cell_type": "markdown",
   "metadata": {},
   "source": [
    "# POST\n",
    "\n",
    "Request.post() 도 사용법은 get()과 유사하다."
   ]
  },
  {
   "cell_type": "code",
   "execution_count": null,
   "metadata": {},
   "outputs": [],
   "source": [
    "response = requests.post('http://httpbin.org/post')\n",
    "response.json()"
   ]
  },
  {
   "cell_type": "markdown",
   "metadata": {},
   "source": [
    "### POST와 json\n",
    "\n",
    "json 인자로 처리해주면 내부에서 자동으로 json.dump 처리한다."
   ]
  },
  {
   "cell_type": "code",
   "execution_count": null,
   "metadata": {},
   "outputs": [],
   "source": [
    "import json\n",
    " \n",
    "json_data = {'k1': 'v2', 'k2': [1,2,3], 'name': 'rednooby'}\n",
    " \n",
    "# json포맷 문자열로 변환 후, data인자로 지정\n",
    "#json_string = json.dumps(json_data)#문자열로 변환\n",
    "#response = requests.post('http://httpbin.org/post', data=json_data)#서버로 보낸다\n",
    " \n",
    "#json= 으로 처리해주면 내부에서 자동으로 json.dump 처리를 하기때문에 7째줄이 필요없겠죠\n",
    "response = requests.post('http://httpbin.org/post', json=json_data)\n",
    "print(response.json())"
   ]
  },
  {
   "cell_type": "markdown",
   "metadata": {},
   "source": [
    "### Form\n",
    "\n",
    "post방식은 application/x-www-form-urlencoded 방식으로 데이터 인코딩이 되는데,\n",
    "\n",
    "Post로 Form 전송시에는dict로 선언한 data 인자를 사용한다."
   ]
  },
  {
   "cell_type": "code",
   "execution_count": null,
   "metadata": {},
   "outputs": [],
   "source": [
    "data = {'name': 'test', 'name': 'test1', 'name2': 'test2'}\n",
    "response = requests.post('http://httpbin.org/post', data=data)\n",
    "response.json()"
   ]
  },
  {
   "cell_type": "markdown",
   "metadata": {},
   "source": [
    "data인자로 (Key, value)형식의 tuple 지정: 동일 Key의 인자를 다수 지정 가능"
   ]
  },
  {
   "cell_type": "code",
   "execution_count": null,
   "metadata": {},
   "outputs": [],
   "source": [
    "data = (('name','test'),('name','test1'),('name2','test2'))\n",
    "response = requests.post('http://httpbin.org/post', data=data)\n",
    "response.json()"
   ]
  },
  {
   "cell_type": "markdown",
   "metadata": {},
   "source": [
    "#### 파일 업로드\n",
    "\n",
    "```python\n",
    "import requests\n",
    "from bs4 import BeautifulSoup\n",
    " \n",
    "files = {\n",
    "    'photo1': open('C:\\\\f1.jpg', 'rb'),#rb: 읽기 바이러니모드\n",
    "    'photo2': open('C:\\\\f2.jpg', 'rb'),\n",
    "    'photo3': ('f3.jpg', open('C:\\\\f3.jpg', 'rb'), 'image/jpeg', {'Expires': '0'}),\n",
    "#                   파일명        파일오브젝트         컨텍트타입        헤더\n",
    "#photo1과 2는 단순하기 때문에 3처럼 넣는것이 베스트\n",
    "}\n",
    "post_params = {'k1': 'v1'}\n",
    "response = requests.post('http://httpbin.org/post', files=files, data=post_params)\n",
    "print(response)\n",
    "print(response.json())\n",
    "```"
   ]
  },
  {
   "cell_type": "code",
   "execution_count": null,
   "metadata": {},
   "outputs": [],
   "source": [
    "data = {'Authorization': 'KakaoAK 0370117a8c7eb4fcb2835cf8bebae51b'}\n",
    "response = requests.post('https://dapi.kakao.com/v2/search/web?query=신혜선&sort&page=1&size=15', data=data)\n",
    "response.json()"
   ]
  },
  {
   "cell_type": "code",
   "execution_count": null,
   "metadata": {},
   "outputs": [],
   "source": []
  },
  {
   "attachments": {
    "cee49b29-2e46-44ae-86c4-b0547a3e98d9.png": {
     "image/png": "[encoded data removed]"
    }
   },
   "cell_type": "markdown",
   "metadata": {},
   "source": [
    "# SSL Certification\n",
    "\n",
    "https 사이트에 요청시\n",
    "\n",
    "```python\n",
    "url = \"https://companyinfo.stock.naver.com/v1/company/c1010001.aspx?cmp_cd={}\".format(code) \n",
    "html = requests.get(url, headers=request_headers).text \n",
    "```\n",
    "\n",
    "아래 같은 SSL 에러가 발생.\n",
    "\n",
    "![image.png](attachment:cee49b29-2e46-44ae-86c4-b0547a3e98d9.png)"
   ]
  },
  {
   "cell_type": "markdown",
   "metadata": {},
   "source": [
    "이런 경우는 보통 내부 시스템 REST API를 호출을 하는데 발생하는데, 보통 내부 시스템들은 SSL 인증서로 local 인증서를 쓰기 때문이다.\n",
    "\n",
    "requests 모듈에서 앞에서 옵션으로 인증서를 무시를 하거나 ssl 모듈로 unverified context 를 사용할 수 있다."
   ]
  },
  {
   "cell_type": "markdown",
   "metadata": {},
   "source": [
    "### requests 모듈\n",
    "\n",
    "Reuqests의 [ssl-cert-verification](https://2.python-requests.org/en/v2.8.1/user/advanced/#ssl-cert-verification)호스트의 인증서를 검증하는 `veryfy=` 옵션을 사용할 수 있다.\n",
    "\n",
    "Requests can also ignore verifying the SSL certificate if you set verify to False."
   ]
  },
  {
   "cell_type": "code",
   "execution_count": null,
   "metadata": {},
   "outputs": [],
   "source": [
    "requests.get('https://httpbin.org', verify=False)"
   ]
  },
  {
   "cell_type": "markdown",
   "metadata": {},
   "source": [
    "위 경고 메시지도 보이지 않게 하려면"
   ]
  },
  {
   "cell_type": "code",
   "execution_count": null,
   "metadata": {},
   "outputs": [],
   "source": [
    "import urllib3\n",
    "urllib3.disable_warnings()"
   ]
  },
  {
   "cell_type": "code",
   "execution_count": null,
   "metadata": {},
   "outputs": [],
   "source": [
    "requests.get('https://httpbin.org', verify=False)"
   ]
  },
  {
   "cell_type": "markdown",
   "metadata": {},
   "source": [
    "네이버 주식정보 페이지에 접근해 보자."
   ]
  },
  {
   "cell_type": "code",
   "execution_count": null,
   "metadata": {},
   "outputs": [],
   "source": [
    "request_headers = {\n",
    "    'User-Agent': ('Mozilla/5.0 (Macintosh; Intel Mac OS X 10_12_6) AppleWebKit/537.36 '\n",
    "               '(KHTML, like Gecko) Chrome/58.0.3029.110 Safari/537.36')\n",
    "}\n",
    "url = \"https://companyinfo.stock.naver.com/v1/company/c1010001.aspx?cmp_cd=035720\" \n",
    "html = requests.get(url, headers=request_headers, verify=False).text\n",
    "\n",
    "html[:100]"
   ]
  },
  {
   "cell_type": "markdown",
   "metadata": {},
   "source": [
    "### ssl 모듈 사용\n",
    "\n",
    "\n",
    "```python\n",
    "import ssl\n",
    "context = ssl._create_unverified_context()\n",
    "result = urlopen(\"https://en.wikipedia.org/wiki/Kevin_Bacon\", context=context)\n",
    "```"
   ]
  },
  {
   "cell_type": "markdown",
   "metadata": {},
   "source": [
    "---"
   ]
  },
  {
   "cell_type": "markdown",
   "metadata": {},
   "source": [
    "### > 다운로드"
   ]
  },
  {
   "cell_type": "markdown",
   "metadata": {},
   "source": [
    "### 압축 데이터 다운로드해서 풀기"
   ]
  },
  {
   "cell_type": "code",
   "execution_count": null,
   "metadata": {},
   "outputs": [],
   "source": [
    "import os\n",
    "from pathlib import Path\n",
    "import gzip\n",
    "\n",
    "def gunzip(zipfile):\n",
    "    \"\"\"\n",
    "    GZip 압축 해제\n",
    "    \"\"\"\n",
    "    p = Path(zipfile)\n",
    "    #print(p.name[-3:])# == '.gz')\n",
    "    if p.name[-3:] == '.gz':\n",
    "        raw_file = p.name.replace('.gz', '')\n",
    "        print(p.parent / raw_file )\n",
    "        \n",
    "#     with gzip.open(gz_file, \"rb\") as fp:\n",
    "#         body = fp.read()\n",
    "#         with open(raw_file, \"wb\") as w:\n",
    "#             w.write(body)\n",
    "#     print(\"ok\")\n",
    "    "
   ]
  },
  {
   "cell_type": "code",
   "execution_count": null,
   "metadata": {},
   "outputs": [],
   "source": [
    "gunzip('../data/marcap-2020.csv.gz')"
   ]
  },
  {
   "cell_type": "markdown",
   "metadata": {},
   "source": [
    "### tar 다운로드해서 풀기"
   ]
  },
  {
   "cell_type": "code",
   "execution_count": null,
   "metadata": {},
   "outputs": [],
   "source": [
    "import os\n",
    "from pathlib import Path\n",
    "import tarfile\n",
    "\n",
    "def untar(tar_file):\n",
    "    \"\"\"\n",
    "    tar & 압축 해제\n",
    "    \"\"\"\n",
    "    with tarfile.open(tar_file) as tar:\n",
    "        tar.extractall()\n"
   ]
  }
 ],
 "metadata": {
  "colab": {
   "collapsed_sections": [],
   "name": "데이터 크롤링 02 - requests, BeautifulSoup.ipynb",
   "provenance": []
  },
  "kernelspec": {
   "display_name": "Python 3 (ipykernel)",
   "language": "python",
   "name": "python3"
  },
  "language_info": {
   "codemirror_mode": {
    "name": "ipython",
    "version": 3
   },
   "file_extension": ".py",
   "mimetype": "text/x-python",
   "name": "python",
   "nbconvert_exporter": "python",
   "pygments_lexer": "ipython3",
   "version": "3.10.9"
  }
 },
 "nbformat": 4,
 "nbformat_minor": 4
}
