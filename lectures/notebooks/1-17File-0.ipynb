{
 "cells": [
  {
   "cell_type": "markdown",
   "metadata": {},
   "source": [
    "# 파일"
   ]
  },
  {
   "cell_type": "markdown",
   "metadata": {},
   "source": [
    "## open()\n",
    "\n",
    "파일은 open() 명령에서 `<MODE>` 값에 따라 읽고 쓴다. [Python builtin functions](https://docs.python.org/3/library/functions.html)\n",
    "    \n",
    ">open(file, mode='rb', buffering=-1, encoding=None, errors=None, newline=None, closefd=True, opener=None)\n",
    "  - mode는 파일에 대한 액션과 파일 형식을 지정한다: rb, wb, wr\n",
    "     - 액션 : w(기록), a(추가), r(읽기:기본값)\n",
    "     - 타입 : t(텍스트:기본값), b(2진 파일)\n",
    "open 으로 열린 객체는 `.close()` 로 닫아 주어야 한다."
   ]
  },
  {
   "cell_type": "markdown",
   "metadata": {},
   "source": [
    "### 읽기 모드"
   ]
  },
  {
   "cell_type": "markdown",
   "metadata": {},
   "source": [
    "`read()` 함수: 파일의 내용 전체를 문자열로 리턴한다. "
   ]
  },
  {
   "cell_type": "code",
   "execution_count": null,
   "metadata": {},
   "outputs": [],
   "source": [
    "# 파일 열기 (open)\n",
    "f = open(\"./samples/test.txt\", \"w\", encoding=\"utf8\")\n",
    "size = f.write(\"Life is too short\\n\")\n",
    "print(f\"{size} 만큼 기록:\"\n",
    "size = f.write(\"You need Python.\\n\")\n",
    "print(\"{size} 만큼 기록:\")\n",
    "f.close() # 사용후 반드시 닫는다."
   ]
  },
  {
   "cell_type": "markdown",
   "metadata": {},
   "source": [
    "읽기 모드로 텍스트 불러오면 파일 전체를 읽어온다 -> 파일이 클 경우 문제 발생 가능\n"
   ]
  },
  {
   "cell_type": "code",
   "execution_count": null,
   "metadata": {},
   "outputs": [],
   "source": [
    "f = open(\"./samples/test.txt\", \"rt\", encoding=\"utf8\")\n",
    "text = f.read()\n",
    "print(\"READ:\", text)\n",
    "f.close()"
   ]
  },
  {
   "cell_type": "markdown",
   "metadata": {},
   "source": [
    "`readline()` 함수 이용하기\n",
    "\n",
    "파일이 클 경우, 라인 단위로 파일을 읽는 것이 효율적"
   ]
  },
  {
   "cell_type": "code",
   "execution_count": null,
   "metadata": {},
   "outputs": [],
   "source": [
    "f = open(\"./samples/test.txt\", \"rt\", encoding=\"utf8\")\n",
    "while True:\n",
    "    line = f.readline()\n",
    "    if not line:\n",
    "        break\n",
    "    line = line.strip() # 공백 문자 제거\n",
    "    print(line)\n",
    "\n",
    "f.close()"
   ]
  },
  {
   "cell_type": "code",
   "execution_count": null,
   "metadata": {},
   "outputs": [],
   "source": [
    "f = open(examfile, 'r')\n",
    "line = f.readline()\n",
    "print(line)\n",
    "f.close()"
   ]
  },
  {
   "cell_type": "markdown",
   "metadata": {},
   "source": [
    "### 내용 추가하기\n",
    "\n",
    "`append` 모드는 파일이 있으면 뒤에 내용을 추가, `<MODE>`를 `a`로 제시하면 파일의 끝에 내용을 추가할 수 있다.\n",
    "\n"
   ]
  },
  {
   "cell_type": "code",
   "execution_count": null,
   "metadata": {},
   "outputs": [],
   "source": [
    "f = open('testfile.txt', 'a')\n",
    "for i in range(11, 20):\n",
    "    data = \"%d번째 줄입니다.\\n\" % i\n",
    "    f.write(data)\n",
    "f.close()"
   ]
  },
  {
   "cell_type": "markdown",
   "metadata": {},
   "source": [
    "### with ~ as\n",
    "`with ~ as` 를 이용하면 파일 close 작업을 자동으로 수행 -> 안전하게 시스템 자원을 활용\n",
    "즉 close() 메서드를 명시하지 않아도, 파일을 다 사용후에 닫아 준다."
   ]
  },
  {
   "cell_type": "markdown",
   "metadata": {},
   "source": [
    "`split()` 를 사용해 파일을 불러와서 개행문자 구분한 리스트로 반환"
   ]
  },
  {
   "cell_type": "code",
   "execution_count": null,
   "metadata": {},
   "outputs": [],
   "source": [
    "with open(\"./testfile.txt\", \"rt\", encoding=\"utf8\") as f:\n",
    "    lines = f.readlines()\n",
    "print(\"lines:\", lines)\n",
    "\n",
    "# 루프를 돌려 출력\n",
    "for line in lines:\n",
    "    print(line.strip())"
   ]
  },
  {
   "cell_type": "markdown",
   "metadata": {},
   "source": [
    "### 쓰기 모드\n"
   ]
  },
  {
   "cell_type": "code",
   "execution_count": null,
   "metadata": {},
   "outputs": [],
   "source": [
    "# 파일 쓰기모드로 한 줄씩 쓰기\n",
    "f = open( './samples/testwrite.txt', 'w')\n",
    "for i in range(1, 11):\n",
    "    data = \"%d번째 줄입니다.\\n\" % i\n",
    "    f.write(data)\n",
    "f.close()"
   ]
  },
  {
   "cell_type": "markdown",
   "metadata": {},
   "source": [
    "쓰기 모드에서 with 를 곁들여서 쓸 수 있다."
   ]
  },
  {
   "cell_type": "code",
   "execution_count": null,
   "metadata": {},
   "outputs": [],
   "source": [
    "with open('./samples/testwrite.txt', 'w') as f:\n",
    "    for i in range(1, 10):\n",
    "        data = '%d번째 줄입니다.\\n' % i\n",
    "        f.write(data)"
   ]
  },
  {
   "cell_type": "code",
   "execution_count": null,
   "metadata": {},
   "outputs": [],
   "source": [
    "with open(\"./samples/testwrite.txt\", \"r\", encoding=\"utf8\") as f:\n",
    "    lines = f.readlines()\n",
    "print(\"lines:\", lines)"
   ]
  },
  {
   "cell_type": "markdown",
   "metadata": {},
   "source": [
    "### 리스트로 반환받기\n",
    "\n",
    "보통 작은 파일을 다룰 때 리스트를 사용하기 좋다."
   ]
  },
  {
   "cell_type": "code",
   "execution_count": null,
   "metadata": {},
   "outputs": [],
   "source": [
    "address = []\n",
    "with open('address.txt') as file:\n",
    "    for line in file: \n",
    "        line = line.strip() #or some other preprocessing\n",
    "        address.append(line) #storing everything in memory"
   ]
  },
  {
   "cell_type": "markdown",
   "metadata": {},
   "source": [
    "### 파일 실습"
   ]
  },
  {
   "cell_type": "markdown",
   "metadata": {},
   "source": [
    "#### 문제 1\n",
    "\n",
    "어떤 파일에 1부터 30까지의 숫자 중 홀수를 각 라인 단위로 \n",
    "파일에 입력하는 프로그램을 작성하세요.\n",
    "(생성되는 파일의 이름은 odd_number.txt입니다.)\n"
   ]
  },
  {
   "cell_type": "code",
   "execution_count": null,
   "metadata": {
    "tags": []
   },
   "outputs": [],
   "source": [
    "\n",
    "\n"
   ]
  },
  {
   "cell_type": "markdown",
   "metadata": {},
   "source": [
    "#### 문제 2\n",
    "\n",
    "어떤 파일에 1부터 30까지의 숫자 중 짝수를 각 라인 단위로 파일에 \n",
    "입력하는 프로그램을 작성하세요.\n",
    "(생성되는 파일의 이름은 even_number.txt입니다.)\n",
    "\n",
    "\n"
   ]
  },
  {
   "cell_type": "code",
   "execution_count": null,
   "metadata": {
    "tags": []
   },
   "outputs": [],
   "source": [
    "\n",
    "\n",
    "\n"
   ]
  },
  {
   "cell_type": "markdown",
   "metadata": {},
   "source": [
    "#### 문제3\n",
    "\n",
    "현재 사용하는 ipynb 파일을 읽어 파일에 있는 단어의 개수를 세는 프로그램을 작성하시오."
   ]
  },
  {
   "cell_type": "code",
   "execution_count": null,
   "metadata": {
    "tags": []
   },
   "outputs": [],
   "source": [
    "\n",
    "\n",
    "\n"
   ]
  },
  {
   "cell_type": "markdown",
   "metadata": {},
   "source": [
    "---"
   ]
  },
  {
   "cell_type": "markdown",
   "metadata": {},
   "source": [
    "### 텍스트파일 encoding\n",
    "\n",
    "- Linux: Unicoe\n",
    "- Windows: CP949\n"
   ]
  },
  {
   "cell_type": "code",
   "execution_count": null,
   "metadata": {},
   "outputs": [],
   "source": [
    "with open('text_cp949.txt', 'w', encoding='cp949') as f:\n",
    "    for i in range(1, 10):\n",
    "        data = f'{i} 번째 줄입니다.\\n'\n",
    "        f.write(data)"
   ]
  },
  {
   "cell_type": "code",
   "execution_count": null,
   "metadata": {},
   "outputs": [],
   "source": [
    "with open('text_utf8.txt', 'w', encoding='utf8') as f:\n",
    "    for i in range(1, 10):\n",
    "        data = f'{i} 번째 줄입니다.\\n'\n",
    "        f.write(data)"
   ]
  },
  {
   "cell_type": "markdown",
   "metadata": {},
   "source": [
    "cp949 바로 읽기"
   ]
  },
  {
   "cell_type": "code",
   "execution_count": null,
   "metadata": {},
   "outputs": [],
   "source": [
    "with open(\"text_cp949.txt\", \"r\") as f:\n",
    "    lines = f.readlines()\n",
    "\n",
    "print(\"lines:\", lines)"
   ]
  },
  {
   "cell_type": "code",
   "execution_count": null,
   "metadata": {},
   "outputs": [],
   "source": [
    "with open(\"text_cp949.txt\", \"r\", encoding='cp949') as f:\n",
    "    lines = f.readlines()\n",
    "\n",
    "print(\"lines:\", lines)"
   ]
  },
  {
   "cell_type": "markdown",
   "metadata": {},
   "source": [
    "utf8 바로 읽기"
   ]
  },
  {
   "cell_type": "code",
   "execution_count": null,
   "metadata": {},
   "outputs": [],
   "source": [
    "with open(\"text_utf8.txt\", \"r\") as f:\n",
    "    lines = f.readlines()\n",
    "\n",
    "print(\"lines:\", lines)"
   ]
  },
  {
   "cell_type": "code",
   "execution_count": null,
   "metadata": {},
   "outputs": [],
   "source": [
    "with open(\"text_utf8.txt\", \"r\", encoding='cp949') as f:\n",
    "    lines = f.readlines()\n",
    "\n",
    "print(\"lines:\", lines)"
   ]
  },
  {
   "cell_type": "code",
   "execution_count": null,
   "metadata": {},
   "outputs": [],
   "source": []
  },
  {
   "cell_type": "code",
   "execution_count": null,
   "metadata": {},
   "outputs": [],
   "source": []
  },
  {
   "cell_type": "markdown",
   "metadata": {},
   "source": [
    "## binary mode\n",
    "\n",
    "바이너리 파일은 바이너리 모드로 작성해서 사용해야 한다. "
   ]
  },
  {
   "cell_type": "code",
   "execution_count": null,
   "metadata": {},
   "outputs": [],
   "source": [
    "\"\"\"\n",
    "바이너리 파일 생성\n",
    "\"\"\"\n",
    "print(\"====== binary file =====\")\n",
    "f = open(\"test.bin\", \"wb\")\n",
    "\n",
    "for i in range(0, 256):\n",
    "    data = i.to_bytes(1, 'little')\n",
    "    f.write(data)\n",
    "f.close()"
   ]
  },
  {
   "cell_type": "code",
   "execution_count": null,
   "metadata": {},
   "outputs": [],
   "source": [
    "# with\n",
    "print(\"====== with binary file =====\")\n",
    "with open(\"test.bin\", \"wb\") as f:\n",
    "\n",
    "    for i in range(0, 256):\n",
    "        data = i.to_bytes(1, 'little')\n",
    "        f.write(data)\n",
    "\n",
    "\n",
    "with open(\"test.bin\", \"rb\") as f:\n",
    "    print(\"{0}\".format(f.read()).encode())\n",
    "#     print(f'{f.read()}'.encode()) # a byte string"
   ]
  },
  {
   "cell_type": "markdown",
   "metadata": {},
   "source": [
    "#### 바이너리 파일 복사\n",
    "\n",
    "바이너리 모드로 rose-flower.jpeg를 읽어 들여서, 바이너리 모드로 rose-flower-copy.jpeg로 저장해 보자."
   ]
  },
  {
   "cell_type": "code",
   "execution_count": null,
   "metadata": {},
   "outputs": [],
   "source": [
    "with open(\"rose-flower.jpeg\", \"rb\") as f:\n",
    "    data = f.read()\n",
    "\n",
    "print(\"읽은 데이터:\", data)\n",
    "\n",
    "# 저장\n",
    "with open(\"rose-flower-copy.jpeg\", \"wb\") as f:\n",
    "    f.write(data)"
   ]
  },
  {
   "cell_type": "code",
   "execution_count": null,
   "metadata": {},
   "outputs": [],
   "source": []
  }
 ],
 "metadata": {
  "kernelspec": {
   "display_name": "Python 3 (ipykernel)",
   "language": "python",
   "name": "python3"
  },
  "language_info": {
   "codemirror_mode": {
    "name": "ipython",
    "version": 3
   },
   "file_extension": ".py",
   "mimetype": "text/x-python",
   "name": "python",
   "nbconvert_exporter": "python",
   "pygments_lexer": "ipython3",
   "version": "3.10.6"
  }
 },
 "nbformat": 4,
 "nbformat_minor": 4
}
