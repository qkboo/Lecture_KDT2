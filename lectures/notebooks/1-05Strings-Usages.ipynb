{
 "cells": [
  {
   "cell_type": "markdown",
   "metadata": {},
   "source": [
    "# String Basic Operstions\n",
    "\n",
    "\n",
    "- https://realpython.com/python-strings/\n",
    "- http://www.flowdas.com/thinkpython/08-strings/\n",
    "\n",
    "1. []()\n",
    "\n",
    "---"
   ]
  },
  {
   "cell_type": "code",
   "execution_count": 1,
   "metadata": {},
   "outputs": [
    {
     "data": {
      "text/plain": [
       "('', 'This is double quotes', \"Don't walk.\", '길게 쓰고 싶을 때는  연결 연산자를 사용한다.')"
      ]
     },
     "execution_count": 1,
     "metadata": {},
     "output_type": "execute_result"
    }
   ],
   "source": [
    "# Assign\n",
    "s1 = ''                             # single quotes\n",
    "s2 = \"This is double quotes\"        # double quotes\n",
    "s3 = \"Don\\'t walk.\"\n",
    "s4 = \"길게 쓰고 싶을 때는 \\\n",
    " 연결 연산자를 사용한다.\"\n",
    "s1, s2, s3, s4"
   ]
  },
  {
   "cell_type": "code",
   "execution_count": 2,
   "metadata": {},
   "outputs": [
    {
     "data": {
      "text/plain": [
       "'\\n여러줄을 선언해서 사용할 때는\\n\\n'"
      ]
     },
     "execution_count": 2,
     "metadata": {},
     "output_type": "execute_result"
    }
   ],
   "source": [
    "# multi lines\n",
    "s5 = \"\"\"\n",
    "여러줄을 선언해서 사용할 때는\n",
    "\n",
    "\"\"\"\n",
    "s5"
   ]
  },
  {
   "cell_type": "code",
   "execution_count": 17,
   "metadata": {},
   "outputs": [
    {
     "name": "stdout",
     "output_type": "stream",
     "text": [
      "\\ 라인 연속\n",
      "' 문자, \" 문자, 백스페이스\n",
      "줄바꾸기 \n",
      " 또 줄바꾸기\n",
      " 마지막 줄\n",
      "\t탭 \t탭\n",
      "8진 코드 \u000081, 16진 코드 \u001a\n",
      "ESC 키: \\e\n"
     ]
    }
   ],
   "source": [
    "# Escape chars\n",
    "print(\"\\\\ 라인 연속\") #\\ 문자 출력\n",
    "print(\"\\' 문자, \\\" 문자, \\b 백스페이스\")\n",
    "print(\"줄바꾸기 \\n 또 줄바꾸기\\012 마지막 줄\")\n",
    "print(\"\\t탭 \\t탭\")\n",
    "print(\"8진 코드 \\081, 16진 코드 \\x1a\")\n",
    "print(\"ESC 키: \\e\")"
   ]
  },
  {
   "cell_type": "markdown",
   "metadata": {},
   "source": [
    "### r 리터럴"
   ]
  },
  {
   "cell_type": "code",
   "execution_count": 8,
   "metadata": {},
   "outputs": [
    {
     "name": "stdout",
     "output_type": "stream",
     "text": [
      "로우 문자열\\n과 문자열 차이\n"
     ]
    }
   ],
   "source": [
    "print(r\"로우 문자열\\n과 문자열 차이\")"
   ]
  },
  {
   "cell_type": "code",
   "execution_count": 7,
   "metadata": {},
   "outputs": [
    {
     "name": "stdout",
     "output_type": "stream",
     "text": [
      "로우 문자열\n",
      " 과 문자열 차이\n"
     ]
    }
   ],
   "source": [
    "print(\"로우 문자열\\n 과 문자열 차이\")"
   ]
  },
  {
   "cell_type": "markdown",
   "metadata": {},
   "source": [
    "### 문자열 연산"
   ]
  },
  {
   "cell_type": "code",
   "execution_count": 3,
   "metadata": {},
   "outputs": [
    {
     "data": {
      "text/plain": [
       "19"
      ]
     },
     "execution_count": 3,
     "metadata": {},
     "output_type": "execute_result"
    }
   ],
   "source": [
    "len(s5)"
   ]
  },
  {
   "cell_type": "code",
   "execution_count": 1,
   "metadata": {},
   "outputs": [
    {
     "data": {
      "text/plain": [
       "'Hello  Python'"
      ]
     },
     "execution_count": 1,
     "metadata": {},
     "output_type": "execute_result"
    }
   ],
   "source": [
    "# Concaternate\n",
    "'Hello ' + ' Python'"
   ]
  },
  {
   "cell_type": "code",
   "execution_count": 4,
   "metadata": {},
   "outputs": [
    {
     "data": {
      "text/plain": [
       "'This is double quotes'"
      ]
     },
     "execution_count": 4,
     "metadata": {},
     "output_type": "execute_result"
    }
   ],
   "source": [
    "s1 + s2                             # single + double"
   ]
  },
  {
   "cell_type": "code",
   "execution_count": 5,
   "metadata": {},
   "outputs": [
    {
     "data": {
      "text/plain": [
       "'          This is double quotes'"
      ]
     },
     "execution_count": 5,
     "metadata": {},
     "output_type": "execute_result"
    }
   ],
   "source": [
    "# repeat times\n",
    "z = (' ' * 10) + s2\n",
    "z"
   ]
  },
  {
   "cell_type": "code",
   "execution_count": 2,
   "metadata": {
    "collapsed": true,
    "jupyter": {
     "outputs_hidden": true
    }
   },
   "outputs": [],
   "source": [
    "# 비교\n",
    "if \"hello\" == \"Hello\":\n",
    "    print(\"Ok\")"
   ]
  },
  {
   "cell_type": "markdown",
   "metadata": {},
   "source": [
    "#### 문제 1\n",
    "\n",
    "화면에 “Hello world”를 3번 출력하는 프로그램을 작성하세요.\n",
    "\n",
    "출력 결과\n",
    "```terminal\n",
    "Hello world\n",
    "Hello world\n",
    "Hello world \n",
    "```\n",
    "\n"
   ]
  },
  {
   "cell_type": "markdown",
   "metadata": {},
   "source": [
    "<br>\n",
    "\n",
    "# Index  & Slicing\n",
    "\n",
    "---"
   ]
  },
  {
   "cell_type": "code",
   "execution_count": 31,
   "metadata": {},
   "outputs": [
    {
     "data": {
      "text/plain": [
       "('P', 'h')"
      ]
     },
     "execution_count": 31,
     "metadata": {},
     "output_type": "execute_result"
    }
   ],
   "source": [
    "# Indexing\n",
    "msg = \"Python Programming\"\n",
    "msg[0], msg[3]"
   ]
  },
  {
   "cell_type": "markdown",
   "metadata": {},
   "source": [
    "문자열을 Slicing할 수 있다.\n",
    "\n",
    "- `:9` s에서 9 사이\n",
    "- `2:` 2에서 끝까지\n",
    "- `-1`: 끝에서 -1 번째만\n",
    "- `-3:`: 끝에서 -3번째 부터 끝까지\n"
   ]
  },
  {
   "cell_type": "code",
   "execution_count": 14,
   "metadata": {},
   "outputs": [
    {
     "data": {
      "text/plain": [
       "'th'"
      ]
     },
     "execution_count": 14,
     "metadata": {},
     "output_type": "execute_result"
    }
   ],
   "source": [
    "msg[2:4]"
   ]
  },
  {
   "cell_type": "code",
   "execution_count": 32,
   "metadata": {},
   "outputs": [
    {
     "data": {
      "text/plain": [
       "('thon Programming', 'g', 'ing')"
      ]
     },
     "execution_count": 32,
     "metadata": {},
     "output_type": "execute_result"
    }
   ],
   "source": [
    "msg[2:], msg[-1], msg[-3:]"
   ]
  },
  {
   "cell_type": "code",
   "execution_count": 33,
   "metadata": {},
   "outputs": [
    {
     "data": {
      "text/plain": [
       "'cytho'"
      ]
     },
     "execution_count": 33,
     "metadata": {},
     "output_type": "execute_result"
    }
   ],
   "source": [
    "'c' + msg[1:5]"
   ]
  },
  {
   "cell_type": "code",
   "execution_count": 17,
   "metadata": {},
   "outputs": [
    {
     "data": {
      "text/plain": [
       "'Oh... Python Programming'"
      ]
     },
     "execution_count": 17,
     "metadata": {},
     "output_type": "execute_result"
    }
   ],
   "source": [
    "\"Oh... \" + msg[:]"
   ]
  },
  {
   "cell_type": "markdown",
   "metadata": {},
   "source": [
    "### Stepping\n",
    "\n",
    "Slicing 접근시 스텝 단위로 진행, `::STEP` 형식으로 STEP 을 줄 수 있다.\n",
    "\n",
    "- `::2` 2인덱스 씩\n"
   ]
  },
  {
   "cell_type": "code",
   "execution_count": 35,
   "metadata": {},
   "outputs": [
    {
     "data": {
      "text/plain": [
       "'Ph oai'"
      ]
     },
     "execution_count": 35,
     "metadata": {},
     "output_type": "execute_result"
    }
   ],
   "source": [
    "msg = \"Python Programming\"\n",
    "msg[::3]"
   ]
  },
  {
   "cell_type": "code",
   "execution_count": 36,
   "metadata": {},
   "outputs": [
    {
     "data": {
      "text/plain": [
       "'Pto rgamn'"
      ]
     },
     "execution_count": 36,
     "metadata": {},
     "output_type": "execute_result"
    }
   ],
   "source": [
    "msg[::2]"
   ]
  },
  {
   "cell_type": "markdown",
   "metadata": {},
   "source": [
    "#### 역 인덱스"
   ]
  },
  {
   "cell_type": "markdown",
   "metadata": {},
   "source": [
    "-1 스텝을 주면 역정렬이 된다."
   ]
  },
  {
   "cell_type": "code",
   "execution_count": 27,
   "metadata": {},
   "outputs": [],
   "source": [
    "msg = \"Python Programming\""
   ]
  },
  {
   "cell_type": "code",
   "execution_count": 28,
   "metadata": {},
   "outputs": [
    {
     "data": {
      "text/plain": [
       "'gnimmargorP nohtyP'"
      ]
     },
     "execution_count": 28,
     "metadata": {},
     "output_type": "execute_result"
    }
   ],
   "source": [
    "msg[::-1]"
   ]
  },
  {
   "cell_type": "markdown",
   "metadata": {},
   "source": [
    "문자열 역정열에 reversed() 사용"
   ]
  },
  {
   "cell_type": "code",
   "execution_count": 29,
   "metadata": {},
   "outputs": [
    {
     "data": {
      "text/plain": [
       "'gnimmargorP nohtyP'"
      ]
     },
     "execution_count": 29,
     "metadata": {},
     "output_type": "execute_result"
    }
   ],
   "source": [
    "''.join(reversed(msg))"
   ]
  },
  {
   "cell_type": "code",
   "execution_count": 30,
   "metadata": {},
   "outputs": [
    {
     "data": {
      "text/plain": [
       "'gimroPnhy'"
      ]
     },
     "execution_count": 30,
     "metadata": {},
     "output_type": "execute_result"
    }
   ],
   "source": [
    "msg[::-2]"
   ]
  },
  {
   "cell_type": "markdown",
   "metadata": {},
   "source": [
    "### String vs number"
   ]
  },
  {
   "cell_type": "markdown",
   "metadata": {},
   "source": [
    "---\n",
    "\n",
    "# String methods\n",
    "\n",
    "https://docs.python.org/3.3/library/stdtypes.html#string-methods"
   ]
  },
  {
   "cell_type": "code",
   "execution_count": null,
   "metadata": {},
   "outputs": [],
   "source": [
    " = \"i like Python\"\n",
    "\n",
    "print(\"UPPER:\", s.upper()) # 모두 대문자로\n",
    "print(\"LOWER:\", s.lower()) # 모두 소문자\n",
    "print(\"SWAPCASE:\", s.swapcase()) # 대문자 <-> 소문자\n",
    "print(\"CAPITALIZE:\", s.capitalize()) # 첫글자만 대문자\n",
    "print(\"TITLE:\", s.title()) # 타이틀 형태\n",
    "\n",
    "print(\"원본 문자열:\", s) # 원본은 변경되지 않음"
   ]
  },
  {
   "cell_type": "markdown",
   "metadata": {},
   "source": [
    "검색"
   ]
  },
  {
   "cell_type": "code",
   "execution_count": 37,
   "metadata": {},
   "outputs": [
    {
     "name": "stdout",
     "output_type": "stream",
     "text": [
      "COUNT: 2\n"
     ]
    }
   ],
   "source": [
    "s = \"I Like Python, I Like Java\"\n",
    "# 검색어의 갯수 확인\n",
    "print(\"COUNT:\", s.count(\"Like\"))"
   ]
  },
  {
   "cell_type": "code",
   "execution_count": 38,
   "metadata": {},
   "outputs": [
    {
     "name": "stdout",
     "output_type": "stream",
     "text": [
      "FIND: 2\n",
      "RFIND: 17\n"
     ]
    }
   ],
   "source": [
    "# 검색어의 위치 확인 : find\n",
    "print(\"FIND:\", s.find(\"Like\"))\n",
    "print(\"RFIND:\", s.rfind(\"Like\"))"
   ]
  },
  {
   "cell_type": "code",
   "execution_count": 39,
   "metadata": {},
   "outputs": [
    {
     "name": "stdout",
     "output_type": "stream",
     "text": [
      "FIND 2nd: 17\n",
      "FIND 3rd: -1\n"
     ]
    }
   ],
   "source": [
    "# 검색 범위 제한\n",
    "print(\"FIND 2nd:\", s.find(\"Like\", 6))\n",
    "print(\"FIND 3rd:\", s.find(\"Like\", 23))"
   ]
  },
  {
   "cell_type": "code",
   "execution_count": null,
   "metadata": {},
   "outputs": [],
   "source": [
    "# 찾을 것이 없을 때는 -1이 반환\n",
    "# 검색어의 위치 확인 : index\n",
    "print(\"INDEX:\", s.index(\"Like\"))\n",
    "print(\"INDEX 2nd:\", s.index(\"Like\", 6))\n",
    "\n",
    "# 없는 검색어를 인덱스로 찾기\n",
    "if \"JS\" in s:\n",
    "    print(\"없는 검색어 INDEX:\", s.index(\"JS\"))\n",
    "else:\n",
    "    print(\"JS는 없어요\")\n"
   ]
  },
  {
   "cell_type": "code",
   "execution_count": null,
   "metadata": {},
   "outputs": [],
   "source": [
    "# 특정 문자열로 시작 혹은 끝나는지 -> bool\n",
    "url = \"http://www.naver.com\"\n",
    "surl = \"https://www.google.com\"\n",
    "ftp = \"ftp://ftp.naver.com\"\n",
    "\n",
    "print(\"STARTSWITH:\", url.startswith(\"http://\"))\n",
    "print(\"STARTSWITH http://\", surl.startswith(\"http://\"))\n",
    "\n",
    "print(\"ENDSWITH:\", surl.endswith(\"naver.com\"))\n",
    "print(\"ENDSWITH naver.com?\", ftp.endswith(\"naver.com\"))"
   ]
  },
  {
   "cell_type": "markdown",
   "metadata": {},
   "source": [
    "#### 문자열 교환\n",
    "\n",
    "문자열 수정, 치환 관련 메서드 연습\n"
   ]
  },
  {
   "cell_type": "code",
   "execution_count": 40,
   "metadata": {},
   "outputs": [
    {
     "name": "stdout",
     "output_type": "stream",
     "text": [
      "LSTRIP:[Alice and the Heart Queen    ]\n",
      "RSTRIP:[      Alice and the Heart Queen]\n",
      "STRIP:[Alice and the Heart Queen]\n"
     ]
    }
   ],
   "source": [
    "s = \"      Alice and the Heart Queen    \"\n",
    "print(\"LSTRIP:[\", s.lstrip(), \"]\", sep=\"\")\n",
    "print(\"RSTRIP:[\", s.rstrip(), \"]\", sep=\"\")\n",
    "print(\"STRIP:[\", s.strip(), \"]\", sep=\"\")"
   ]
  },
  {
   "cell_type": "code",
   "execution_count": null,
   "metadata": {},
   "outputs": [],
   "source": [
    "# 기본적으로는 공백 문자를 없애준다\n",
    "# 특정 문자를 없애고자 할 경우는 인자로 넘겨준다\n",
    "s2 = \"---------Alice and the Heart Queen-----\"\n",
    "print(\"STRIP -:[\", s2.strip(\"-\"), \"]\", sep=\"\")\n"
   ]
  },
  {
   "cell_type": "code",
   "execution_count": null,
   "metadata": {},
   "outputs": [],
   "source": [
    "# s1에서 공백을 제거하고 Heart를 Spade로 바꿔 봅시다\n",
    "s3 = s.strip().replace(\"Heart\", \"Spade\") # 메서드 체이닝"
   ]
  },
  {
   "cell_type": "markdown",
   "metadata": {},
   "source": [
    "#### 문자열 분할, 합하기"
   ]
  },
  {
   "cell_type": "code",
   "execution_count": null,
   "metadata": {},
   "outputs": [],
   "source": [
    "s = \"Ham and Cheese and Breads and Ketchup\"\n",
    "print(\"원본:\", s)\n",
    "\n",
    "print(\"split:\", s.split()) # 공백 문자를 기준으로 분리 -> 리스트\n",
    "ings = s.split(\" and \") #  and 를 기준으로 문자열을 분리\n",
    "print(\"재료:\", ings, type(ings))\n",
    "\n",
    "print(\"split 왼쪽에서 2개:\", s.split(\" and \", 2))\n",
    "print(\"rsplit 오른쪽에서 2개:\", s.rsplit(\" and \", 2))\n",
    "\n",
    "# 개행 문자를 기준으로 분리\n",
    "lines = \"\"\"\\\n",
    "Java\n",
    "Python\n",
    "JavaScript\n",
    "\"\"\"\n",
    "\n",
    "print(lines)\n",
    "print(lines.splitlines(True)) # 개행 문자 유지\n",
    "print(lines.splitlines()) # 개행 문자를 유지 않음\n"
   ]
  },
  {
   "cell_type": "markdown",
   "metadata": {},
   "source": [
    "#### 문자열 검증 메서드\n",
    "\n",
    "`is` 계열"
   ]
  },
  {
   "cell_type": "code",
   "execution_count": null,
   "metadata": {},
   "outputs": [],
   "source": [
    "print(\"숫자 형태?\", \"1234\".isdigit())\n",
    "print(\"알파벳 형태?\", \"abcd\".isalpha())\n",
    "print(\"알파벳 + 숫자의 조합?\", \"python3\".isalnum())\n",
    "print(\"공백 문자 형태?\", \" \\r\\n\\t\".isspace()) # 스페이스, 탭, 개행\n",
    "print(\"\".isspace())\n",
    "\n",
    "# 문자 형태 판별 : 대문자인가? 소문자인가? 타이틀 형태인가?\n",
    "print(\"모두 대문자?\", \"PYTHON\".isupper())\n",
    "print(\"모두 소문자?\", \"python\".islower())\n",
    "print(\"타이틀 형태?\", \"Python Programming\".istitle())\n"
   ]
  },
  {
   "cell_type": "markdown",
   "metadata": {},
   "source": [
    "<br>\n",
    "\n",
    "# Unicode\n",
    "\n",
    "---"
   ]
  },
  {
   "cell_type": "code",
   "execution_count": 36,
   "metadata": {},
   "outputs": [
    {
     "name": "stdout",
     "output_type": "stream",
     "text": [
      "b'\\xed\\x99\\x8d'\n",
      "홍길동 í\n"
     ]
    }
   ],
   "source": [
    "# 다음은 python2\n",
    "#print(unicode(\"홍길동\"))\n",
    "# unicode()는  python3에서 str()과 동일\n",
    "\n",
    "print(str(\"홍\").encode(\"utf-8\", \"strict\"))\n",
    "\n",
    "print(\"홍길동\", u\"\\xed\\x99\\x8d\")"
   ]
  },
  {
   "cell_type": "code",
   "execution_count": 1,
   "metadata": {},
   "outputs": [
    {
     "name": "stdout",
     "output_type": "stream",
     "text": [
      "20000\n"
     ]
    }
   ],
   "source": [
    "# 문자열 치환\n",
    "#  replace(str1,str2)\n",
    "price = \"20,000\"\n",
    "print( price.replace(',',''))"
   ]
  },
  {
   "cell_type": "markdown",
   "metadata": {},
   "source": [
    "<br>\n",
    "\n",
    "# Formatting\n",
    "\n",
    "---"
   ]
  },
  {
   "cell_type": "code",
   "execution_count": 18,
   "metadata": {},
   "outputs": [
    {
     "data": {
      "text/plain": [
       "'This is a Python programming'"
      ]
     },
     "execution_count": 18,
     "metadata": {},
     "output_type": "execute_result"
    }
   ],
   "source": [
    "#\n",
    "# Formatting string\n",
    "#\n",
    "\"This is a %s programming\" % 'Python'"
   ]
  },
  {
   "cell_type": "code",
   "execution_count": 8,
   "metadata": {},
   "outputs": [
    {
     "data": {
      "text/plain": [
       "(str, str, str)"
      ]
     },
     "execution_count": 8,
     "metadata": {},
     "output_type": "execute_result"
    }
   ],
   "source": [
    "#String types\n",
    "type(s2), type(s1 + s2), type(z)"
   ]
  },
  {
   "cell_type": "code",
   "execution_count": 22,
   "metadata": {},
   "outputs": [
    {
     "name": "stdout",
     "output_type": "stream",
     "text": [
      "10 -- 12 -- a -- A\n"
     ]
    },
    {
     "data": {
      "text/plain": [
       "'10 와 20 를 더한 결과는: 30'"
      ]
     },
     "execution_count": 22,
     "metadata": {},
     "output_type": "execute_result"
    }
   ],
   "source": [
    "#converts number to string\n",
    "i = 10\n",
    "j = 20\n",
    "# 다른 자료형으로 포매팅\n",
    "print(\"%d -- %o -- %x -- %X\" % (i,i,i,i))\n",
    "\n",
    "#\n",
    "'%d 와 %d 를 더한 결과는: %s' % (i, j, str(i+j))"
   ]
  },
  {
   "cell_type": "code",
   "execution_count": 23,
   "metadata": {},
   "outputs": [
    {
     "name": "stdout",
     "output_type": "stream",
     "text": [
      "홍길동 : 123-3456-3445\n"
     ]
    }
   ],
   "source": [
    "# dictionary 형을 사용한 포매팅\n",
    "print( \"%(이름)s : %(전화번호)s\" % {'이름':'홍길동', '전화번호':'123-3456-3445'})"
   ]
  },
  {
   "cell_type": "code",
   "execution_count": 24,
   "metadata": {},
   "outputs": [
    {
     "name": "stdout",
     "output_type": "stream",
     "text": [
      "홍길동 : 123-3445-5544\n"
     ]
    }
   ],
   "source": [
    "# 변수를 사용한 포매팅\n",
    "name = \"홍길동\"\n",
    "phone = \"123-3445-5544\"\n",
    "# vars() 현재 지역 변수의 dictinary를 반환해 준다.\n",
    "print(\"%(name)s : %(phone)s\" % vars())"
   ]
  },
  {
   "cell_type": "code",
   "execution_count": 14,
   "metadata": {
    "scrolled": true
   },
   "outputs": [
    {
     "name": "stdout",
     "output_type": "stream",
     "text": [
      "T\n",
      "h\n",
      "i\n",
      "s\n",
      " \n",
      "i\n",
      "s\n",
      " \n",
      "d\n",
      "o\n",
      "u\n",
      "b\n",
      "l\n",
      "e\n",
      " \n",
      "q\n",
      "u\n",
      "o\n",
      "t\n",
      "e\n",
      "s\n"
     ]
    }
   ],
   "source": [
    "# Iterations\n",
    "for s in s2: print(s)"
   ]
  },
  {
   "cell_type": "code",
   "execution_count": 16,
   "metadata": {},
   "outputs": [
    {
     "data": {
      "text/plain": [
       "True"
      ]
     },
     "execution_count": 16,
     "metadata": {},
     "output_type": "execute_result"
    }
   ],
   "source": [
    "# Membership\n",
    "'This' in s2"
   ]
  },
  {
   "cell_type": "markdown",
   "metadata": {},
   "source": []
  },
  {
   "cell_type": "markdown",
   "metadata": {},
   "source": [
    "# String formatting for Python3\n",
    "=  http://docs.python.org/py3k/library/string.html#format-string-syntax\n",
    "\n",
    "전통적 포매팅 형식인 \"%\" 보다 다음 같이 .format() 메서드 권장.\n",
    "\n",
    "http://blog.bluekyu.me/2010/06/파이썬python-3-포맷팅-방식.html"
   ]
  },
  {
   "cell_type": "code",
   "execution_count": 3,
   "metadata": {},
   "outputs": [
    {
     "data": {
      "text/plain": [
       "'Python is good'"
      ]
     },
     "execution_count": 3,
     "metadata": {},
     "output_type": "execute_result"
    }
   ],
   "source": [
    "'Python is {}'.format('good')"
   ]
  },
  {
   "cell_type": "code",
   "execution_count": 5,
   "metadata": {},
   "outputs": [
    {
     "name": "stdout",
     "output_type": "stream",
     "text": [
      "Python is very good programming language\n",
      "Python is very good programming language\n"
     ]
    }
   ],
   "source": [
    "# 포맷 인자의 인덱스로 선언해서 사용: {INDEX} 숫자\n",
    "print('Python is {0} good {1} language'.format('very', 'programming'))\n",
    "print('Python is {1} good {0} language'.format('programming', 'very'))"
   ]
  },
  {
   "cell_type": "code",
   "execution_count": 8,
   "metadata": {},
   "outputs": [
    {
     "name": "stdout",
     "output_type": "stream",
     "text": [
      "Python is Good programming language\n",
      "Apple is red\n",
      "Python is very good programming language\n"
     ]
    }
   ],
   "source": [
    "# 키워드 인자\n",
    "print('{lang} is {quote} programming language'.format( lang='Python', quote='Good'))\n",
    "\n",
    "# 딕셔너리 인자\n",
    "dic = {'item' : 'Apple', 'color' : 'red'}\n",
    "print('{0[item]} is {0[color]}'.format(dic))\n",
    "\n",
    "# 튜플/리스트 인자: 함수에 인자를 * 기호를 주면서 넣게 되면 리스트나 튜플로 \n",
    "# 인식하 듯이 포맷팅에도 위와 같이 사용할 수 있습니다. ** 기호를 사용하면 사전 객체를 사용할 수 있습니다.\n",
    "t = ('very', 'programming')\n",
    "print('Python is {0} good {1} language'.format(*t))"
   ]
  },
  {
   "cell_type": "code",
   "execution_count": null,
   "metadata": {
    "collapsed": true,
    "jupyter": {
     "outputs_hidden": true
    }
   },
   "outputs": [],
   "source": [
    "#! 기호를 사용해서 문자열의 방식을 지정해 줄 수 있다. !뒤에 s,r,a 사용.\n",
    "# s 는 srt(), r은 repr(), a 는 ascii() 를 의미\n",
    "\n",
    "#여기서 ascii() 는 repr 과 마찬가지로 출력할 수 있는 문자열을 리턴 해주는데, \n",
    "# 조금 다른 점은 이스케이프 문자(\\x, \\u)도 같이 표현해준다는 것입니다.\n",
    "print('Python is {0!r} good {1!r} language'.format('very', 'programming'))"
   ]
  },
  {
   "cell_type": "code",
   "execution_count": 2,
   "metadata": {},
   "outputs": [
    {
     "name": "stdout",
     "output_type": "stream",
     "text": [
      "          Python is good           \n"
     ]
    }
   ],
   "source": [
    "# ':'\n",
    "# 뒤에 숫자가 오면 문자열의 폭을 지정\n",
    "print('{:10}Python is {:15}'.format('','good'))"
   ]
  },
  {
   "cell_type": "code",
   "execution_count": 9,
   "metadata": {},
   "outputs": [
    {
     "name": "stdout",
     "output_type": "stream",
     "text": [
      "Python is         15\n"
     ]
    }
   ],
   "source": [
    "# =는 부호와 숫자 사이에 공백을 표시하라는 의미\n",
    "# + 기호를 쓰면 양수, 음수 모두 부호 표시, - 기호는 음수에만 부호 표시(기본)\n",
    "\n",
    "print('Python is {:=10}'.format(15))"
   ]
  },
  {
   "cell_type": "code",
   "execution_count": 1,
   "metadata": {},
   "outputs": [
    {
     "name": "stdout",
     "output_type": "stream",
     "text": [
      "          Python is      good      \n",
      "          Python is            good\n"
     ]
    }
   ],
   "source": [
    "##### 정렬 기호 \n",
    "# ^:가운데 정렬. < 는 왼쪽(기본), > 오른쪽, \n",
    "print('{:10}Python is {:^15}'.format('','good'))\n",
    "print('{:10}Python is {:>15}'.format('','good'))"
   ]
  },
  {
   "cell_type": "code",
   "execution_count": 23,
   "metadata": {},
   "outputs": [
    {
     "name": "stdout",
     "output_type": "stream",
     "text": [
      "Python is @@@@@@@@@@@good\n",
      "Python is good@@@@@@@@@@@\n",
      "Fifteen is @@@@@@@+15\n",
      "@@@@@@@@15 is Fifteen\n"
     ]
    }
   ],
   "source": [
    "# 정렬 기호 바로 다음에 문자를 표시해주게 되면 공백은 그 문자로 채우게 할 수 있습니다.\n",
    "print('Python is {:@>15}'.format('good'))\n",
    "print('Python is {:@<15}'.format('good'))\n",
    "print('Fifteen is {:@>+10}'.format(15))\n",
    "print('{:@>-10} is Fifteen'.format(15))"
   ]
  },
  {
   "cell_type": "code",
   "execution_count": 27,
   "metadata": {},
   "outputs": [
    {
     "name": "stdout",
     "output_type": "stream",
     "text": [
      "Fifteen is 0000000015\n",
      "Fifteen is 0000000015\n",
      "Fifteen is -000000015\n",
      "Fifteen is -000000015\n"
     ]
    }
   ],
   "source": [
    "# 폭을 표시해주는 = 앞에 '0'을 써주게 되면, 공백 채움 문자 0으로 쓴 것과 같게 된다.\n",
    "print('Fifteen is {:0=10}'.format(15))\n",
    "print('Fifteen is {:010}'.format(15))\n",
    "print('Fifteen is {:0=10}'.format(-15))\n",
    "print('Fifteen is {:010}'.format(-15))"
   ]
  },
  {
   "cell_type": "code",
   "execution_count": 30,
   "metadata": {},
   "outputs": [
    {
     "name": "stdout",
     "output_type": "stream",
     "text": [
      "삼억원: 3,000,000,000\n",
      "삼억원: 3,000,000,000\n"
     ]
    }
   ],
   "source": [
    "# 숫자의 천단위를 나누기 위해 ','를 사용한다.\n",
    "print('삼억원: {:,}'.format(3000000000))\n",
    "print('삼억원: {:10,}'.format(3000000000))"
   ]
  },
  {
   "cell_type": "code",
   "execution_count": 34,
   "metadata": {},
   "outputs": [
    {
     "name": "stdout",
     "output_type": "stream",
     "text": [
      "삼억원 is 3.000000e+09\n",
      "삼억원 is 3000000000.000000\n",
      "삼억원 is 300000000000.000000%\n"
     ]
    }
   ],
   "source": [
    "# 기수 다음에 문자를 써주면 숫자 표현 방식을 지정할 수 있다.\n",
    "# e:지수, f:실수, %:퍼센트, b:2진, c: 문자, d:10진, o: 8진, x:16진, X:16진 대문자, n:현재 로케일 분리문자\n",
    "print('삼억원 is {:10e}'.format(3000000000))\n",
    "print('삼억원 is {:10f}'.format(3000000000))\n",
    "print('삼억원 is {:10%}'.format(3000000000))"
   ]
  },
  {
   "cell_type": "code",
   "execution_count": 2,
   "metadata": {},
   "outputs": [
    {
     "name": "stdout",
     "output_type": "stream",
     "text": [
      "15 is     0b1111\n",
      "15 is       0o17\n",
      "15 is        0xf\n"
     ]
    }
   ],
   "source": [
    "# Binary, Octet, Hex decimal\n",
    "# # 뒤에 0b, 0o, 0x 로 2진, 8진 16진 나타낼 수 있다.\n",
    "print('15 is {:#10b}'.format(15))\n",
    "print('15 is {:#10o}'.format(15))\n",
    "print('15 is {:#10x}'.format(15))"
   ]
  },
  {
   "cell_type": "markdown",
   "metadata": {},
   "source": [
    "### 컬럼형식 프린팅\n",
    "\n",
    "데이터 컬럼을 print() 로 컬럼 마다 출력하려면"
   ]
  },
  {
   "cell_type": "code",
   "execution_count": 3,
   "metadata": {
    "scrolled": true
   },
   "outputs": [
    {
     "name": "stdout",
     "output_type": "stream",
     "text": [
      "a           b           c           \n",
      "aaaaaaaaaa  b           c           \n",
      "a           bbbbbbbbbb  c           \n"
     ]
    }
   ],
   "source": [
    "data = [['a', 'b', 'c'], ['aaaaaaaaaa', 'b', 'c'], ['a', 'bbbbbbbbbb', 'c']]\n",
    "\n",
    "col_width = max(len(word) for row in data for word in row) + 2  # padding\n",
    "for row in data:\n",
    "    print(\"\".join(word.ljust(col_width) for word in row))"
   ]
  },
  {
   "cell_type": "markdown",
   "metadata": {},
   "source": [
    "Python2.6 부터 `.format()` 을 이용하면 단순해 진다."
   ]
  },
  {
   "cell_type": "code",
   "execution_count": 2,
   "metadata": {
    "scrolled": true
   },
   "outputs": [
    {
     "name": "stdout",
     "output_type": "stream",
     "text": [
      "                   a                    b                    c\n",
      "          aaaaaaaaaa                    b                    c\n",
      "                   a           bbbbbbbbbb                    c\n"
     ]
    }
   ],
   "source": [
    "table_data = [['a', 'b', 'c'], ['aaaaaaaaaa', 'b', 'c'], ['a', 'bbbbbbbbbb', 'c']]\n",
    "for row in table_data:\n",
    "    print(\"{: >20} {: >20} {: >20}\".format(*row))"
   ]
  },
  {
   "cell_type": "markdown",
   "metadata": {},
   "source": [
    "---\n",
    "\n",
    "# f 문자열\n",
    "\n",
    "파이썬3 이상 가능.\n",
    "\n",
    "- [formatted-string-literals](https://docs.python.org/ko/3/tutorial/inputoutput.html#formatted-string-literals)\n",
    "\n"
   ]
  },
  {
   "cell_type": "code",
   "execution_count": 1,
   "metadata": {},
   "outputs": [
    {
     "name": "stdout",
     "output_type": "stream",
     "text": [
      "The value of pi is approximately 3.142.\n"
     ]
    }
   ],
   "source": [
    "import math\n",
    "print(f'The value of pi is approximately {math.pi:.3f}.')"
   ]
  },
  {
   "cell_type": "markdown",
   "metadata": {},
   "source": [
    "**':'** 뒤에 정수를 전달하면 해당 필드의 최소 문자 폭이 됩니다. 열을 줄 맞춤할 때 편리합니다."
   ]
  },
  {
   "cell_type": "code",
   "execution_count": 2,
   "metadata": {},
   "outputs": [
    {
     "name": "stdout",
     "output_type": "stream",
     "text": [
      "Sjoerd     ==>       4127\n",
      "Jack       ==>       4098\n",
      "Dcab       ==>       7678\n"
     ]
    }
   ],
   "source": [
    "table = {'Sjoerd': 4127, 'Jack': 4098, 'Dcab': 7678}\n",
    "for name, phone in table.items():\n",
    "    print(f'{name:10} ==> {phone:10d}')"
   ]
  },
  {
   "cell_type": "markdown",
   "metadata": {},
   "source": [
    "다른 수정자를 사용하면 포맷되기 전에 값을 변환할 수 있습니다. `!a`는 `ascii()`를, `!s`는 `str()`을, `!r`는 `repr()`을 적용합니다.:"
   ]
  },
  {
   "cell_type": "code",
   "execution_count": 3,
   "metadata": {},
   "outputs": [
    {
     "name": "stdout",
     "output_type": "stream",
     "text": [
      "My hovercraft is full of eels.\n",
      "My hovercraft is full of 'eels'.\n"
     ]
    }
   ],
   "source": [
    "animals = 'eels'\n",
    "print(f'My hovercraft is full of {animals}.')\n",
    "#My hovercraft is full of eels.\n",
    "print(f'My hovercraft is full of {animals!r}.')\n",
    "#My hovercraft is full of 'eels'."
   ]
  },
  {
   "cell_type": "markdown",
   "metadata": {},
   "source": [
    "#### 문제 2\n",
    "\n",
    "다음과 형식과 같이 출력하세요.\n",
    "\n",
    "```terminal\n",
    "국가 : 대한민국\n",
    "수도 : 서울\n",
    "언어 : 한국어\n",
    "인구 : 51,736,224명\n",
    "```\n",
    "\n",
    "- format() 등 이용\n"
   ]
  },
  {
   "cell_type": "markdown",
   "metadata": {},
   "source": [
    "---\n",
    "\n",
    "# 포매팅 성능 테스트"
   ]
  },
  {
   "cell_type": "code",
   "execution_count": 3,
   "metadata": {},
   "outputs": [
    {
     "data": {
      "text/plain": [
       "0.04472220805473626"
      ]
     },
     "execution_count": 3,
     "metadata": {},
     "output_type": "execute_result"
    }
   ],
   "source": [
    "import timeit\n",
    "timeit.timeit(\"\"\"\n",
    "name = \"Eric\"\n",
    "age = 74\n",
    "'%s is %s.' % (name, age)\"\"\", number = 10000)"
   ]
  },
  {
   "cell_type": "code",
   "execution_count": 4,
   "metadata": {},
   "outputs": [
    {
     "data": {
      "text/plain": [
       "0.06491759303025901"
      ]
     },
     "execution_count": 4,
     "metadata": {},
     "output_type": "execute_result"
    }
   ],
   "source": [
    "timeit.timeit(\"\"\"name = \"Eric\"\n",
    "age = 74\n",
    "'{} is {}.'.format(name, age)\"\"\", number = 10000)#0.004242089427570761"
   ]
  },
  {
   "cell_type": "code",
   "execution_count": 6,
   "metadata": {},
   "outputs": [
    {
     "data": {
      "text/plain": [
       "0.03468590509146452"
      ]
     },
     "execution_count": 6,
     "metadata": {},
     "output_type": "execute_result"
    }
   ],
   "source": [
    "timeit.timeit(\"\"\"name = \"Eric\"\n",
    "age = 74\n",
    "f'{name} is {age}.'\"\"\", number = 10000) # 0.0024820892040722242"
   ]
  },
  {
   "cell_type": "markdown",
   "metadata": {},
   "source": [
    "## 문제 3\n",
    "\n",
    "변수 x에 ‘길동 홍’라는 문자열이 있을 때 \n",
    " - 슬라이싱 기능\n",
    " - 연결하기 기능\n",
    " \n",
    "등을 이용해 ‘홍 길동’로 값을 올바르게 변경하여 출력 하세요.\n",
    "\n"
   ]
  },
  {
   "cell_type": "markdown",
   "metadata": {},
   "source": [
    "## 문제 4\n",
    "\n",
    "\"마셔라\"의 전화번호는 010-1234-5678입니다. \n",
    "\"마셔라\"의 전화번호에서 ‘-’을 제외하고 숫자 부분만 나누어 출력 하세요.\n",
    "\n",
    "아래 두 가지 방법을 모두 사용해 보세요:\n",
    " \n",
    " 1. 슬라이싱을 이용\n",
    " 2. str 객체의 split() 이용\n",
    "\n"
   ]
  },
  {
   "cell_type": "code",
   "execution_count": null,
   "metadata": {},
   "outputs": [],
   "source": []
  },
  {
   "cell_type": "code",
   "execution_count": null,
   "metadata": {},
   "outputs": [],
   "source": []
  },
  {
   "cell_type": "code",
   "execution_count": null,
   "metadata": {},
   "outputs": [],
   "source": []
  },
  {
   "cell_type": "markdown",
   "metadata": {},
   "source": [
    "# string module"
   ]
  },
  {
   "cell_type": "code",
   "execution_count": 15,
   "metadata": {
    "collapsed": true,
    "jupyter": {
     "outputs_hidden": true
    }
   },
   "outputs": [],
   "source": [
    "import string"
   ]
  },
  {
   "cell_type": "code",
   "execution_count": 16,
   "metadata": {},
   "outputs": [
    {
     "data": {
      "text/plain": [
       "['Formatter',\n",
       " 'Template',\n",
       " '_ChainMap',\n",
       " '_TemplateMetaclass',\n",
       " '__all__',\n",
       " '__builtins__',\n",
       " '__cached__',\n",
       " '__doc__',\n",
       " '__file__',\n",
       " '__loader__',\n",
       " '__name__',\n",
       " '__package__',\n",
       " '__spec__',\n",
       " '_re',\n",
       " '_string',\n",
       " 'ascii_letters',\n",
       " 'ascii_lowercase',\n",
       " 'ascii_uppercase',\n",
       " 'capwords',\n",
       " 'digits',\n",
       " 'hexdigits',\n",
       " 'octdigits',\n",
       " 'printable',\n",
       " 'punctuation',\n",
       " 'whitespace']"
      ]
     },
     "execution_count": 16,
     "metadata": {},
     "output_type": "execute_result"
    }
   ],
   "source": [
    "dir(string)"
   ]
  },
  {
   "cell_type": "code",
   "execution_count": 19,
   "metadata": {},
   "outputs": [
    {
     "name": "stdout",
     "output_type": "stream",
     "text": [
      "Bytes Can Only Contain Ascii Literal Characters\n"
     ]
    }
   ],
   "source": [
    "s = \"bytes can only contain ASCII literal characters\"\n",
    "\n",
    "c = string.capwords(s)\n",
    "print(c)"
   ]
  },
  {
   "cell_type": "code",
   "execution_count": 20,
   "metadata": {},
   "outputs": [
    {
     "name": "stdout",
     "output_type": "stream",
     "text": [
      "['Bytes', 'Can', 'Only', 'Contain', 'Ascii', 'Literal', 'Characters']\n"
     ]
    }
   ],
   "source": [
    "l = c.split(\" \")\n",
    "print(l)\n"
   ]
  },
  {
   "cell_type": "code",
   "execution_count": 21,
   "metadata": {},
   "outputs": [
    {
     "name": "stdout",
     "output_type": "stream",
     "text": [
      "Bytes Can Only Contain Ascii Literal Characters\n"
     ]
    }
   ],
   "source": [
    "ss = \" \".join(l)\n",
    "print(ss)"
   ]
  },
  {
   "cell_type": "code",
   "execution_count": 23,
   "metadata": {},
   "outputs": [
    {
     "data": {
      "text/plain": [
       "('0123456789abcdefABCDEF', '01234567', '0123456789')"
      ]
     },
     "execution_count": 23,
     "metadata": {},
     "output_type": "execute_result"
    }
   ],
   "source": [
    "string.hexdigits, string.octdigits, string.digits"
   ]
  },
  {
   "cell_type": "markdown",
   "metadata": {},
   "source": [
    "### String Template"
   ]
  },
  {
   "cell_type": "code",
   "execution_count": 15,
   "metadata": {
    "collapsed": true,
    "jupyter": {
     "outputs_hidden": true
    }
   },
   "outputs": [],
   "source": [
    "import string"
   ]
  },
  {
   "cell_type": "code",
   "execution_count": 25,
   "metadata": {},
   "outputs": [
    {
     "data": {
      "text/plain": [
       "string.Template"
      ]
     },
     "execution_count": 25,
     "metadata": {},
     "output_type": "execute_result"
    }
   ],
   "source": [
    "string.Template"
   ]
  },
  {
   "cell_type": "code",
   "execution_count": 26,
   "metadata": {},
   "outputs": [
    {
     "data": {
      "text/plain": [
       "['__class__',\n",
       " '__delattr__',\n",
       " '__dict__',\n",
       " '__dir__',\n",
       " '__doc__',\n",
       " '__eq__',\n",
       " '__format__',\n",
       " '__ge__',\n",
       " '__getattribute__',\n",
       " '__gt__',\n",
       " '__hash__',\n",
       " '__init__',\n",
       " '__init_subclass__',\n",
       " '__le__',\n",
       " '__lt__',\n",
       " '__module__',\n",
       " '__ne__',\n",
       " '__new__',\n",
       " '__reduce__',\n",
       " '__reduce_ex__',\n",
       " '__repr__',\n",
       " '__setattr__',\n",
       " '__sizeof__',\n",
       " '__str__',\n",
       " '__subclasshook__',\n",
       " '__weakref__',\n",
       " '_invalid',\n",
       " 'delimiter',\n",
       " 'flags',\n",
       " 'idpattern',\n",
       " 'pattern',\n",
       " 'safe_substitute',\n",
       " 'substitute']"
      ]
     },
     "execution_count": 26,
     "metadata": {},
     "output_type": "execute_result"
    }
   ],
   "source": [
    "dir(string.Template)"
   ]
  },
  {
   "cell_type": "code",
   "execution_count": 33,
   "metadata": {},
   "outputs": [
    {
     "name": "stdout",
     "output_type": "stream",
     "text": [
      " \n",
      "name = dahlmoon\n",
      "age  = 50\n",
      "\n"
     ]
    }
   ],
   "source": [
    "t = \"\"\" \n",
    "name = $name\n",
    "age  = $age\n",
    "\"\"\"\n",
    "\n",
    "tt = string.Template(t)\n",
    "\n",
    "\n",
    "print(tt.substitute(name=\"dahlmoon\",age=\"50\"))"
   ]
  },
  {
   "cell_type": "code",
   "execution_count": 41,
   "metadata": {},
   "outputs": [
    {
     "name": "stdout",
     "output_type": "stream",
     "text": [
      " \n",
      "name = dahl\n",
      "age  = 50\n",
      "\n"
     ]
    }
   ],
   "source": [
    "t = \"\"\" \n",
    "name = %(name)s\n",
    "age  = %(age)s\n",
    "\"\"\"\n",
    "\n",
    "values = {'name' :\"dahl\", 'age' : \"50\"}\n",
    "\n",
    "print( t % (values))"
   ]
  }
 ],
 "metadata": {
  "kernelspec": {
   "display_name": "Python 3 (ipykernel)",
   "language": "python",
   "name": "python3"
  },
  "language_info": {
   "codemirror_mode": {
    "name": "ipython",
    "version": 3
   },
   "file_extension": ".py",
   "mimetype": "text/x-python",
   "name": "python",
   "nbconvert_exporter": "python",
   "pygments_lexer": "ipython3",
   "version": "3.10.3"
  }
 },
 "nbformat": 4,
 "nbformat_minor": 4
}
