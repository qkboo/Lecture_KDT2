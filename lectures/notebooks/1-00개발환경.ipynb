{
 "cells": [
  {
   "cell_type": "markdown",
   "id": "ae0e249f-b03b-4baf-9de1-407e7188dd3b",
   "metadata": {},
   "source": [
    "# Python 과 Jupyter Notebook 개발환경\n"
   ]
  },
  {
   "cell_type": "markdown",
   "id": "17cf4fca-ba22-4433-978e-c61666bec4bd",
   "metadata": {},
   "source": [
    "## 개발환경\n",
    "\n",
    "### 파이썬 배포본\n",
    "\n",
    "* Python - http://python.org\n",
    "* Anaconda - https://anaconda.com/\n",
    "* Miniconda - https://docs.conda.io/en/latest/miniconda.html\n",
    "\n",
    "패키지 관리자\n",
    "* pip - https://pip.pypa.io/en/stable/cli/pip/"
   ]
  },
  {
   "cell_type": "markdown",
   "id": "9167fe1c-1b39-4c7f-aff9-ca6a8e1de8cf",
   "metadata": {},
   "source": [
    "### Version Manager:\n",
    "* pyenv - https://github.com/pyenv/pyenv\n",
    "* pyenv-win - https://github.com/pyenv-win/pyenv-win\n",
    "* conda"
   ]
  },
  {
   "cell_type": "markdown",
   "id": "3566db3e-efe1-4f07-a09d-8ecb447edf9a",
   "metadata": {},
   "source": [
    "### 파이썬 개발도구\n",
    "Jupyter Notebook\n",
    "* Jupyter Notebook - http://jupyter.org\n",
    "* Google Colab - http://colab.research.google.com\n",
    "\n",
    "Desktop 개발환경\n",
    "* PyCharm - https://www.jetbrains.com/ko-kr/pycharm\n",
    "* VisualStudio Code - https://code.visualstudio.com/\n",
    "\n",
    "### 과학계산 데이터\n",
    "* NumPy - http://numpy.org\n",
    "* Pandas - http://pandas.pydata.org/\n",
    "\n",
    "### 데이터 수집\n",
    "* BeautifulSoup - http://crummy.com/software/BeautifulSoup/bs4/doc/\n",
    "* Requests - http://docs.python-requests.org\n",
    "* 크롬 브라우저 개발자 도구\n",
    "* Selenium - https://www.selenium.dev/ \n",
    "\n",
    "### 시각화 도구\n",
    "* Matplotlib - https://matplotlib.org\n",
    "* Bokeh - https://docs.bokeh.org\n",
    "\n",
    "\n",
    "\n",
    "### 엑셀 자동화\n",
    "\n",
    "* OpenPyXL - https://openpyxl.readthedocs.io\n",
    "* xlwings - https://www.xlwings.org\n",
    "* xlwings - https://www.xlwings.org\n"
   ]
  },
  {
   "cell_type": "markdown",
   "id": "be0c3a3e-54a5-406d-8bf8-1c0068d07a45",
   "metadata": {},
   "source": [
    "# pip"
   ]
  },
  {
   "cell_type": "markdown",
   "id": "cfcccf9f-1055-4f35-8faf-7237d5633ca3",
   "metadata": {},
   "source": [
    "### 모든 패키지 업그레이드\n",
    "\n",
    "리눅스/윈도우에서 아래 같이 설치 패키지를 저장하고, `-r` 옵션을 사용시 업그레이드 한다.\n",
    "\n",
    "```sh\n",
    "pip freeze > requirements.txt\n",
    "```\n",
    "\n",
    "requirements.txt를 `==` 를 `>=` 로 수정한다. 그리고 아래 같이 업그레이드 한다.\n",
    "\n",
    "```sh\n",
    "$ pip install -r requirements.txt --upgrade\n",
    "```\n",
    "\n",
    "> vim 에서 find & replace 로 `:%s/==/>=/g` 로 치환한다."
   ]
  }
 ],
 "metadata": {
  "kernelspec": {
   "display_name": "Python 3 (ipykernel)",
   "language": "python",
   "name": "python3"
  },
  "language_info": {
   "codemirror_mode": {
    "name": "ipython",
    "version": 3
   },
   "file_extension": ".py",
   "mimetype": "text/x-python",
   "name": "python",
   "nbconvert_exporter": "python",
   "pygments_lexer": "ipython3",
   "version": "3.10.9"
  }
 },
 "nbformat": 4,
 "nbformat_minor": 5
}
