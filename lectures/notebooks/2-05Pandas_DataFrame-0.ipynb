{
 "cells": [
  {
   "cell_type": "code",
   "execution_count": null,
   "metadata": {},
   "outputs": [],
   "source": [
    "! pip install pandas"
   ]
  },
  {
   "cell_type": "markdown",
   "metadata": {},
   "source": [
    "<div id = \"summary\"> \n",
    "<ul>\n",
    "    <li>DataFrame <strong><span style = \"color:red\">생성</span></strong></li>\n",
    "    <li>DataFrame에 <strong><span style = \"color:red\">Data추가/삭제/조회</span></strong></li>\n",
    "\n",
    "</div>  \n",
    "  \n",
    "    "
   ]
  },
  {
   "cell_type": "markdown",
   "metadata": {},
   "source": [
    "# 2. DataFrame"
   ]
  },
  {
   "cell_type": "markdown",
   "metadata": {},
   "source": [
    "DataFrame 이란?\n",
    "\n",
    "<ul>\n",
    "    <li> 2차원 데이터 </li>\n",
    "    <li> 인덱스가 같은 하나 이상의 <strong><u>Series가 모여진 데이터</u></strong> </li>\n",
    "    <li> DBMS 의 관계형 Table 과 매우 유사 </li>\n",
    "</ul>\n",
    "\n",
    "\n",
    "먼저 DataFrame을 사용하기 위해 Pandas 라이브러리를 import 합니다."
   ]
  },
  {
   "cell_type": "code",
   "execution_count": null,
   "metadata": {},
   "outputs": [],
   "source": [
    "# pandas library import\n",
    "import pandas as pd\n",
    "from pandas import Series, DataFrame"
   ]
  },
  {
   "cell_type": "markdown",
   "metadata": {},
   "source": [
    "## 2.1 DataFrame 데이터 생성"
   ]
  },
  {
   "cell_type": "markdown",
   "metadata": {},
   "source": [
    "DataFrame을 생성하기 위해 셀에 DataFrame() 이라고 입력하고 괄호 안에서 Shift+tab 을 눌러보면 아래와 같은 정보가 보입니다.  \n",
    "\n",
    "DataFrame(<strong><span style = \"color:red\">data</span></strong>=None, <strong><span style = \"color:red\">index</span></strong>=None, <strong><span style = \"color:red\">columns</span></strong>=None, <strong><span style = \"color:red\">dtype</span></strong>=None, <strong><span style = \"color:red\">copy</span></strong>=False)  \n",
    "\n",
    "값을 입력해줄 수 있고, Default 가 None이기 때문에 값이 없으면 아무 동작도 하지 않습니다. 속성값들을 하나씩 알아보겠습니다.\n",
    "<ul>\n",
    "    <li><strong><span style = \"color:red\">data</span></strong> : 저장되는 데이터</li>\n",
    "    <li><strong><span style = \"color:red\">index</span></strong> : index에 대한 정보(미입력시 0부터 순차적으로 부여)</li>\n",
    "    <li><strong><span style = \"color:red\">columns</span></strong> : 열에 대한 이름값(미입력시 0부터 순차적으로 부여)</li>\n",
    "    <li><strong><span style = \"color:red\">dtype</span></strong> : 데이터에 대한 타입 명시(미입력시 자체적으로 판단)</li>\n",
    "</ul>\n",
    "\n",
    "예제를 확인하겠습니다."
   ]
  },
  {
   "cell_type": "code",
   "execution_count": null,
   "metadata": {},
   "outputs": [],
   "source": [
    "Data1 = DataFrame([[180,75],[160,65],[170,75], [175,80]], \n",
    "                  index = [\"사람1\",\"사람2\",\"사람3\",\"사람4\"], \n",
    "                  columns = [\"키\",\"몸무게\"])\n",
    "Data1"
   ]
  },
  {
   "cell_type": "code",
   "execution_count": null,
   "metadata": {},
   "outputs": [],
   "source": [
    "print(Data1)"
   ]
  },
  {
   "cell_type": "code",
   "execution_count": null,
   "metadata": {},
   "outputs": [],
   "source": [
    "Data1.shape"
   ]
  },
  {
   "cell_type": "code",
   "execution_count": null,
   "metadata": {},
   "outputs": [],
   "source": [
    "Data1.index"
   ]
  },
  {
   "cell_type": "code",
   "execution_count": null,
   "metadata": {},
   "outputs": [],
   "source": [
    "Data1.values"
   ]
  },
  {
   "cell_type": "code",
   "execution_count": null,
   "metadata": {},
   "outputs": [],
   "source": [
    "Data1.columns"
   ]
  },
  {
   "cell_type": "code",
   "execution_count": null,
   "metadata": {},
   "outputs": [],
   "source": [
    "Data1.ndim"
   ]
  },
  {
   "cell_type": "code",
   "execution_count": null,
   "metadata": {},
   "outputs": [],
   "source": [
    "Data1.size"
   ]
  },
  {
   "cell_type": "markdown",
   "metadata": {},
   "source": [
    "index와 columns의 경우 선언후에도 별도로 입력할 수도 있습니다."
   ]
  },
  {
   "cell_type": "code",
   "execution_count": null,
   "metadata": {},
   "outputs": [],
   "source": [
    "Data1 = DataFrame([[180,75],[160,65],[170,75], [175,80]])\n",
    "Data1"
   ]
  },
  {
   "cell_type": "code",
   "execution_count": null,
   "metadata": {},
   "outputs": [],
   "source": [
    "# 인덱스 저장\n",
    "Data1.index = [\"Man1\",\"Man2\",\"Man3\",\"Man4\"]\n",
    "Data1"
   ]
  },
  {
   "cell_type": "code",
   "execution_count": null,
   "metadata": {},
   "outputs": [],
   "source": [
    "Data1.columns"
   ]
  },
  {
   "cell_type": "code",
   "execution_count": null,
   "metadata": {},
   "outputs": [],
   "source": [
    "# 컬럼명 저장\n",
    "Data1.columns = [\"Height\",\"Weight\"]\n",
    "Data1"
   ]
  },
  {
   "cell_type": "code",
   "execution_count": null,
   "metadata": {},
   "outputs": [],
   "source": [
    "Data1.columns"
   ]
  },
  {
   "cell_type": "markdown",
   "metadata": {
    "tags": []
   },
   "source": [
    "## 2.2 DataFrame 조회\n",
    "- `DataFrame[컬럼명]` : 컬럼 선택\n",
    "- `DataFrame.loc[\"index명\"]` : 특정 index만 조회 가능하다.\n",
    "- `DataFrame.iloc[index번호]` : 특정 index만 조회 가능하다."
   ]
  },
  {
   "cell_type": "code",
   "execution_count": null,
   "metadata": {},
   "outputs": [],
   "source": [
    "# 예제를 위한 데이터 생성\n",
    "Data2 = DataFrame([[180,75,30],[160,65,40],[170,75,32], [175,80,33]], \n",
    "                  index = [\"사람1\",\"사람2\",\"사람3\",\"사람4\"], \n",
    "                  columns = [\"키\",\"몸무게\",\"나이\"])\n",
    "Data2"
   ]
  },
  {
   "cell_type": "code",
   "execution_count": null,
   "metadata": {},
   "outputs": [],
   "source": [
    "Data2.shape"
   ]
  },
  {
   "cell_type": "markdown",
   "metadata": {},
   "source": [
    "### Column 조회"
   ]
  },
  {
   "cell_type": "markdown",
   "metadata": {},
   "source": [
    "<strong><span style = \"color:red\">DataFrame명[\"속성명\"]</span></strong> 또는 <strong><span style = \"color:red\">DataFrame명.속성명</span></strong>을 통해 <strong><u>특정 속성명만 조회</u></strong> 할 수 있다.\n",
    "\n",
    "하나의 속성명을 조회 하면 SeriesType, 여러 속성명을 조회 하면 DataFrame으로 출력된다."
   ]
  },
  {
   "cell_type": "code",
   "execution_count": null,
   "metadata": {},
   "outputs": [],
   "source": [
    "# 키 Column 만 조회\n",
    "Data2[\"키\"]"
   ]
  },
  {
   "cell_type": "code",
   "execution_count": null,
   "metadata": {},
   "outputs": [],
   "source": [
    "Data2.몸무게"
   ]
  },
  {
   "cell_type": "code",
   "execution_count": null,
   "metadata": {},
   "outputs": [],
   "source": [
    "# Type 은 Series\n",
    "type(Data2.몸무게)"
   ]
  },
  {
   "cell_type": "code",
   "execution_count": null,
   "metadata": {},
   "outputs": [],
   "source": [
    "# 두 개 이상 컬럼 조회\n",
    "Data2[[\"키\", \"몸무게\"]]"
   ]
  },
  {
   "cell_type": "markdown",
   "metadata": {},
   "source": [
    "### 컬럼 슬라이싱"
   ]
  },
  {
   "cell_type": "markdown",
   "metadata": {},
   "source": [
    "범위와 슬라이싱은 row 방향의 레코드를 반환한다.\n",
    "\n",
    "- Dataframe[start:stop] 를 통해 row 인덱스 조회\n",
    "- Dataframe[start:stop:step] 를 통해 row 인덱스 조회"
   ]
  },
  {
   "cell_type": "code",
   "execution_count": null,
   "metadata": {},
   "outputs": [],
   "source": [
    "Data2[1:2]"
   ]
  },
  {
   "cell_type": "markdown",
   "metadata": {},
   "source": [
    "Step  이용"
   ]
  },
  {
   "cell_type": "code",
   "execution_count": null,
   "metadata": {},
   "outputs": [],
   "source": [
    "Data2[1::2]"
   ]
  },
  {
   "cell_type": "code",
   "execution_count": null,
   "metadata": {},
   "outputs": [],
   "source": [
    "Data2[::2]"
   ]
  },
  {
   "cell_type": "code",
   "execution_count": null,
   "metadata": {},
   "outputs": [],
   "source": [
    "Data2[2::2]"
   ]
  },
  {
   "cell_type": "markdown",
   "metadata": {},
   "source": [
    "### Index 조회"
   ]
  },
  {
   "cell_type": "markdown",
   "metadata": {
    "tags": []
   },
   "source": [
    "<ul>\n",
    "    <li><strong><span style = \"color:red\">DataFrame명.loc[\"index명\"]</span></strong> 을 통해 특정 index만 조회 가능하다.</li>\n",
    "    <li><strong><span style = \"color:red\">DataFrame명.iloc[index번호]</span></strong> 를 통해 특정 index만 조회 가능하다.</li>\n",
    "</ul>\n",
    "\n",
    "<img src='https://shanelynnwebsite-mid9n9g1q9y8tt.netdna-ssl.com/wp-content/uploads/2016/10/Pandas-selections-and-indexing.png' width=600>"
   ]
  },
  {
   "cell_type": "code",
   "execution_count": null,
   "metadata": {},
   "outputs": [],
   "source": [
    "# 컬럼 조회\n",
    "Data2['키']"
   ]
  },
  {
   "cell_type": "code",
   "execution_count": null,
   "metadata": {
    "tags": []
   },
   "outputs": [],
   "source": [
    "Data2[1]"
   ]
  },
  {
   "cell_type": "code",
   "execution_count": null,
   "metadata": {},
   "outputs": [],
   "source": [
    "Data2[1:2]  # index range"
   ]
  },
  {
   "cell_type": "code",
   "execution_count": null,
   "metadata": {},
   "outputs": [],
   "source": [
    "Data2"
   ]
  },
  {
   "cell_type": "markdown",
   "metadata": {},
   "source": []
  },
  {
   "cell_type": "markdown",
   "metadata": {},
   "source": [
    "마찬가지로 하나의 index만 조회 할 경우 Series Type, 여러 index의 경우 DataFrame Type으로 출력한다.  "
   ]
  },
  {
   "cell_type": "code",
   "execution_count": null,
   "metadata": {},
   "outputs": [],
   "source": [
    "Data2.loc[\"사람1\"]"
   ]
  },
  {
   "cell_type": "code",
   "execution_count": null,
   "metadata": {},
   "outputs": [],
   "source": [
    "# 1번 인덱스 --> 사람2의 정보만 출력\n",
    "Data2.iloc[0]"
   ]
  },
  {
   "cell_type": "code",
   "execution_count": null,
   "metadata": {},
   "outputs": [],
   "source": [
    "# 두 개 index를 index명으로 조회\n",
    "Data2.loc[[\"사람1\",\"사람2\"]]"
   ]
  },
  {
   "cell_type": "code",
   "execution_count": null,
   "metadata": {
    "scrolled": true
   },
   "outputs": [],
   "source": [
    "# 여러 개의 index를 index번호로 조회\n",
    "Data2.iloc[1:3]"
   ]
  },
  {
   "cell_type": "code",
   "execution_count": null,
   "metadata": {},
   "outputs": [],
   "source": [
    "Data2.iloc[:-2]"
   ]
  },
  {
   "cell_type": "markdown",
   "metadata": {},
   "source": [
    "### Index Label과 column 동시 조회"
   ]
  },
  {
   "cell_type": "markdown",
   "metadata": {},
   "source": [
    "하나의 index 명과 컬럼명에 해당하는 하나의 값 찾기\n",
    "<ul>\n",
    "<li> DataFrame명.at[\"index명\",\"컬럼명\"]</li>\n",
    "<li> <strong><span style = \"color:red\">DataFrame명.loc[\"index명\",\"컬럼명\"]</li>\n",
    "<li> <strong><span style = \"color:red\">DataFrame명.loc[\"index명\"][\"컬럼명\"]</li>\n",
    "</ul>\n",
    "여러 index명과 컬럼명에 해당하는 여러 값 찾기\n",
    "<ul>\n",
    "<li> <strong><span style = \"color:red\">DataFrame명.loc[[\"index명1\",\"index명2\"],[\"컬럼명1\",\"컬럼명2\"]]</li>\n",
    "<li> <strong><span style = \"color:red\">DataFrame명.loc[[\"index명1\",\"index명2\"]][[\"컬럼명1\",\"컬럼명2\"]]</li>\n",
    "</ul>"
   ]
  },
  {
   "cell_type": "code",
   "execution_count": null,
   "metadata": {},
   "outputs": [],
   "source": [
    "#사람1의 나이 찾기\n",
    "Data2.loc[\"사람1\",\"나이\"] #인덱스,컬럼"
   ]
  },
  {
   "cell_type": "code",
   "execution_count": null,
   "metadata": {},
   "outputs": [],
   "source": [
    "# ?\n",
    "Data2[\"사람1\",\"나이\"]"
   ]
  },
  {
   "cell_type": "code",
   "execution_count": null,
   "metadata": {},
   "outputs": [],
   "source": [
    "Data2.loc[\"사람1\"][\"나이\"]"
   ]
  },
  {
   "cell_type": "code",
   "execution_count": null,
   "metadata": {},
   "outputs": [],
   "source": [
    "#사람2의 몸무게 찾기\n",
    "Data2.loc[\"사람2\"][\"몸무게\"]"
   ]
  },
  {
   "cell_type": "code",
   "execution_count": null,
   "metadata": {},
   "outputs": [],
   "source": [
    "#사람3의 키 찾기\n",
    "Data2.at[\"사람3\",\"키\"]"
   ]
  },
  {
   "cell_type": "code",
   "execution_count": null,
   "metadata": {},
   "outputs": [],
   "source": [
    "# 사람1, 사람2 의 키 조회\n",
    "Data2.loc[[\"사람1\",\"사람2\"]][\"키\"]"
   ]
  },
  {
   "cell_type": "code",
   "execution_count": null,
   "metadata": {},
   "outputs": [],
   "source": [
    "# 사람1,사람2 의 키와 몸무게 조회\n",
    "Data2.loc[[\"사람1\",\"사람2\"],[\"키\",\"몸무게\"]]"
   ]
  },
  {
   "cell_type": "markdown",
   "metadata": {},
   "source": [
    "### Index 과 column 동시 조회\n",
    "\n",
    "하나의 index 번호와 컬럼번호에 해당하는 하나의 값 찾기\n",
    "<ul>\n",
    "<li> DataFrame명.iat[index번호,컬럼번호]</li>\n",
    "<li> DataFrame명.iloc[index번호,컬럼번호]</li>\n",
    "<li> DataFrame명.iloc[index번호][컬럼번호]</li>\n",
    "</ul>\n",
    "여러 index 번호와 컬럼번호에 해당하는 여러 값 찾기\n",
    "<ul>\n",
    "<li> DataFrame명.iloc[index번호1:index번호2,컬럼번호1:컬럼명번호2]</li>\n",
    "</ul>"
   ]
  },
  {
   "cell_type": "code",
   "execution_count": null,
   "metadata": {},
   "outputs": [],
   "source": [
    "# 사람1의 나이 찾기\n",
    "Data2.iloc[0,2]"
   ]
  },
  {
   "cell_type": "code",
   "execution_count": null,
   "metadata": {},
   "outputs": [],
   "source": [
    "#사람2의 몸무게 찾기\n",
    "Data2.iloc[1][1]"
   ]
  },
  {
   "cell_type": "code",
   "execution_count": null,
   "metadata": {},
   "outputs": [],
   "source": [
    "#사람2의 몸무게 찾기\n",
    "Data2.iloc[1]['몸무게']"
   ]
  },
  {
   "cell_type": "code",
   "execution_count": null,
   "metadata": {},
   "outputs": [],
   "source": [
    "Data2.iloc[0,['몸무게']]  # 결과는?"
   ]
  },
  {
   "cell_type": "code",
   "execution_count": null,
   "metadata": {},
   "outputs": [],
   "source": [
    "#사람3의 키 찾기\n",
    "Data2.iat[2,0]"
   ]
  },
  {
   "cell_type": "code",
   "execution_count": null,
   "metadata": {},
   "outputs": [],
   "source": [
    "# 사람1, 사람2 의 키 조회\n",
    "Data2.iloc[0:2,0]"
   ]
  },
  {
   "cell_type": "code",
   "execution_count": null,
   "metadata": {},
   "outputs": [],
   "source": [
    "# 사람1,사람2 의 키와 몸무게 조회\n",
    "Data2.iloc[0:2,0:2]"
   ]
  },
  {
   "cell_type": "markdown",
   "metadata": {},
   "source": [
    "### 조건 조회"
   ]
  },
  {
   "cell_type": "code",
   "execution_count": null,
   "metadata": {},
   "outputs": [],
   "source": [
    "Data2[\"키\"] >= 170"
   ]
  },
  {
   "cell_type": "code",
   "execution_count": null,
   "metadata": {},
   "outputs": [],
   "source": [
    "# 키가 170 이상인 사람만 조회\n",
    "Data2[ Data2[\"키\"] >= 170 ]"
   ]
  },
  {
   "cell_type": "markdown",
   "metadata": {},
   "source": [
    "### 상위/하위 데이터 조회"
   ]
  },
  {
   "cell_type": "markdown",
   "metadata": {},
   "source": [
    "<ul>\n",
    "<li>head(개수) : 위에서부터 개수만큼의 데이터만 출력</li>\n",
    "<li>tail(개수) : 밑에서부터 개수만큼의 데이터만 출력</li>\n",
    "</ul>\n",
    "개수를 쓰지 않을 경우 5개만 출력"
   ]
  },
  {
   "cell_type": "code",
   "execution_count": null,
   "metadata": {},
   "outputs": [],
   "source": [
    "Data2.head(3)"
   ]
  },
  {
   "cell_type": "code",
   "execution_count": null,
   "metadata": {},
   "outputs": [],
   "source": [
    "Data2.tail(2)"
   ]
  },
  {
   "cell_type": "code",
   "execution_count": null,
   "metadata": {},
   "outputs": [],
   "source": []
  },
  {
   "cell_type": "code",
   "execution_count": null,
   "metadata": {},
   "outputs": [],
   "source": []
  },
  {
   "cell_type": "markdown",
   "metadata": {},
   "source": [
    "## 2.3 Enumeration"
   ]
  },
  {
   "cell_type": "markdown",
   "metadata": {},
   "source": [
    " 데이터 프레임을 만들고 이를 순환문으로 처리하면 실제 칼럼정보만 처리된다.\n"
   ]
  },
  {
   "cell_type": "code",
   "execution_count": null,
   "metadata": {},
   "outputs": [],
   "source": [
    "for i in Data2 :\n",
    "    print(i)"
   ]
  },
  {
   "cell_type": "code",
   "execution_count": null,
   "metadata": {},
   "outputs": [],
   "source": [
    "Data2['키'], type(Data2['키'])"
   ]
  },
  {
   "cell_type": "markdown",
   "metadata": {},
   "source": [
    "데이터 프레임 행으로 읽어오기\n"
   ]
  },
  {
   "cell_type": "code",
   "execution_count": null,
   "metadata": {},
   "outputs": [],
   "source": [
    "for i in Data2.iterrows() :\n",
    "    print(i)"
   ]
  },
  {
   "cell_type": "code",
   "execution_count": null,
   "metadata": {},
   "outputs": [],
   "source": [
    "for i,s in Data2.iterrows() :\n",
    "    print(i,s,type(s))"
   ]
  },
  {
   "cell_type": "markdown",
   "metadata": {},
   "source": [
    "데이터 프레임에 있는 원소를 열로 가져오기 "
   ]
  },
  {
   "cell_type": "code",
   "execution_count": null,
   "metadata": {},
   "outputs": [],
   "source": [
    "print(df.iteritems())"
   ]
  },
  {
   "cell_type": "code",
   "execution_count": null,
   "metadata": {},
   "outputs": [],
   "source": [
    "for i, s in df.iteritems() :\n",
    "    print(i,s, type(s))"
   ]
  },
  {
   "cell_type": "code",
   "execution_count": null,
   "metadata": {},
   "outputs": [],
   "source": [
    "print(df.items())"
   ]
  },
  {
   "cell_type": "code",
   "execution_count": null,
   "metadata": {},
   "outputs": [],
   "source": [
    "for i,s in df.items() :\n",
    "    print(i,s, type(s))"
   ]
  },
  {
   "cell_type": "code",
   "execution_count": null,
   "metadata": {},
   "outputs": [],
   "source": []
  },
  {
   "cell_type": "code",
   "execution_count": null,
   "metadata": {},
   "outputs": [],
   "source": []
  },
  {
   "cell_type": "code",
   "execution_count": null,
   "metadata": {},
   "outputs": [],
   "source": []
  },
  {
   "cell_type": "markdown",
   "metadata": {},
   "source": [
    "## 2.4 데이터 추가, 삭제"
   ]
  },
  {
   "cell_type": "markdown",
   "metadata": {},
   "source": [
    "### Column 추가"
   ]
  },
  {
   "cell_type": "markdown",
   "metadata": {},
   "source": [
    "#### 값으로 추가"
   ]
  },
  {
   "cell_type": "code",
   "execution_count": null,
   "metadata": {},
   "outputs": [],
   "source": [
    "Data2"
   ]
  },
  {
   "cell_type": "code",
   "execution_count": null,
   "metadata": {},
   "outputs": [],
   "source": [
    "Data2[\"나이\"] = [31,41,31,31]\n",
    "Data2"
   ]
  },
  {
   "cell_type": "markdown",
   "metadata": {},
   "source": [
    "#### Series 또는 DataFrame에서 추가"
   ]
  },
  {
   "cell_type": "code",
   "execution_count": null,
   "metadata": {},
   "outputs": [],
   "source": [
    " Data1[\"Weight\"] / ((Data1[\"Height\"] / 100) * (Data1[\"Height\"] / 100))"
   ]
  },
  {
   "cell_type": "code",
   "execution_count": null,
   "metadata": {},
   "outputs": [],
   "source": [
    "# bmi = 몸무게(kg) / 키(m)*키(m)\n",
    "Data1[\"BMI\"] = Data1[\"Weight\"] / ((Data1[\"Height\"] / 100) * (Data1[\"Height\"] / 100))\n",
    "Data1"
   ]
  },
  {
   "cell_type": "code",
   "execution_count": null,
   "metadata": {},
   "outputs": [],
   "source": [
    "Data1['Test'] = [1,2,3,4]\n",
    "Data1"
   ]
  },
  {
   "cell_type": "markdown",
   "metadata": {},
   "source": [
    "###  행 추가"
   ]
  },
  {
   "cell_type": "markdown",
   "metadata": {},
   "source": [
    "append 함수를 이용해서 행기준으로 데이터를 추가 할 수 있습니다."
   ]
  },
  {
   "cell_type": "markdown",
   "metadata": {},
   "source": [
    "#### Series와 List를 이용한 행추가"
   ]
  },
  {
   "cell_type": "code",
   "execution_count": null,
   "metadata": {},
   "outputs": [],
   "source": [
    "listOfSeries = [pd.Series([187, 85, 34, 0], index = Data1.columns),\n",
    "               pd.Series([183, 80, 32, 0], index = Data1.columns)]"
   ]
  },
  {
   "cell_type": "code",
   "execution_count": null,
   "metadata": {},
   "outputs": [],
   "source": [
    "listOfSeries"
   ]
  },
  {
   "cell_type": "code",
   "execution_count": null,
   "metadata": {},
   "outputs": [],
   "source": [
    "Data1 = Data1.append(listOfSeries)\n",
    "Data1"
   ]
  },
  {
   "cell_type": "markdown",
   "metadata": {},
   "source": [
    "#### DataFrame을 행기준으로 추가"
   ]
  },
  {
   "cell_type": "code",
   "execution_count": null,
   "metadata": {},
   "outputs": [],
   "source": [
    "df = DataFrame([[180,75,30,33],[160,65,40,22]], \n",
    "               index = [\"사람5\",\"사람6\"], \n",
    "               columns = [\"Height\",\"Weight\",\"나이\",\"BMI\"])\n",
    "df"
   ]
  },
  {
   "cell_type": "code",
   "execution_count": null,
   "metadata": {},
   "outputs": [],
   "source": [
    "Data1.append(df)"
   ]
  },
  {
   "cell_type": "markdown",
   "metadata": {},
   "source": [
    "### 데이터 삭제"
   ]
  },
  {
   "cell_type": "markdown",
   "metadata": {},
   "source": [
    "drop 함수를 쓰면 행과 열을 삭제 할 수 있습니다.\n",
    "\n",
    "axis option\n",
    "<ul>\n",
    "<li>0 : 행 기준 삭제</li>\n",
    "<li>1 : 열 기준 삭제</li>\n",
    "</ul>"
   ]
  },
  {
   "cell_type": "markdown",
   "metadata": {},
   "source": [
    "####  열 삭제"
   ]
  },
  {
   "cell_type": "code",
   "execution_count": null,
   "metadata": {},
   "outputs": [],
   "source": [
    "Data1"
   ]
  },
  {
   "cell_type": "code",
   "execution_count": null,
   "metadata": {},
   "outputs": [],
   "source": [
    "Data1 = Data1.drop(\"BMI\", axis = 1)\n",
    "Data1"
   ]
  },
  {
   "cell_type": "markdown",
   "metadata": {},
   "source": [
    "#### del"
   ]
  },
  {
   "cell_type": "code",
   "execution_count": null,
   "metadata": {},
   "outputs": [],
   "source": [
    "del Data1['Test']"
   ]
  },
  {
   "cell_type": "markdown",
   "metadata": {},
   "source": [
    "#### 행 삭제"
   ]
  },
  {
   "cell_type": "code",
   "execution_count": null,
   "metadata": {},
   "outputs": [],
   "source": [
    "Data1"
   ]
  },
  {
   "cell_type": "code",
   "execution_count": null,
   "metadata": {},
   "outputs": [],
   "source": [
    "Data1 = Data1.drop(\"Man1\", axis = 0)\n",
    "Data1"
   ]
  },
  {
   "cell_type": "markdown",
   "metadata": {},
   "source": [
    "# 2.5 Options \n"
   ]
  },
  {
   "cell_type": "markdown",
   "metadata": {},
   "source": [
    "## max_columns\n",
    "\n",
    "컬럼 수가 많은 경우에는 처음과 끝의 컬럼을 제외하고 나머지 컬럼들은 축약이 되서 `[...]` 으로 표시된다. 일단 실험해보기 위해서 랜덤한 실수로 구성된 1000개의 값들을 10행 100컬럼으로 이루어진 데이터프레임을 생성해보자."
   ]
  },
  {
   "cell_type": "code",
   "execution_count": null,
   "metadata": {},
   "outputs": [],
   "source": [
    "df = pd.DataFrame(np.random.random(1000).reshape(10,100))\n",
    "df.head()"
   ]
  },
  {
   "cell_type": "markdown",
   "metadata": {},
   "source": [
    "### display.max_columns 사용\n",
    "\n",
    "전체적인 변수들을 한번에 보고싶은 경우에 options 안의  `display.max_columns` 옵션 사용해서 모두 표시할 수 있다."
   ]
  },
  {
   "cell_type": "code",
   "execution_count": null,
   "metadata": {},
   "outputs": [],
   "source": [
    "PREV_COL_NUMS = pd.options.display.max_columns\n",
    "PREV_COL_NUMS"
   ]
  },
  {
   "cell_type": "code",
   "execution_count": null,
   "metadata": {},
   "outputs": [],
   "source": [
    "pd.options.display.max_columns = 100\n",
    "pd.options.display.max_columns"
   ]
  },
  {
   "cell_type": "code",
   "execution_count": null,
   "metadata": {},
   "outputs": [],
   "source": [
    "df.head()"
   ]
  },
  {
   "cell_type": "code",
   "execution_count": null,
   "metadata": {},
   "outputs": [],
   "source": [
    "pd.options.display.max_columns = PREV_COL_NUMS"
   ]
  },
  {
   "cell_type": "code",
   "execution_count": null,
   "metadata": {},
   "outputs": [],
   "source": [
    "pd.get_option('display.max_columns')"
   ]
  },
  {
   "cell_type": "markdown",
   "metadata": {},
   "source": [
    "### set_option() 사용\n",
    "\n",
    "`pd.set_option(OPTION_VAR)` 안에 최대 컬럼 수 `display.max_columns` 를 지정해주면 된다."
   ]
  }
 ],
 "metadata": {
  "kernelspec": {
   "display_name": "Python 3 (ipykernel)",
   "language": "python",
   "name": "python3"
  },
  "language_info": {
   "codemirror_mode": {
    "name": "ipython",
    "version": 3
   },
   "file_extension": ".py",
   "mimetype": "text/x-python",
   "name": "python",
   "nbconvert_exporter": "python",
   "pygments_lexer": "ipython3",
   "version": "3.10.3"
  },
  "widgets": {
   "application/vnd.jupyter.widget-state+json": {
    "state": {},
    "version_major": 2,
    "version_minor": 0
   }
  }
 },
 "nbformat": 4,
 "nbformat_minor": 4
}
