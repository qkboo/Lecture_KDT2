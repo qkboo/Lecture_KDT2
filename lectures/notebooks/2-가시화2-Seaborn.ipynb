{
 "cells": [
  {
   "cell_type": "code",
   "execution_count": null,
   "metadata": {},
   "outputs": [],
   "source": []
  },
  {
   "cell_type": "markdown",
   "metadata": {},
   "source": [
    "# Seaborn\n",
    "\n",
    "<img src='https://raw.githubusercontent.com/mwaskom/seaborn/master/doc/_static/logo-wide-lightbg.svg'>\n"
   ]
  },
  {
   "cell_type": "markdown",
   "metadata": {
    "tags": []
   },
   "source": [
    "### 설치\n",
    "\n",
    "pip 환경\n",
    "\n",
    "```sh\n",
    "(env)$ pip install seaborn\n",
    "```\n",
    "\n",
    "conda\n",
    "\n",
    "```sh\n",
    "(base)$ conda install -y seaborn\n",
    "```"
   ]
  },
  {
   "cell_type": "markdown",
   "metadata": {},
   "source": [
    "# 주요 설치 정보\n",
    "\n",
    "    Mac이나 Windows에서 확인 "
   ]
  },
  {
   "cell_type": "code",
   "execution_count": null,
   "metadata": {},
   "outputs": [],
   "source": [
    "import matplotlib\n",
    "print ('버전: ', matplotlib.__version__)\n",
    "print ('설치위치: ', matplotlib.__file__)\n",
    "print ('설정: ', matplotlib.get_configdir())\n",
    "print ('캐시: ', matplotlib.get_cachedir())"
   ]
  },
  {
   "cell_type": "code",
   "execution_count": null,
   "metadata": {},
   "outputs": [],
   "source": [
    "import seaborn\n",
    "\n",
    "print ('버전: ', seaborn.__version__)\n",
    "print ('설치위치: ',seaborn.__file__)"
   ]
  },
  {
   "cell_type": "markdown",
   "metadata": {},
   "source": [
    "### 그리드와 그래프 사이즈 지정"
   ]
  },
  {
   "cell_type": "code",
   "execution_count": null,
   "metadata": {
    "tags": []
   },
   "outputs": [],
   "source": [
    "import matplotlib.pyplot as plt\n",
    "import matplotlib.font_manager as fm\n",
    "import seaborn as sns\n",
    "%matplotlib inline"
   ]
  },
  {
   "cell_type": "markdown",
   "metadata": {},
   "source": [
    "### 한글 폰트 전체 반영 "
   ]
  },
  {
   "cell_type": "code",
   "execution_count": null,
   "metadata": {},
   "outputs": [],
   "source": [
    "# 전역 폰트 설정 사용\n",
    "# font_path = 'C:/Windows/Fonts/NanumGothic.ttf'\n",
    "# font_path = '/Users/qkboo/Library/Fonts/NanumGothic.otf'\n",
    "font_path = \"/usr/share/fonts/truetype/nanum/NanumGothic.ttf\"\n",
    "\n",
    "fontname = fm.FontProperties(fname=font_path, size=18).get_name()  # 폰트 패밀리 이름!\n",
    "# plt.rc('font', family=fontname)\n",
    "plt.rcParams[\"font.family\"] = fontname\n",
    "plt.rcParams[\"font.size\"] = 12\n",
    "\n",
    "# matplotlib 설정\n",
    "plt.rcParams[\"axes.grid\"] = True\n",
    "plt.rcParams[\"figure.figsize\"] = (10,3)\n",
    "plt.rcParams[\"axes.formatter.useoffset\"] = False\n",
    "plt.rcParams['axes.unicode_minus'] = False\n",
    "plt.rcParams[\"axes.formatter.limits\"] = -10000, 10000\n",
    "\n",
    "plt.title('한글 타이틀...')"
   ]
  },
  {
   "cell_type": "markdown",
   "metadata": {},
   "source": [
    "### seaborn 데이터를 로드하기\n",
    "\n",
    "데이터를 로딩하면 pandas의 데이터프레임으로 처리함 "
   ]
  },
  {
   "cell_type": "code",
   "execution_count": null,
   "metadata": {},
   "outputs": [],
   "source": [
    "import seaborn as sns"
   ]
  },
  {
   "cell_type": "code",
   "execution_count": null,
   "metadata": {},
   "outputs": [],
   "source": [
    "tips = sns.load_dataset(\"tips\")"
   ]
  },
  {
   "cell_type": "code",
   "execution_count": null,
   "metadata": {},
   "outputs": [],
   "source": [
    "tips.head()"
   ]
  },
  {
   "cell_type": "markdown",
   "metadata": {},
   "source": [
    "## 1. 히스토그램 그리기\n",
    "\n",
    "displot 메서드를 사용하면 히스토그램과 밀집도 그래프를 같이 그립니다."
   ]
  },
  {
   "cell_type": "markdown",
   "metadata": {},
   "source": [
    "### 히스토그램/밀집도"
   ]
  },
  {
   "cell_type": "code",
   "execution_count": null,
   "metadata": {},
   "outputs": [],
   "source": [
    "sns.displot(data=tips, x='total_bill', kde=True)\n",
    "\n",
    "plt.title(\" total bill 히스토그램\")\n",
    "plt.show()"
   ]
  },
  {
   "cell_type": "markdown",
   "metadata": {},
   "source": [
    "\n",
    "#### ~distplot()~ : deprecated\n",
    "\n",
    "Seaborn의 distplot 명령은 러그와 커널 밀도 표시 기능이 있어서 Matplotlib의 hist 명령보다 많이 사용된다.\n",
    "- distplot: http://seaborn.pydata.org/generated/seaborn.distplot.html\n",
    "\n",
    "> seaborn 0.11.1 이후 `distplot()` 은 deprecated 상태이다.\n",
    "\n",
    "```python\n",
    "x = iris.petal_length.values\n",
    "sns.set_style(\"whitegrid\")\n",
    "sns.distplot(x, kde=True, rug=True)\n",
    "plt.title(\"Iris의 꽃잎 길이 Dist plot\")\n",
    "```"
   ]
  },
  {
   "cell_type": "markdown",
   "metadata": {},
   "source": [
    " 밀집도 그래프를 제외하고 싶다면 kde 인잣값을 False로 설정하면 됩니다."
   ]
  },
  {
   "cell_type": "code",
   "execution_count": null,
   "metadata": {},
   "outputs": [],
   "source": [
    "sns.displot(data=tips, x='total_bill', kde=False)\n",
    "plt.title(\" total bill histogram plot\")\n",
    "plt.ylabel(\" 빈도수 \")\n",
    "plt.show()"
   ]
  },
  {
   "cell_type": "code",
   "execution_count": null,
   "metadata": {},
   "outputs": [],
   "source": [
    "# ax1 = sns.distplot(tips['total_bill'],kde=False)\n",
    "# ax1.set_title(\" total bill histogram plot\")\n",
    "# ax1.set_ylabel(\" Tip \")"
   ]
  },
  {
   "cell_type": "markdown",
   "metadata": {},
   "source": [
    "### 이산 값을 처리하는 그래프\n",
    "\n",
    "count 그래프는 이산값을 나타낸 그래프입니다. 다음은 countplot 메서드에 tips 데이터프레임의 day열 데이터를 넣어 count 그래프를 그린 것입니다."
   ]
  },
  {
   "cell_type": "code",
   "execution_count": null,
   "metadata": {},
   "outputs": [],
   "source": [
    "tips.day.value_counts()"
   ]
  },
  {
   "cell_type": "markdown",
   "metadata": {},
   "source": [
    "x 축 값이 자동으로 세팅됨"
   ]
  },
  {
   "cell_type": "code",
   "execution_count": null,
   "metadata": {},
   "outputs": [],
   "source": [
    "ax = plt.subplots()\n",
    "ax = sns.countplot(x='day', data=tips)\n",
    "ax.set_title('Count of days')\n",
    "ax.set_xlabel('Day of the Week')\n",
    "ax.set_ylabel('Frequency')"
   ]
  },
  {
   "cell_type": "markdown",
   "metadata": {},
   "source": [
    "## 2. 밀집Density 그래프\n",
    " - Figure Level: displot\n",
    " - Axes level: kdeplot,"
   ]
  },
  {
   "cell_type": "markdown",
   "metadata": {},
   "source": [
    "### 밀집도 그래프\n",
    "\n",
    "distplot 의 kind를 kde로 주면 밀집도 그래프만 그려준다."
   ]
  },
  {
   "cell_type": "code",
   "execution_count": null,
   "metadata": {},
   "outputs": [],
   "source": [
    "sns.displot(data=tips, x='total_bill', kind='kde')\n",
    "plt.title(\" total bill histogram plot\")\n",
    "plt.ylabel(\" 확률 \")\n",
    "plt.show()\n",
    "\n",
    "# ax1 = sns.distplot(tips['total_bill'],hist=False)\n",
    "# ax1.set_title(\" total bill histogram plot\")\n",
    "# ax1.set_ylabel(\" 확률 \")\n",
    "# plt.show()"
   ]
  },
  {
   "cell_type": "markdown",
   "metadata": {},
   "source": [
    "### 히스토그램/밀집도/러그\n",
    "\n",
    "\n",
    "히스토그램과 밀집도를 그리는 displot 메서드에 rug 인자를 추가하여 양탄자(rug) 그래프까지 그린 것입니다."
   ]
  },
  {
   "cell_type": "code",
   "execution_count": null,
   "metadata": {},
   "outputs": [],
   "source": [
    "sns.displot(data=tips, x='total_bill', kde=True, rug=True)\n",
    "plt.title(\" total bill: histogram/kde/rug plot\")\n",
    "plt.ylabel(\" 빈도수 \")\n",
    "plt.show()\n",
    "\n",
    "# ax1 = sns.distplot(tips['total_bill'],rug=True)\n",
    "# ax1.set_title(\" total bill histogram plot\")\n",
    "\n",
    "plt.show()"
   ]
  },
  {
   "cell_type": "markdown",
   "metadata": {},
   "source": [
    "### Axes level 로 그리기"
   ]
  },
  {
   "cell_type": "code",
   "execution_count": null,
   "metadata": {},
   "outputs": [],
   "source": [
    "plt.figure(figsize=(5,5))\n",
    "ax = sns.kdeplot(x=tips['total_bill'])\n",
    "plt.title(\" total bill: histogram/kde/rug plot\")\n",
    "plt.ylabel(\" 확률 \")\n",
    "plt.show()\n",
    "\n",
    "# ax1 = sns.distplot(tips['total_bill'],rug=True)\n",
    "# ax1.set_title(\" total bill histogram plot\")\n",
    "\n",
    "plt.show()"
   ]
  },
  {
   "cell_type": "code",
   "execution_count": null,
   "metadata": {},
   "outputs": [],
   "source": []
  },
  {
   "cell_type": "code",
   "execution_count": null,
   "metadata": {},
   "outputs": [],
   "source": []
  },
  {
   "cell_type": "markdown",
   "metadata": {},
   "source": [
    "### 밀집 공간\n",
    "\n",
    "displot 의 kde 곡선을 밀집면으로 그려줄 수 있다. kdeplot 의 shade 인자를 사용한다."
   ]
  },
  {
   "cell_type": "code",
   "execution_count": null,
   "metadata": {},
   "outputs": [],
   "source": [
    "plt.figure(figsize=(5,5))\n",
    "sns.kdeplot(x=tips['total_bill'], y=tips['tip'],shade=True)\n",
    "plt.title(\" total bill Density plot\")\n",
    "plt.ylabel(\" 확률 \")\n",
    "plt.show()\n",
    "\n",
    "plt.show()"
   ]
  },
  {
   "cell_type": "markdown",
   "metadata": {},
   "source": [
    "## 3.  바그래프(평균 표시)\n",
    "\n",
    "바 그래프는 지정한 변수의 평균을 계산하여 그릴 수 있습니다. 다음은 시간에 따라 지불한 비용의 평균을 바 그래프로 나타낸 것입니다."
   ]
  },
  {
   "cell_type": "markdown",
   "metadata": {},
   "source": [
    "### barplot"
   ]
  },
  {
   "cell_type": "code",
   "execution_count": null,
   "metadata": {},
   "outputs": [],
   "source": [
    "plt.figure(figsize=(5,5))\n",
    "ax5 = sns.barplot(x='time', y='total_bill', data=tips)\n",
    "ax5.set_title(\" 평균을 계산해서 그래프에 표시\")"
   ]
  },
  {
   "cell_type": "markdown",
   "metadata": {},
   "source": [
    "### Figure level : catplot"
   ]
  },
  {
   "cell_type": "code",
   "execution_count": null,
   "metadata": {},
   "outputs": [],
   "source": [
    "sns.catplot(x='time', y='total_bill', data=tips, kind='bar')\n",
    "plt.title(\" 평균을 계산해서 그래프에 표시\")"
   ]
  },
  {
   "cell_type": "markdown",
   "metadata": {},
   "source": [
    "### catplot 이용 그루핑\n",
    "\n",
    "범주에 따라 bar 그래프를 그릴 수 있다.\n"
   ]
  },
  {
   "cell_type": "code",
   "execution_count": null,
   "metadata": {},
   "outputs": [],
   "source": [
    "titanic = sns.load_dataset(\"titanic\")\n",
    "\n",
    "titanic.head()"
   ]
  },
  {
   "cell_type": "code",
   "execution_count": null,
   "metadata": {},
   "outputs": [],
   "source": [
    "# Draw a nested barplot to show survival for class and sex\n",
    "g = sns.catplot(x=\"class\", y=\"survived\", hue=\"sex\", data=titanic,\n",
    "                height=6, kind=\"bar\", palette=\"muted\")\n",
    "g.set_ylabels(\"survival probability\")"
   ]
  },
  {
   "cell_type": "code",
   "execution_count": null,
   "metadata": {},
   "outputs": [],
   "source": []
  },
  {
   "cell_type": "code",
   "execution_count": null,
   "metadata": {},
   "outputs": [],
   "source": []
  },
  {
   "cell_type": "markdown",
   "metadata": {},
   "source": [
    "## 4.  박스 그래프\n",
    "\n",
    "박스 그래프는 최솟값, 1분위수, 중간값, 3분위수, 최댓값, 이상치 등 다양한 통계량을 한 번에 표현하는 그래프 입니다."
   ]
  },
  {
   "cell_type": "markdown",
   "metadata": {},
   "source": [
    "###  박스그래프 하나만 그리기 "
   ]
  },
  {
   "cell_type": "code",
   "execution_count": null,
   "metadata": {},
   "outputs": [],
   "source": [
    "plt.figure(figsize=(5,5))\n",
    "\n",
    "df = sns.load_dataset('iris')\n",
    " \n",
    "# Make boxplot for one group only\n",
    "sns.boxplot( y=df[\"sepal_length\"] )\n",
    "#sns.plt.show()\n"
   ]
  },
  {
   "cell_type": "markdown",
   "metadata": {},
   "source": [
    "### 두 개의 박스 그래프"
   ]
  },
  {
   "cell_type": "code",
   "execution_count": null,
   "metadata": {},
   "outputs": [],
   "source": [
    "ax4 = sns.boxplot(x='time', y='total_bill', data=tips)\n",
    "ax4.set_title(\" 점심과 저녁 금액 차이 \")"
   ]
  },
  {
   "cell_type": "code",
   "execution_count": null,
   "metadata": {},
   "outputs": [],
   "source": [
    "ax5 = sns.boxplot( x=df[\"species\"], y=df[\"sepal_length\"] )\n",
    "ax5.set_title(\" 세개의 박스그래프 그리기 \")"
   ]
  },
  {
   "cell_type": "markdown",
   "metadata": {},
   "source": [
    "## 4. 바이올린 그래프\n",
    "\n",
    "박스 그래프는 다양한 통계 수치를 확인하기 위해 자주 사용하는 그래프지만 데이터 분산이 모호하게 표현됩니다. 이런 경우에는 박스 그래프에 커널 밀도를 추정한 바이올린 그래프를 사용하면 됩니다. 쉽게 말해 과정 6의 박스 형태를 바이올린 형태로 바꾸면 바이올린 그래프가 됩니다. 바이올린 그래프는 violinplot 메서드를 사용하여 그릴 수 있습니다.\n",
    "\n",
    "커널밀도를 표시한 막대그래프로 "
   ]
  },
  {
   "cell_type": "code",
   "execution_count": null,
   "metadata": {},
   "outputs": [],
   "source": [
    "plt.figure(figsize=(5,5))\n",
    "ax6 = sns.violinplot(x='time', y='total_bill', data=tips)\n",
    "ax6.set_title(\" 바이올린 그래프에 표시\")"
   ]
  },
  {
   "cell_type": "code",
   "execution_count": null,
   "metadata": {},
   "outputs": [],
   "source": [
    "plt.figure(figsize=(5,5))\n",
    "ax6 = sns.violinplot(x='time', y='total_bill', data=tips, hue='sex')\n",
    "ax6.set_title(\" 바이올린 그래프에 표시\")"
   ]
  },
  {
   "cell_type": "code",
   "execution_count": null,
   "metadata": {},
   "outputs": [],
   "source": [
    "plt.figure(figsize=(5,5))\n",
    "ax6 = sns.violinplot(x='time', y='total_bill', data=tips, hue='sex', split=True)\n",
    "ax6.set_title(\" 바이올린 그래프에 표시\")"
   ]
  },
  {
   "cell_type": "markdown",
   "metadata": {},
   "source": [
    "## 5. 회귀분석 그래프 regplot\n",
    "\n",
    "이변량의 산점도와 회귀선을 그리는 regplot, lmplot \n",
    "\n"
   ]
  },
  {
   "cell_type": "markdown",
   "metadata": {},
   "source": [
    "### Axes level 회귀/산점도 그래프 regplot\n",
    "\n",
    "\n",
    "`regplot` 메서드를 사용하면 산점도 그래프와 회귀선을 함께 그릴수 있습니다. 만약 회귀선을 제거하려면 fit_reg 인자를 False로 지정하면 됩니다."
   ]
  },
  {
   "cell_type": "code",
   "execution_count": null,
   "metadata": {},
   "outputs": [],
   "source": [
    "plt.figure(figsize=(5,5))\n",
    "ax = sns.regplot(x='total_bill', y='tip', data=tips)\n",
    "ax.set_title('Total Bill 과 Tip의 산점도') \n",
    "ax.set_xlabel('Total Bill') \n",
    "ax.set_ylabel('Tip')\n",
    "plt.show()"
   ]
  },
  {
   "cell_type": "markdown",
   "metadata": {},
   "source": [
    "만약 회귀선을 제거하려면 fit_reg 인자를 False로 지정하면 됩니다."
   ]
  },
  {
   "cell_type": "code",
   "execution_count": null,
   "metadata": {},
   "outputs": [],
   "source": [
    "plt.figure(figsize=(5,5))\n",
    "ax = sns.regplot(x='total_bill', y='tip', data=tips, fit_reg=False) \n",
    "ax.set_title('Total Bill 과 Tip의 산점도') \n",
    "ax.set_xlabel('Total Bill') \n",
    "ax.set_ylabel('Tip')\n",
    "plt.show()"
   ]
  },
  {
   "cell_type": "markdown",
   "metadata": {},
   "source": [
    "### Figure level 회귀 그래프: lmplot\n",
    "\n"
   ]
  },
  {
   "cell_type": "code",
   "execution_count": null,
   "metadata": {},
   "outputs": [],
   "source": [
    "plt.figure(figsize=(5,5))\n",
    "scatter = sns.lmplot(x='total_bill', y='tip', data=tips, hue='sex', fit_reg=False) \n",
    "plt.show()"
   ]
  },
  {
   "cell_type": "markdown",
   "metadata": {},
   "source": [
    "#### markers 인자 이용"
   ]
  },
  {
   "cell_type": "code",
   "execution_count": null,
   "metadata": {},
   "outputs": [],
   "source": [
    "plt.figure(figsize=(5,5))\n",
    "scatter = sns.lmplot(x='total_bill', y='tip', data=tips, hue='sex', fit_reg=False,\n",
    "                    markers=['^','x']) \n",
    "plt.show()"
   ]
  },
  {
   "cell_type": "markdown",
   "metadata": {},
   "source": [
    "### 범주형 그리기\n",
    "\n",
    "데이터 프레임의 범주형 특성을 산점도로 그리면 해당 범주형 레이블이 한꺼번에 산점도 그래프로 그려진다."
   ]
  },
  {
   "cell_type": "code",
   "execution_count": null,
   "metadata": {},
   "outputs": [],
   "source": [
    "anscombe = sns.load_dataset(\"anscombe\")\n",
    "anscombe.head()"
   ]
  },
  {
   "cell_type": "code",
   "execution_count": null,
   "metadata": {},
   "outputs": [],
   "source": [
    "anscombe.dataset.value_counts()"
   ]
  },
  {
   "cell_type": "markdown",
   "metadata": {},
   "source": [
    "범주형의 레이블 별로 그래프를 나누어 그리려면 어떻게 해야 할까요?\n",
    "\n",
    "그룹별로 그래프를 나누어 그리려면 lmplot 메서드에 추가로 col과 col_wrap 인자를 설정해야 합니다. col_wrap 인자에는 그래프를 그릴 열의 최댓값을 지정하고 col 인자에는 데이터 그룹을 구분할 열(dataset)을 지정했습니다."
   ]
  },
  {
   "cell_type": "code",
   "execution_count": null,
   "metadata": {},
   "outputs": [],
   "source": [
    "plt.figure(figsize=(5,5))\n",
    "scatter = sns.lmplot(x='x', y='y', data=anscombe, fit_reg=False,\n",
    "                           col='dataset', col_wrap=2)"
   ]
  },
  {
   "cell_type": "markdown",
   "metadata": {},
   "source": [
    "## 6. joinplot : 산점도+히스토그램\n",
    "\n",
    "산점도 그래프와 히스토그램을 한 번에 그려주는 joinplot 메서드를 사용해 보겠습니다."
   ]
  },
  {
   "cell_type": "code",
   "execution_count": null,
   "metadata": {},
   "outputs": [],
   "source": [
    "ax = sns.jointplot(x='total_bill', y='tip', data=tips)\n",
    "ax.set_axis_labels(xlabel='Total Bill', ylabel='Tip')\n",
    "ax.fig.suptitle('Joint Plot of Total Bill and Tip', fontsize=10, y=1.03)\n",
    "plt.show()"
   ]
  },
  {
   "cell_type": "markdown",
   "metadata": {},
   "source": [
    "산점도 그래프는 점이 겹처 보일 경우 점을 구분하기 어렵다는 단점이 있습니다. 만약 산점도 그래프의 데이터를 구분하기 쉽게 그리고 싶다면 육각 그래프(hexbin)를 사용하면 됩니다. 육각 그래프는 2차원 표면에 육각형으로 데이터를 쌓아 표현하는 그래프입니다. 그래서 특정 데이터의 개수가 많아지면 점점 진한 색으로 표현됩니다. 육각 그래프는 과정 2에서 사용한 jointplot 메서드를 그래도 사용합니다. 대신 Kind 인잣값을 hex로 지정하면 됩니다."
   ]
  },
  {
   "cell_type": "code",
   "execution_count": null,
   "metadata": {},
   "outputs": [],
   "source": [
    "ax = sns.jointplot(x='total_bill', y='tip', data=tips, kind='hex')\n",
    "ax.set_axis_labels(xlabel='Total Bill', ylabel='Tip')\n",
    "ax.fig.suptitle('Joint Plot of Total Bill and Tip', fontsize=10, y=1.03)\n",
    "plt.show()"
   ]
  },
  {
   "cell_type": "code",
   "execution_count": null,
   "metadata": {},
   "outputs": [],
   "source": [
    "iris = sns.load_dataset(\"iris\")"
   ]
  },
  {
   "cell_type": "code",
   "execution_count": null,
   "metadata": {},
   "outputs": [],
   "source": [
    "\n",
    "joint = sns.jointplot(\"petal_length\", \"sepal_length\", data=iris,\n",
    "                          marginal_kws=dict(bins=15, rug=True),\n",
    "                       annot_kws=dict(stat=\"r\"),\n",
    "                        s=40, edgecolor=\"w\", linewidth=1)\n",
    "\n",
    "joint.set_axis_labels(xlabel='petal_length', ylabel=\"sepal_length\")\n",
    "joint.fig.suptitle('Joint Plot of iris', fontsize=10, y=1.03)"
   ]
  },
  {
   "cell_type": "code",
   "execution_count": null,
   "metadata": {},
   "outputs": [],
   "source": []
  },
  {
   "cell_type": "markdown",
   "metadata": {},
   "source": [
    "##  7. 관계 그래프 그리기\n",
    "\n",
    "관계 그래프는 지금까지 설명한 그래프를 종합한 그래프라고 생각하면 됩니다. 관계 그래프는 pairplot 메서드에 데이터프레임을 넣는 방법으로 간단하게 그릴 수 있습니다."
   ]
  },
  {
   "cell_type": "code",
   "execution_count": null,
   "metadata": {},
   "outputs": [],
   "source": [
    "sns.pairplot(tips)"
   ]
  },
  {
   "cell_type": "markdown",
   "metadata": {},
   "source": [
    "특성 그룹으로 관계 그래프 그리기"
   ]
  },
  {
   "cell_type": "code",
   "execution_count": null,
   "metadata": {},
   "outputs": [],
   "source": [
    "fig = sns.pairplot(tips, hue='sex')"
   ]
  },
  {
   "cell_type": "markdown",
   "metadata": {},
   "source": [
    "### pairgrid 이용 중복 배제\n",
    "\n",
    "PairGrid는 그래프가 그려지는 위치를 직접 지정하여 원하는 그래프로 그려진다. \n",
    " - map_upper 메서드는 대각선을 기준으로 위쪽에 그릴 그래프를 지정합니다. \n",
    " - 반대로 map_lower 메서드는 대각선을 기준으로 아래쪽에 그릴 그래프를 지정합니다. \n",
    " - map_diag는 대각선 중심으로 그래프를 그립니다. \n",
    " \n",
    "다음은 이차원 밀집도를 대각선 기준으로 아래쪽에, 산점도 그래프는 대각선 기준으로 위쪽에 그런 것입니다. 히스토 그램과 밀집도는 대각선을 중심으로 그려집니다."
   ]
  },
  {
   "cell_type": "code",
   "execution_count": null,
   "metadata": {},
   "outputs": [],
   "source": [
    "pair_grid = sns.PairGrid(tips)\n",
    "pair_grid = pair_grid.map_upper(sns.regplot)\n",
    "pair_grid = pair_grid.map_lower(sns.kdeplot)\n",
    "pair_grid = pair_grid.map_diag(sns.histplot, kde=True)\n",
    "plt.show()"
   ]
  },
  {
   "cell_type": "code",
   "execution_count": null,
   "metadata": {},
   "outputs": [],
   "source": []
  },
  {
   "cell_type": "code",
   "execution_count": null,
   "metadata": {},
   "outputs": [],
   "source": []
  },
  {
   "cell_type": "markdown",
   "metadata": {},
   "source": [
    "## Figure level과 Axes level 그래프\n",
    "\n",
    "- https://seaborn.pydata.org/tutorial/function_overview.html#figure-level-vs-axes-level-functions\n",
    "- https://stackoverflow.com/questions/63895392/seaborn-is-not-plotting-within-defined-subplots"
   ]
  },
  {
   "cell_type": "markdown",
   "metadata": {},
   "source": [
    "Axes 레벨\n",
    " - seaborn 함수에서 반환하는 matplotlib.pyplot.Axes 에 그래프를 그린다.\n",
    " - ~~distplot~~, histplot, kdeplot 등"
   ]
  },
  {
   "cell_type": "markdown",
   "metadata": {},
   "source": [
    "Figure 레벨\n",
    " - Seborn 의 FacetGrid 를 통해서 그린다.\n",
    " - relplot, displot, catplot 상위 FaceGrid 모듈은 하위에 다양한 단일 Axes-level의 함수를 지원한다.\n",
    "\n",
    "<img src='https://seaborn.pydata.org/_images/function_overview_8_0.png' width='600'>"
   ]
  },
  {
   "cell_type": "markdown",
   "metadata": {},
   "source": [
    "### Axes Level Plot\n",
    "\n",
    "`histplot`, `kdeplot`, `rugplot` 등..."
   ]
  },
  {
   "cell_type": "code",
   "execution_count": null,
   "metadata": {},
   "outputs": [],
   "source": [
    "tips.head()"
   ]
  },
  {
   "cell_type": "code",
   "execution_count": null,
   "metadata": {},
   "outputs": [],
   "source": [
    "# select the columns to be plotted\n",
    "cols = ['tip', 'total_bill']\n",
    "\n",
    "# create the figure and axes\n",
    "fig, axes = plt.subplots(1, 2)\n",
    "axes = axes.ravel()  # flattening the array makes indexing easier\n",
    "\n",
    "for col, ax in zip(cols, axes):\n",
    "    sns.histplot(data=tips[col], kde=True, stat='density', ax=ax)\n",
    "\n",
    "fig.tight_layout()\n",
    "plt.show()"
   ]
  },
  {
   "cell_type": "code",
   "execution_count": null,
   "metadata": {},
   "outputs": [],
   "source": []
  },
  {
   "cell_type": "code",
   "execution_count": null,
   "metadata": {},
   "outputs": [],
   "source": []
  },
  {
   "cell_type": "markdown",
   "metadata": {},
   "source": [
    "### Figure Level"
   ]
  },
  {
   "cell_type": "code",
   "execution_count": null,
   "metadata": {},
   "outputs": [],
   "source": [
    "# create a long dataframe\n",
    "df1 = tips.melt(id_vars='sex', value_vars=['tip', 'total_bill'], var_name='bill_size', value_name='vals')\n",
    "df1"
   ]
  },
  {
   "cell_type": "code",
   "execution_count": null,
   "metadata": {},
   "outputs": [],
   "source": [
    "# plot\n",
    "sns.displot(data=dfl, x='vals', col='bill_size', kde=True, stat='density', \n",
    "            common_bins=False, common_norm=False, height=4, \n",
    "            facet_kws={'sharey': False, 'sharex': False})"
   ]
  },
  {
   "cell_type": "code",
   "execution_count": null,
   "metadata": {},
   "outputs": [],
   "source": []
  },
  {
   "cell_type": "code",
   "execution_count": null,
   "metadata": {},
   "outputs": [],
   "source": []
  }
 ],
 "metadata": {
  "kernelspec": {
   "display_name": "Python 3 (ipykernel)",
   "language": "python",
   "name": "python3"
  },
  "language_info": {
   "codemirror_mode": {
    "name": "ipython",
    "version": 3
   },
   "file_extension": ".py",
   "mimetype": "text/x-python",
   "name": "python",
   "nbconvert_exporter": "python",
   "pygments_lexer": "ipython3",
   "version": "3.10.9"
  }
 },
 "nbformat": 4,
 "nbformat_minor": 4
}
